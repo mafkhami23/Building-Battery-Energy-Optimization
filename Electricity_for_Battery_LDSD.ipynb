{
  "nbformat": 4,
  "nbformat_minor": 0,
  "metadata": {
    "colab": {
      "name": "Electricity_for_Battery_LDSD.ipynb",
      "provenance": [],
      "collapsed_sections": [
        "PzjJznNhx4CC",
        "J9NN1G9R3ZD4",
        "t2uOTpxr3iHj",
        "I31JaqtzKUhW",
        "3uGbnB34viEe"
      ],
      "toc_visible": true
    },
    "kernelspec": {
      "name": "python3",
      "display_name": "Python 3"
    },
    "language_info": {
      "name": "python"
    }
  },
  "cells": [
    {
      "cell_type": "markdown",
      "source": [
        "# **Adding Datetime**"
      ],
      "metadata": {
        "id": "DrOCGeNRC7Ra"
      }
    },
    {
      "cell_type": "code",
      "metadata": {
        "id": "vJB22Uzc7C7z"
      },
      "source": [
        "import matplotlib.pyplot as plt\n",
        "import numpy as np\n",
        "import pandas as pd"
      ],
      "execution_count": 1,
      "outputs": []
    },
    {
      "cell_type": "code",
      "metadata": {
        "id": "AaLDeyX58BNy"
      },
      "source": [
        "df = pd.read_excel(\"/content/Electricity.xlsx\",sheet_name=\"Electricity Usage_9440\")"
      ],
      "execution_count": 2,
      "outputs": []
    },
    {
      "cell_type": "code",
      "metadata": {
        "colab": {
          "base_uri": "https://localhost:8080/",
          "height": 833
        },
        "id": "tPqkZb358XYZ",
        "outputId": "c5410f54-0b14-437e-a3d6-1d6fef9381a8"
      },
      "source": [
        "df.head(25)"
      ],
      "execution_count": 3,
      "outputs": [
        {
          "output_type": "execute_result",
          "data": {
            "text/plain": [
              "                   Date      Time  Electricity (kW)  Elctricity Generated (kW)\n",
              "0   2022-01-01 00:00:00  00:30:00               7.8                   0.000000\n",
              "1   2022-01-01 00:00:00  01:30:00               8.5                   0.000000\n",
              "2   2022-01-01 00:00:00  02:30:00               9.4                   0.000000\n",
              "3   2022-01-01 00:00:00  03:30:00              11.6                   0.000000\n",
              "4   2022-01-01 00:00:00  04:30:00              56.1                   0.000000\n",
              "5   2022-01-01 00:00:00  05:30:00              62.9                   0.000000\n",
              "6   2022-01-01 00:00:00  06:30:00              71.5                   0.000000\n",
              "7   2022-01-01 00:00:00  07:30:00              87.4                 -10.486470\n",
              "8   2022-01-01 00:00:00  08:30:00             128.5                 -84.059356\n",
              "9   2022-01-01 00:00:00  09:30:00             122.4                -168.280155\n",
              "10  2022-01-01 00:00:00  10:30:00             116.9                -225.110435\n",
              "11  2022-01-01 00:00:00  11:30:00             115.0                -251.863093\n",
              "12  2022-01-01 00:00:00  12:30:00             102.0                -238.124616\n",
              "13  2022-01-01 00:00:00  13:30:00             112.8                -223.160813\n",
              "14  2022-01-01 00:00:00  14:30:00              99.7                -178.336794\n",
              "15  2022-01-01 00:00:00  15:30:00              88.0                -108.254124\n",
              "16  2022-01-01 00:00:00  16:30:00              52.5                 -27.306428\n",
              "17  2022-01-01 00:00:00  17:30:00              25.0                  -0.223559\n",
              "18  2022-01-01 00:00:00  18:30:00              24.9                   0.000000\n",
              "19  2022-01-01 00:00:00  19:30:00              21.4                   0.000000\n",
              "20  2022-01-01 00:00:00  20:30:00              15.6                   0.000000\n",
              "21  2022-01-01 00:00:00  21:30:00              15.6                   0.000000\n",
              "22  2022-01-01 00:00:00  22:30:00              10.1                   0.000000\n",
              "23  2022-01-01 00:00:00  23:30:00               8.4                   0.000000\n",
              "24  2022-01-02 00:00:00  00:30:00               6.8                   0.000000"
            ],
            "text/html": [
              "\n",
              "  <div id=\"df-ebc5b568-3e82-49d3-9a94-b6cd38226345\">\n",
              "    <div class=\"colab-df-container\">\n",
              "      <div>\n",
              "<style scoped>\n",
              "    .dataframe tbody tr th:only-of-type {\n",
              "        vertical-align: middle;\n",
              "    }\n",
              "\n",
              "    .dataframe tbody tr th {\n",
              "        vertical-align: top;\n",
              "    }\n",
              "\n",
              "    .dataframe thead th {\n",
              "        text-align: right;\n",
              "    }\n",
              "</style>\n",
              "<table border=\"1\" class=\"dataframe\">\n",
              "  <thead>\n",
              "    <tr style=\"text-align: right;\">\n",
              "      <th></th>\n",
              "      <th>Date</th>\n",
              "      <th>Time</th>\n",
              "      <th>Electricity (kW)</th>\n",
              "      <th>Elctricity Generated (kW)</th>\n",
              "    </tr>\n",
              "  </thead>\n",
              "  <tbody>\n",
              "    <tr>\n",
              "      <th>0</th>\n",
              "      <td>2022-01-01 00:00:00</td>\n",
              "      <td>00:30:00</td>\n",
              "      <td>7.8</td>\n",
              "      <td>0.000000</td>\n",
              "    </tr>\n",
              "    <tr>\n",
              "      <th>1</th>\n",
              "      <td>2022-01-01 00:00:00</td>\n",
              "      <td>01:30:00</td>\n",
              "      <td>8.5</td>\n",
              "      <td>0.000000</td>\n",
              "    </tr>\n",
              "    <tr>\n",
              "      <th>2</th>\n",
              "      <td>2022-01-01 00:00:00</td>\n",
              "      <td>02:30:00</td>\n",
              "      <td>9.4</td>\n",
              "      <td>0.000000</td>\n",
              "    </tr>\n",
              "    <tr>\n",
              "      <th>3</th>\n",
              "      <td>2022-01-01 00:00:00</td>\n",
              "      <td>03:30:00</td>\n",
              "      <td>11.6</td>\n",
              "      <td>0.000000</td>\n",
              "    </tr>\n",
              "    <tr>\n",
              "      <th>4</th>\n",
              "      <td>2022-01-01 00:00:00</td>\n",
              "      <td>04:30:00</td>\n",
              "      <td>56.1</td>\n",
              "      <td>0.000000</td>\n",
              "    </tr>\n",
              "    <tr>\n",
              "      <th>5</th>\n",
              "      <td>2022-01-01 00:00:00</td>\n",
              "      <td>05:30:00</td>\n",
              "      <td>62.9</td>\n",
              "      <td>0.000000</td>\n",
              "    </tr>\n",
              "    <tr>\n",
              "      <th>6</th>\n",
              "      <td>2022-01-01 00:00:00</td>\n",
              "      <td>06:30:00</td>\n",
              "      <td>71.5</td>\n",
              "      <td>0.000000</td>\n",
              "    </tr>\n",
              "    <tr>\n",
              "      <th>7</th>\n",
              "      <td>2022-01-01 00:00:00</td>\n",
              "      <td>07:30:00</td>\n",
              "      <td>87.4</td>\n",
              "      <td>-10.486470</td>\n",
              "    </tr>\n",
              "    <tr>\n",
              "      <th>8</th>\n",
              "      <td>2022-01-01 00:00:00</td>\n",
              "      <td>08:30:00</td>\n",
              "      <td>128.5</td>\n",
              "      <td>-84.059356</td>\n",
              "    </tr>\n",
              "    <tr>\n",
              "      <th>9</th>\n",
              "      <td>2022-01-01 00:00:00</td>\n",
              "      <td>09:30:00</td>\n",
              "      <td>122.4</td>\n",
              "      <td>-168.280155</td>\n",
              "    </tr>\n",
              "    <tr>\n",
              "      <th>10</th>\n",
              "      <td>2022-01-01 00:00:00</td>\n",
              "      <td>10:30:00</td>\n",
              "      <td>116.9</td>\n",
              "      <td>-225.110435</td>\n",
              "    </tr>\n",
              "    <tr>\n",
              "      <th>11</th>\n",
              "      <td>2022-01-01 00:00:00</td>\n",
              "      <td>11:30:00</td>\n",
              "      <td>115.0</td>\n",
              "      <td>-251.863093</td>\n",
              "    </tr>\n",
              "    <tr>\n",
              "      <th>12</th>\n",
              "      <td>2022-01-01 00:00:00</td>\n",
              "      <td>12:30:00</td>\n",
              "      <td>102.0</td>\n",
              "      <td>-238.124616</td>\n",
              "    </tr>\n",
              "    <tr>\n",
              "      <th>13</th>\n",
              "      <td>2022-01-01 00:00:00</td>\n",
              "      <td>13:30:00</td>\n",
              "      <td>112.8</td>\n",
              "      <td>-223.160813</td>\n",
              "    </tr>\n",
              "    <tr>\n",
              "      <th>14</th>\n",
              "      <td>2022-01-01 00:00:00</td>\n",
              "      <td>14:30:00</td>\n",
              "      <td>99.7</td>\n",
              "      <td>-178.336794</td>\n",
              "    </tr>\n",
              "    <tr>\n",
              "      <th>15</th>\n",
              "      <td>2022-01-01 00:00:00</td>\n",
              "      <td>15:30:00</td>\n",
              "      <td>88.0</td>\n",
              "      <td>-108.254124</td>\n",
              "    </tr>\n",
              "    <tr>\n",
              "      <th>16</th>\n",
              "      <td>2022-01-01 00:00:00</td>\n",
              "      <td>16:30:00</td>\n",
              "      <td>52.5</td>\n",
              "      <td>-27.306428</td>\n",
              "    </tr>\n",
              "    <tr>\n",
              "      <th>17</th>\n",
              "      <td>2022-01-01 00:00:00</td>\n",
              "      <td>17:30:00</td>\n",
              "      <td>25.0</td>\n",
              "      <td>-0.223559</td>\n",
              "    </tr>\n",
              "    <tr>\n",
              "      <th>18</th>\n",
              "      <td>2022-01-01 00:00:00</td>\n",
              "      <td>18:30:00</td>\n",
              "      <td>24.9</td>\n",
              "      <td>0.000000</td>\n",
              "    </tr>\n",
              "    <tr>\n",
              "      <th>19</th>\n",
              "      <td>2022-01-01 00:00:00</td>\n",
              "      <td>19:30:00</td>\n",
              "      <td>21.4</td>\n",
              "      <td>0.000000</td>\n",
              "    </tr>\n",
              "    <tr>\n",
              "      <th>20</th>\n",
              "      <td>2022-01-01 00:00:00</td>\n",
              "      <td>20:30:00</td>\n",
              "      <td>15.6</td>\n",
              "      <td>0.000000</td>\n",
              "    </tr>\n",
              "    <tr>\n",
              "      <th>21</th>\n",
              "      <td>2022-01-01 00:00:00</td>\n",
              "      <td>21:30:00</td>\n",
              "      <td>15.6</td>\n",
              "      <td>0.000000</td>\n",
              "    </tr>\n",
              "    <tr>\n",
              "      <th>22</th>\n",
              "      <td>2022-01-01 00:00:00</td>\n",
              "      <td>22:30:00</td>\n",
              "      <td>10.1</td>\n",
              "      <td>0.000000</td>\n",
              "    </tr>\n",
              "    <tr>\n",
              "      <th>23</th>\n",
              "      <td>2022-01-01 00:00:00</td>\n",
              "      <td>23:30:00</td>\n",
              "      <td>8.4</td>\n",
              "      <td>0.000000</td>\n",
              "    </tr>\n",
              "    <tr>\n",
              "      <th>24</th>\n",
              "      <td>2022-01-02 00:00:00</td>\n",
              "      <td>00:30:00</td>\n",
              "      <td>6.8</td>\n",
              "      <td>0.000000</td>\n",
              "    </tr>\n",
              "  </tbody>\n",
              "</table>\n",
              "</div>\n",
              "      <button class=\"colab-df-convert\" onclick=\"convertToInteractive('df-ebc5b568-3e82-49d3-9a94-b6cd38226345')\"\n",
              "              title=\"Convert this dataframe to an interactive table.\"\n",
              "              style=\"display:none;\">\n",
              "        \n",
              "  <svg xmlns=\"http://www.w3.org/2000/svg\" height=\"24px\"viewBox=\"0 0 24 24\"\n",
              "       width=\"24px\">\n",
              "    <path d=\"M0 0h24v24H0V0z\" fill=\"none\"/>\n",
              "    <path d=\"M18.56 5.44l.94 2.06.94-2.06 2.06-.94-2.06-.94-.94-2.06-.94 2.06-2.06.94zm-11 1L8.5 8.5l.94-2.06 2.06-.94-2.06-.94L8.5 2.5l-.94 2.06-2.06.94zm10 10l.94 2.06.94-2.06 2.06-.94-2.06-.94-.94-2.06-.94 2.06-2.06.94z\"/><path d=\"M17.41 7.96l-1.37-1.37c-.4-.4-.92-.59-1.43-.59-.52 0-1.04.2-1.43.59L10.3 9.45l-7.72 7.72c-.78.78-.78 2.05 0 2.83L4 21.41c.39.39.9.59 1.41.59.51 0 1.02-.2 1.41-.59l7.78-7.78 2.81-2.81c.8-.78.8-2.07 0-2.86zM5.41 20L4 18.59l7.72-7.72 1.47 1.35L5.41 20z\"/>\n",
              "  </svg>\n",
              "      </button>\n",
              "      \n",
              "  <style>\n",
              "    .colab-df-container {\n",
              "      display:flex;\n",
              "      flex-wrap:wrap;\n",
              "      gap: 12px;\n",
              "    }\n",
              "\n",
              "    .colab-df-convert {\n",
              "      background-color: #E8F0FE;\n",
              "      border: none;\n",
              "      border-radius: 50%;\n",
              "      cursor: pointer;\n",
              "      display: none;\n",
              "      fill: #1967D2;\n",
              "      height: 32px;\n",
              "      padding: 0 0 0 0;\n",
              "      width: 32px;\n",
              "    }\n",
              "\n",
              "    .colab-df-convert:hover {\n",
              "      background-color: #E2EBFA;\n",
              "      box-shadow: 0px 1px 2px rgba(60, 64, 67, 0.3), 0px 1px 3px 1px rgba(60, 64, 67, 0.15);\n",
              "      fill: #174EA6;\n",
              "    }\n",
              "\n",
              "    [theme=dark] .colab-df-convert {\n",
              "      background-color: #3B4455;\n",
              "      fill: #D2E3FC;\n",
              "    }\n",
              "\n",
              "    [theme=dark] .colab-df-convert:hover {\n",
              "      background-color: #434B5C;\n",
              "      box-shadow: 0px 1px 3px 1px rgba(0, 0, 0, 0.15);\n",
              "      filter: drop-shadow(0px 1px 2px rgba(0, 0, 0, 0.3));\n",
              "      fill: #FFFFFF;\n",
              "    }\n",
              "  </style>\n",
              "\n",
              "      <script>\n",
              "        const buttonEl =\n",
              "          document.querySelector('#df-ebc5b568-3e82-49d3-9a94-b6cd38226345 button.colab-df-convert');\n",
              "        buttonEl.style.display =\n",
              "          google.colab.kernel.accessAllowed ? 'block' : 'none';\n",
              "\n",
              "        async function convertToInteractive(key) {\n",
              "          const element = document.querySelector('#df-ebc5b568-3e82-49d3-9a94-b6cd38226345');\n",
              "          const dataTable =\n",
              "            await google.colab.kernel.invokeFunction('convertToInteractive',\n",
              "                                                     [key], {});\n",
              "          if (!dataTable) return;\n",
              "\n",
              "          const docLinkHtml = 'Like what you see? Visit the ' +\n",
              "            '<a target=\"_blank\" href=https://colab.research.google.com/notebooks/data_table.ipynb>data table notebook</a>'\n",
              "            + ' to learn more about interactive tables.';\n",
              "          element.innerHTML = '';\n",
              "          dataTable['output_type'] = 'display_data';\n",
              "          await google.colab.output.renderOutput(dataTable, element);\n",
              "          const docLink = document.createElement('div');\n",
              "          docLink.innerHTML = docLinkHtml;\n",
              "          element.appendChild(docLink);\n",
              "        }\n",
              "      </script>\n",
              "    </div>\n",
              "  </div>\n",
              "  "
            ]
          },
          "metadata": {},
          "execution_count": 3
        }
      ]
    },
    {
      "cell_type": "code",
      "metadata": {
        "colab": {
          "base_uri": "https://localhost:8080/"
        },
        "id": "XE9s94HE8d9Z",
        "outputId": "dff1f050-3d59-4118-d4e4-92e7654082c3"
      },
      "source": [
        "df.info()"
      ],
      "execution_count": 4,
      "outputs": [
        {
          "output_type": "stream",
          "name": "stdout",
          "text": [
            "<class 'pandas.core.frame.DataFrame'>\n",
            "RangeIndex: 8760 entries, 0 to 8759\n",
            "Data columns (total 4 columns):\n",
            " #   Column                     Non-Null Count  Dtype  \n",
            "---  ------                     --------------  -----  \n",
            " 0   Date                       8760 non-null   object \n",
            " 1   Time                       8760 non-null   object \n",
            " 2   Electricity (kW)           8760 non-null   float64\n",
            " 3   Elctricity Generated (kW)  8760 non-null   float64\n",
            "dtypes: float64(2), object(2)\n",
            "memory usage: 273.9+ KB\n"
          ]
        }
      ]
    },
    {
      "cell_type": "markdown",
      "metadata": {
        "id": "IBpfkBWbu4iE"
      },
      "source": [
        "Finding off-peaks"
      ]
    },
    {
      "cell_type": "code",
      "source": [
        "df.Time"
      ],
      "metadata": {
        "colab": {
          "base_uri": "https://localhost:8080/"
        },
        "id": "lGb7gcWfdm-g",
        "outputId": "61043944-2466-4349-eb0d-27459afa9ea0"
      },
      "execution_count": 5,
      "outputs": [
        {
          "output_type": "execute_result",
          "data": {
            "text/plain": [
              "0       00:30:00\n",
              "1       01:30:00\n",
              "2       02:30:00\n",
              "3       03:30:00\n",
              "4       04:30:00\n",
              "          ...   \n",
              "8755    19:30:00\n",
              "8756    20:30:00\n",
              "8757    21:30:00\n",
              "8758    22:30:00\n",
              "8759    23:30:00\n",
              "Name: Time, Length: 8760, dtype: object"
            ]
          },
          "metadata": {},
          "execution_count": 5
        }
      ]
    },
    {
      "cell_type": "code",
      "source": [
        "df = df.drop(\"Date\",axis = 1)"
      ],
      "metadata": {
        "id": "ceaOgwnwoL41"
      },
      "execution_count": 6,
      "outputs": []
    },
    {
      "cell_type": "code",
      "source": [
        "df.head()"
      ],
      "metadata": {
        "colab": {
          "base_uri": "https://localhost:8080/",
          "height": 206
        },
        "id": "yluapt12oejj",
        "outputId": "0c017c08-0d2f-42dc-a66b-7c511ba0a938"
      },
      "execution_count": 7,
      "outputs": [
        {
          "output_type": "execute_result",
          "data": {
            "text/plain": [
              "       Time  Electricity (kW)  Elctricity Generated (kW)\n",
              "0  00:30:00               7.8                        0.0\n",
              "1  01:30:00               8.5                        0.0\n",
              "2  02:30:00               9.4                        0.0\n",
              "3  03:30:00              11.6                        0.0\n",
              "4  04:30:00              56.1                        0.0"
            ],
            "text/html": [
              "\n",
              "  <div id=\"df-03b58812-b583-4aa0-99d1-9061f9a662b5\">\n",
              "    <div class=\"colab-df-container\">\n",
              "      <div>\n",
              "<style scoped>\n",
              "    .dataframe tbody tr th:only-of-type {\n",
              "        vertical-align: middle;\n",
              "    }\n",
              "\n",
              "    .dataframe tbody tr th {\n",
              "        vertical-align: top;\n",
              "    }\n",
              "\n",
              "    .dataframe thead th {\n",
              "        text-align: right;\n",
              "    }\n",
              "</style>\n",
              "<table border=\"1\" class=\"dataframe\">\n",
              "  <thead>\n",
              "    <tr style=\"text-align: right;\">\n",
              "      <th></th>\n",
              "      <th>Time</th>\n",
              "      <th>Electricity (kW)</th>\n",
              "      <th>Elctricity Generated (kW)</th>\n",
              "    </tr>\n",
              "  </thead>\n",
              "  <tbody>\n",
              "    <tr>\n",
              "      <th>0</th>\n",
              "      <td>00:30:00</td>\n",
              "      <td>7.8</td>\n",
              "      <td>0.0</td>\n",
              "    </tr>\n",
              "    <tr>\n",
              "      <th>1</th>\n",
              "      <td>01:30:00</td>\n",
              "      <td>8.5</td>\n",
              "      <td>0.0</td>\n",
              "    </tr>\n",
              "    <tr>\n",
              "      <th>2</th>\n",
              "      <td>02:30:00</td>\n",
              "      <td>9.4</td>\n",
              "      <td>0.0</td>\n",
              "    </tr>\n",
              "    <tr>\n",
              "      <th>3</th>\n",
              "      <td>03:30:00</td>\n",
              "      <td>11.6</td>\n",
              "      <td>0.0</td>\n",
              "    </tr>\n",
              "    <tr>\n",
              "      <th>4</th>\n",
              "      <td>04:30:00</td>\n",
              "      <td>56.1</td>\n",
              "      <td>0.0</td>\n",
              "    </tr>\n",
              "  </tbody>\n",
              "</table>\n",
              "</div>\n",
              "      <button class=\"colab-df-convert\" onclick=\"convertToInteractive('df-03b58812-b583-4aa0-99d1-9061f9a662b5')\"\n",
              "              title=\"Convert this dataframe to an interactive table.\"\n",
              "              style=\"display:none;\">\n",
              "        \n",
              "  <svg xmlns=\"http://www.w3.org/2000/svg\" height=\"24px\"viewBox=\"0 0 24 24\"\n",
              "       width=\"24px\">\n",
              "    <path d=\"M0 0h24v24H0V0z\" fill=\"none\"/>\n",
              "    <path d=\"M18.56 5.44l.94 2.06.94-2.06 2.06-.94-2.06-.94-.94-2.06-.94 2.06-2.06.94zm-11 1L8.5 8.5l.94-2.06 2.06-.94-2.06-.94L8.5 2.5l-.94 2.06-2.06.94zm10 10l.94 2.06.94-2.06 2.06-.94-2.06-.94-.94-2.06-.94 2.06-2.06.94z\"/><path d=\"M17.41 7.96l-1.37-1.37c-.4-.4-.92-.59-1.43-.59-.52 0-1.04.2-1.43.59L10.3 9.45l-7.72 7.72c-.78.78-.78 2.05 0 2.83L4 21.41c.39.39.9.59 1.41.59.51 0 1.02-.2 1.41-.59l7.78-7.78 2.81-2.81c.8-.78.8-2.07 0-2.86zM5.41 20L4 18.59l7.72-7.72 1.47 1.35L5.41 20z\"/>\n",
              "  </svg>\n",
              "      </button>\n",
              "      \n",
              "  <style>\n",
              "    .colab-df-container {\n",
              "      display:flex;\n",
              "      flex-wrap:wrap;\n",
              "      gap: 12px;\n",
              "    }\n",
              "\n",
              "    .colab-df-convert {\n",
              "      background-color: #E8F0FE;\n",
              "      border: none;\n",
              "      border-radius: 50%;\n",
              "      cursor: pointer;\n",
              "      display: none;\n",
              "      fill: #1967D2;\n",
              "      height: 32px;\n",
              "      padding: 0 0 0 0;\n",
              "      width: 32px;\n",
              "    }\n",
              "\n",
              "    .colab-df-convert:hover {\n",
              "      background-color: #E2EBFA;\n",
              "      box-shadow: 0px 1px 2px rgba(60, 64, 67, 0.3), 0px 1px 3px 1px rgba(60, 64, 67, 0.15);\n",
              "      fill: #174EA6;\n",
              "    }\n",
              "\n",
              "    [theme=dark] .colab-df-convert {\n",
              "      background-color: #3B4455;\n",
              "      fill: #D2E3FC;\n",
              "    }\n",
              "\n",
              "    [theme=dark] .colab-df-convert:hover {\n",
              "      background-color: #434B5C;\n",
              "      box-shadow: 0px 1px 3px 1px rgba(0, 0, 0, 0.15);\n",
              "      filter: drop-shadow(0px 1px 2px rgba(0, 0, 0, 0.3));\n",
              "      fill: #FFFFFF;\n",
              "    }\n",
              "  </style>\n",
              "\n",
              "      <script>\n",
              "        const buttonEl =\n",
              "          document.querySelector('#df-03b58812-b583-4aa0-99d1-9061f9a662b5 button.colab-df-convert');\n",
              "        buttonEl.style.display =\n",
              "          google.colab.kernel.accessAllowed ? 'block' : 'none';\n",
              "\n",
              "        async function convertToInteractive(key) {\n",
              "          const element = document.querySelector('#df-03b58812-b583-4aa0-99d1-9061f9a662b5');\n",
              "          const dataTable =\n",
              "            await google.colab.kernel.invokeFunction('convertToInteractive',\n",
              "                                                     [key], {});\n",
              "          if (!dataTable) return;\n",
              "\n",
              "          const docLinkHtml = 'Like what you see? Visit the ' +\n",
              "            '<a target=\"_blank\" href=https://colab.research.google.com/notebooks/data_table.ipynb>data table notebook</a>'\n",
              "            + ' to learn more about interactive tables.';\n",
              "          element.innerHTML = '';\n",
              "          dataTable['output_type'] = 'display_data';\n",
              "          await google.colab.output.renderOutput(dataTable, element);\n",
              "          const docLink = document.createElement('div');\n",
              "          docLink.innerHTML = docLinkHtml;\n",
              "          element.appendChild(docLink);\n",
              "        }\n",
              "      </script>\n",
              "    </div>\n",
              "  </div>\n",
              "  "
            ]
          },
          "metadata": {},
          "execution_count": 7
        }
      ]
    },
    {
      "cell_type": "code",
      "source": [
        "from datetime import date, timedelta"
      ],
      "metadata": {
        "id": "0N-dC3NkgbiT"
      },
      "execution_count": 8,
      "outputs": []
    },
    {
      "cell_type": "code",
      "source": [
        "sdate = date(2022,1,1)   # start date\n",
        "edate = date(2023,1,1)   # end date"
      ],
      "metadata": {
        "id": "-y_gW7qvgOfv"
      },
      "execution_count": 9,
      "outputs": []
    },
    {
      "cell_type": "code",
      "source": [
        "sdate"
      ],
      "metadata": {
        "id": "xK8zya5_gddX",
        "colab": {
          "base_uri": "https://localhost:8080/"
        },
        "outputId": "bb408e69-9fc7-4219-b1db-6d6ff82a7ace"
      },
      "execution_count": 10,
      "outputs": [
        {
          "output_type": "execute_result",
          "data": {
            "text/plain": [
              "datetime.date(2022, 1, 1)"
            ]
          },
          "metadata": {},
          "execution_count": 10
        }
      ]
    },
    {
      "cell_type": "code",
      "source": [
        "t = pd.date_range(sdate,edate-timedelta(days=1),freq='H')"
      ],
      "metadata": {
        "id": "Oy5IK2hF-RZ7"
      },
      "execution_count": 11,
      "outputs": []
    },
    {
      "cell_type": "code",
      "source": [
        "rng = pd.date_range('1/1/2022 00:30:00', periods= 8760, freq='H')"
      ],
      "metadata": {
        "id": "On9WHUMfim3T"
      },
      "execution_count": 12,
      "outputs": []
    },
    {
      "cell_type": "code",
      "source": [
        "rng"
      ],
      "metadata": {
        "colab": {
          "base_uri": "https://localhost:8080/"
        },
        "id": "b-_yH-3Miy7D",
        "outputId": "d93e014a-96c4-4079-ea39-b14dc0734d22"
      },
      "execution_count": 13,
      "outputs": [
        {
          "output_type": "execute_result",
          "data": {
            "text/plain": [
              "DatetimeIndex(['2022-01-01 00:30:00', '2022-01-01 01:30:00',\n",
              "               '2022-01-01 02:30:00', '2022-01-01 03:30:00',\n",
              "               '2022-01-01 04:30:00', '2022-01-01 05:30:00',\n",
              "               '2022-01-01 06:30:00', '2022-01-01 07:30:00',\n",
              "               '2022-01-01 08:30:00', '2022-01-01 09:30:00',\n",
              "               ...\n",
              "               '2022-12-31 14:30:00', '2022-12-31 15:30:00',\n",
              "               '2022-12-31 16:30:00', '2022-12-31 17:30:00',\n",
              "               '2022-12-31 18:30:00', '2022-12-31 19:30:00',\n",
              "               '2022-12-31 20:30:00', '2022-12-31 21:30:00',\n",
              "               '2022-12-31 22:30:00', '2022-12-31 23:30:00'],\n",
              "              dtype='datetime64[ns]', length=8760, freq='H')"
            ]
          },
          "metadata": {},
          "execution_count": 13
        }
      ]
    },
    {
      "cell_type": "code",
      "source": [
        "#t = t.drop(pd.Timestamp('2020-01-01 00:00:00'))"
      ],
      "metadata": {
        "id": "p-07hV8-gijk"
      },
      "execution_count": 14,
      "outputs": []
    },
    {
      "cell_type": "code",
      "source": [
        "df.insert (0, \"Date\", rng) # put Date in the first column"
      ],
      "metadata": {
        "id": "-mxtaduVo_zw"
      },
      "execution_count": 15,
      "outputs": []
    },
    {
      "cell_type": "code",
      "source": [
        "#df[\"Date\"] =rng"
      ],
      "metadata": {
        "id": "rJFlBuPGf0Hz"
      },
      "execution_count": 16,
      "outputs": []
    },
    {
      "cell_type": "code",
      "source": [
        "df.head()"
      ],
      "metadata": {
        "colab": {
          "base_uri": "https://localhost:8080/",
          "height": 206
        },
        "id": "kBbR1kKnokaP",
        "outputId": "3c55e167-fcfe-478d-c481-1a62e80ae745"
      },
      "execution_count": 17,
      "outputs": [
        {
          "output_type": "execute_result",
          "data": {
            "text/plain": [
              "                 Date      Time  Electricity (kW)  Elctricity Generated (kW)\n",
              "0 2022-01-01 00:30:00  00:30:00               7.8                        0.0\n",
              "1 2022-01-01 01:30:00  01:30:00               8.5                        0.0\n",
              "2 2022-01-01 02:30:00  02:30:00               9.4                        0.0\n",
              "3 2022-01-01 03:30:00  03:30:00              11.6                        0.0\n",
              "4 2022-01-01 04:30:00  04:30:00              56.1                        0.0"
            ],
            "text/html": [
              "\n",
              "  <div id=\"df-858dda06-820b-4626-8bf6-345a8b18ddba\">\n",
              "    <div class=\"colab-df-container\">\n",
              "      <div>\n",
              "<style scoped>\n",
              "    .dataframe tbody tr th:only-of-type {\n",
              "        vertical-align: middle;\n",
              "    }\n",
              "\n",
              "    .dataframe tbody tr th {\n",
              "        vertical-align: top;\n",
              "    }\n",
              "\n",
              "    .dataframe thead th {\n",
              "        text-align: right;\n",
              "    }\n",
              "</style>\n",
              "<table border=\"1\" class=\"dataframe\">\n",
              "  <thead>\n",
              "    <tr style=\"text-align: right;\">\n",
              "      <th></th>\n",
              "      <th>Date</th>\n",
              "      <th>Time</th>\n",
              "      <th>Electricity (kW)</th>\n",
              "      <th>Elctricity Generated (kW)</th>\n",
              "    </tr>\n",
              "  </thead>\n",
              "  <tbody>\n",
              "    <tr>\n",
              "      <th>0</th>\n",
              "      <td>2022-01-01 00:30:00</td>\n",
              "      <td>00:30:00</td>\n",
              "      <td>7.8</td>\n",
              "      <td>0.0</td>\n",
              "    </tr>\n",
              "    <tr>\n",
              "      <th>1</th>\n",
              "      <td>2022-01-01 01:30:00</td>\n",
              "      <td>01:30:00</td>\n",
              "      <td>8.5</td>\n",
              "      <td>0.0</td>\n",
              "    </tr>\n",
              "    <tr>\n",
              "      <th>2</th>\n",
              "      <td>2022-01-01 02:30:00</td>\n",
              "      <td>02:30:00</td>\n",
              "      <td>9.4</td>\n",
              "      <td>0.0</td>\n",
              "    </tr>\n",
              "    <tr>\n",
              "      <th>3</th>\n",
              "      <td>2022-01-01 03:30:00</td>\n",
              "      <td>03:30:00</td>\n",
              "      <td>11.6</td>\n",
              "      <td>0.0</td>\n",
              "    </tr>\n",
              "    <tr>\n",
              "      <th>4</th>\n",
              "      <td>2022-01-01 04:30:00</td>\n",
              "      <td>04:30:00</td>\n",
              "      <td>56.1</td>\n",
              "      <td>0.0</td>\n",
              "    </tr>\n",
              "  </tbody>\n",
              "</table>\n",
              "</div>\n",
              "      <button class=\"colab-df-convert\" onclick=\"convertToInteractive('df-858dda06-820b-4626-8bf6-345a8b18ddba')\"\n",
              "              title=\"Convert this dataframe to an interactive table.\"\n",
              "              style=\"display:none;\">\n",
              "        \n",
              "  <svg xmlns=\"http://www.w3.org/2000/svg\" height=\"24px\"viewBox=\"0 0 24 24\"\n",
              "       width=\"24px\">\n",
              "    <path d=\"M0 0h24v24H0V0z\" fill=\"none\"/>\n",
              "    <path d=\"M18.56 5.44l.94 2.06.94-2.06 2.06-.94-2.06-.94-.94-2.06-.94 2.06-2.06.94zm-11 1L8.5 8.5l.94-2.06 2.06-.94-2.06-.94L8.5 2.5l-.94 2.06-2.06.94zm10 10l.94 2.06.94-2.06 2.06-.94-2.06-.94-.94-2.06-.94 2.06-2.06.94z\"/><path d=\"M17.41 7.96l-1.37-1.37c-.4-.4-.92-.59-1.43-.59-.52 0-1.04.2-1.43.59L10.3 9.45l-7.72 7.72c-.78.78-.78 2.05 0 2.83L4 21.41c.39.39.9.59 1.41.59.51 0 1.02-.2 1.41-.59l7.78-7.78 2.81-2.81c.8-.78.8-2.07 0-2.86zM5.41 20L4 18.59l7.72-7.72 1.47 1.35L5.41 20z\"/>\n",
              "  </svg>\n",
              "      </button>\n",
              "      \n",
              "  <style>\n",
              "    .colab-df-container {\n",
              "      display:flex;\n",
              "      flex-wrap:wrap;\n",
              "      gap: 12px;\n",
              "    }\n",
              "\n",
              "    .colab-df-convert {\n",
              "      background-color: #E8F0FE;\n",
              "      border: none;\n",
              "      border-radius: 50%;\n",
              "      cursor: pointer;\n",
              "      display: none;\n",
              "      fill: #1967D2;\n",
              "      height: 32px;\n",
              "      padding: 0 0 0 0;\n",
              "      width: 32px;\n",
              "    }\n",
              "\n",
              "    .colab-df-convert:hover {\n",
              "      background-color: #E2EBFA;\n",
              "      box-shadow: 0px 1px 2px rgba(60, 64, 67, 0.3), 0px 1px 3px 1px rgba(60, 64, 67, 0.15);\n",
              "      fill: #174EA6;\n",
              "    }\n",
              "\n",
              "    [theme=dark] .colab-df-convert {\n",
              "      background-color: #3B4455;\n",
              "      fill: #D2E3FC;\n",
              "    }\n",
              "\n",
              "    [theme=dark] .colab-df-convert:hover {\n",
              "      background-color: #434B5C;\n",
              "      box-shadow: 0px 1px 3px 1px rgba(0, 0, 0, 0.15);\n",
              "      filter: drop-shadow(0px 1px 2px rgba(0, 0, 0, 0.3));\n",
              "      fill: #FFFFFF;\n",
              "    }\n",
              "  </style>\n",
              "\n",
              "      <script>\n",
              "        const buttonEl =\n",
              "          document.querySelector('#df-858dda06-820b-4626-8bf6-345a8b18ddba button.colab-df-convert');\n",
              "        buttonEl.style.display =\n",
              "          google.colab.kernel.accessAllowed ? 'block' : 'none';\n",
              "\n",
              "        async function convertToInteractive(key) {\n",
              "          const element = document.querySelector('#df-858dda06-820b-4626-8bf6-345a8b18ddba');\n",
              "          const dataTable =\n",
              "            await google.colab.kernel.invokeFunction('convertToInteractive',\n",
              "                                                     [key], {});\n",
              "          if (!dataTable) return;\n",
              "\n",
              "          const docLinkHtml = 'Like what you see? Visit the ' +\n",
              "            '<a target=\"_blank\" href=https://colab.research.google.com/notebooks/data_table.ipynb>data table notebook</a>'\n",
              "            + ' to learn more about interactive tables.';\n",
              "          element.innerHTML = '';\n",
              "          dataTable['output_type'] = 'display_data';\n",
              "          await google.colab.output.renderOutput(dataTable, element);\n",
              "          const docLink = document.createElement('div');\n",
              "          docLink.innerHTML = docLinkHtml;\n",
              "          element.appendChild(docLink);\n",
              "        }\n",
              "      </script>\n",
              "    </div>\n",
              "  </div>\n",
              "  "
            ]
          },
          "metadata": {},
          "execution_count": 17
        }
      ]
    },
    {
      "cell_type": "code",
      "source": [
        "# Sperating the date to month and year\n",
        "df['Date'] = pd.to_datetime(df['Date'],format='%Y%m%d')\n",
        "#df['year'] = pd.DatetimeIndex(df['Date']).year\n",
        "df['month'] = pd.DatetimeIndex(df['Date']).month"
      ],
      "metadata": {
        "id": "dsrGYb-YMJD2"
      },
      "execution_count": 18,
      "outputs": []
    },
    {
      "cell_type": "code",
      "source": [
        "df.head()"
      ],
      "metadata": {
        "colab": {
          "base_uri": "https://localhost:8080/",
          "height": 206
        },
        "id": "v1ahpkbuecVD",
        "outputId": "b66bc563-1e25-4143-e092-0aedcfaedb28"
      },
      "execution_count": 19,
      "outputs": [
        {
          "output_type": "execute_result",
          "data": {
            "text/plain": [
              "                 Date      Time  Electricity (kW)  Elctricity Generated (kW)  \\\n",
              "0 2022-01-01 00:30:00  00:30:00               7.8                        0.0   \n",
              "1 2022-01-01 01:30:00  01:30:00               8.5                        0.0   \n",
              "2 2022-01-01 02:30:00  02:30:00               9.4                        0.0   \n",
              "3 2022-01-01 03:30:00  03:30:00              11.6                        0.0   \n",
              "4 2022-01-01 04:30:00  04:30:00              56.1                        0.0   \n",
              "\n",
              "   month  \n",
              "0      1  \n",
              "1      1  \n",
              "2      1  \n",
              "3      1  \n",
              "4      1  "
            ],
            "text/html": [
              "\n",
              "  <div id=\"df-aef0dad2-157c-4113-bd03-270729376a24\">\n",
              "    <div class=\"colab-df-container\">\n",
              "      <div>\n",
              "<style scoped>\n",
              "    .dataframe tbody tr th:only-of-type {\n",
              "        vertical-align: middle;\n",
              "    }\n",
              "\n",
              "    .dataframe tbody tr th {\n",
              "        vertical-align: top;\n",
              "    }\n",
              "\n",
              "    .dataframe thead th {\n",
              "        text-align: right;\n",
              "    }\n",
              "</style>\n",
              "<table border=\"1\" class=\"dataframe\">\n",
              "  <thead>\n",
              "    <tr style=\"text-align: right;\">\n",
              "      <th></th>\n",
              "      <th>Date</th>\n",
              "      <th>Time</th>\n",
              "      <th>Electricity (kW)</th>\n",
              "      <th>Elctricity Generated (kW)</th>\n",
              "      <th>month</th>\n",
              "    </tr>\n",
              "  </thead>\n",
              "  <tbody>\n",
              "    <tr>\n",
              "      <th>0</th>\n",
              "      <td>2022-01-01 00:30:00</td>\n",
              "      <td>00:30:00</td>\n",
              "      <td>7.8</td>\n",
              "      <td>0.0</td>\n",
              "      <td>1</td>\n",
              "    </tr>\n",
              "    <tr>\n",
              "      <th>1</th>\n",
              "      <td>2022-01-01 01:30:00</td>\n",
              "      <td>01:30:00</td>\n",
              "      <td>8.5</td>\n",
              "      <td>0.0</td>\n",
              "      <td>1</td>\n",
              "    </tr>\n",
              "    <tr>\n",
              "      <th>2</th>\n",
              "      <td>2022-01-01 02:30:00</td>\n",
              "      <td>02:30:00</td>\n",
              "      <td>9.4</td>\n",
              "      <td>0.0</td>\n",
              "      <td>1</td>\n",
              "    </tr>\n",
              "    <tr>\n",
              "      <th>3</th>\n",
              "      <td>2022-01-01 03:30:00</td>\n",
              "      <td>03:30:00</td>\n",
              "      <td>11.6</td>\n",
              "      <td>0.0</td>\n",
              "      <td>1</td>\n",
              "    </tr>\n",
              "    <tr>\n",
              "      <th>4</th>\n",
              "      <td>2022-01-01 04:30:00</td>\n",
              "      <td>04:30:00</td>\n",
              "      <td>56.1</td>\n",
              "      <td>0.0</td>\n",
              "      <td>1</td>\n",
              "    </tr>\n",
              "  </tbody>\n",
              "</table>\n",
              "</div>\n",
              "      <button class=\"colab-df-convert\" onclick=\"convertToInteractive('df-aef0dad2-157c-4113-bd03-270729376a24')\"\n",
              "              title=\"Convert this dataframe to an interactive table.\"\n",
              "              style=\"display:none;\">\n",
              "        \n",
              "  <svg xmlns=\"http://www.w3.org/2000/svg\" height=\"24px\"viewBox=\"0 0 24 24\"\n",
              "       width=\"24px\">\n",
              "    <path d=\"M0 0h24v24H0V0z\" fill=\"none\"/>\n",
              "    <path d=\"M18.56 5.44l.94 2.06.94-2.06 2.06-.94-2.06-.94-.94-2.06-.94 2.06-2.06.94zm-11 1L8.5 8.5l.94-2.06 2.06-.94-2.06-.94L8.5 2.5l-.94 2.06-2.06.94zm10 10l.94 2.06.94-2.06 2.06-.94-2.06-.94-.94-2.06-.94 2.06-2.06.94z\"/><path d=\"M17.41 7.96l-1.37-1.37c-.4-.4-.92-.59-1.43-.59-.52 0-1.04.2-1.43.59L10.3 9.45l-7.72 7.72c-.78.78-.78 2.05 0 2.83L4 21.41c.39.39.9.59 1.41.59.51 0 1.02-.2 1.41-.59l7.78-7.78 2.81-2.81c.8-.78.8-2.07 0-2.86zM5.41 20L4 18.59l7.72-7.72 1.47 1.35L5.41 20z\"/>\n",
              "  </svg>\n",
              "      </button>\n",
              "      \n",
              "  <style>\n",
              "    .colab-df-container {\n",
              "      display:flex;\n",
              "      flex-wrap:wrap;\n",
              "      gap: 12px;\n",
              "    }\n",
              "\n",
              "    .colab-df-convert {\n",
              "      background-color: #E8F0FE;\n",
              "      border: none;\n",
              "      border-radius: 50%;\n",
              "      cursor: pointer;\n",
              "      display: none;\n",
              "      fill: #1967D2;\n",
              "      height: 32px;\n",
              "      padding: 0 0 0 0;\n",
              "      width: 32px;\n",
              "    }\n",
              "\n",
              "    .colab-df-convert:hover {\n",
              "      background-color: #E2EBFA;\n",
              "      box-shadow: 0px 1px 2px rgba(60, 64, 67, 0.3), 0px 1px 3px 1px rgba(60, 64, 67, 0.15);\n",
              "      fill: #174EA6;\n",
              "    }\n",
              "\n",
              "    [theme=dark] .colab-df-convert {\n",
              "      background-color: #3B4455;\n",
              "      fill: #D2E3FC;\n",
              "    }\n",
              "\n",
              "    [theme=dark] .colab-df-convert:hover {\n",
              "      background-color: #434B5C;\n",
              "      box-shadow: 0px 1px 3px 1px rgba(0, 0, 0, 0.15);\n",
              "      filter: drop-shadow(0px 1px 2px rgba(0, 0, 0, 0.3));\n",
              "      fill: #FFFFFF;\n",
              "    }\n",
              "  </style>\n",
              "\n",
              "      <script>\n",
              "        const buttonEl =\n",
              "          document.querySelector('#df-aef0dad2-157c-4113-bd03-270729376a24 button.colab-df-convert');\n",
              "        buttonEl.style.display =\n",
              "          google.colab.kernel.accessAllowed ? 'block' : 'none';\n",
              "\n",
              "        async function convertToInteractive(key) {\n",
              "          const element = document.querySelector('#df-aef0dad2-157c-4113-bd03-270729376a24');\n",
              "          const dataTable =\n",
              "            await google.colab.kernel.invokeFunction('convertToInteractive',\n",
              "                                                     [key], {});\n",
              "          if (!dataTable) return;\n",
              "\n",
              "          const docLinkHtml = 'Like what you see? Visit the ' +\n",
              "            '<a target=\"_blank\" href=https://colab.research.google.com/notebooks/data_table.ipynb>data table notebook</a>'\n",
              "            + ' to learn more about interactive tables.';\n",
              "          element.innerHTML = '';\n",
              "          dataTable['output_type'] = 'display_data';\n",
              "          await google.colab.output.renderOutput(dataTable, element);\n",
              "          const docLink = document.createElement('div');\n",
              "          docLink.innerHTML = docLinkHtml;\n",
              "          element.appendChild(docLink);\n",
              "        }\n",
              "      </script>\n",
              "    </div>\n",
              "  </div>\n",
              "  "
            ]
          },
          "metadata": {},
          "execution_count": 19
        }
      ]
    },
    {
      "cell_type": "code",
      "source": [
        "df = df.drop([\"Time\"],axis = 1)"
      ],
      "metadata": {
        "id": "DDvLnCaBxsEt"
      },
      "execution_count": 20,
      "outputs": []
    },
    {
      "cell_type": "code",
      "source": [
        "df.head()"
      ],
      "metadata": {
        "colab": {
          "base_uri": "https://localhost:8080/",
          "height": 206
        },
        "id": "43pxqXRUyDsY",
        "outputId": "0fe50c6c-307c-462d-bdd2-3b376c1511b7"
      },
      "execution_count": 21,
      "outputs": [
        {
          "output_type": "execute_result",
          "data": {
            "text/plain": [
              "                 Date  Electricity (kW)  Elctricity Generated (kW)  month\n",
              "0 2022-01-01 00:30:00               7.8                        0.0      1\n",
              "1 2022-01-01 01:30:00               8.5                        0.0      1\n",
              "2 2022-01-01 02:30:00               9.4                        0.0      1\n",
              "3 2022-01-01 03:30:00              11.6                        0.0      1\n",
              "4 2022-01-01 04:30:00              56.1                        0.0      1"
            ],
            "text/html": [
              "\n",
              "  <div id=\"df-b1d497da-37b0-418f-bcac-683a8f74f186\">\n",
              "    <div class=\"colab-df-container\">\n",
              "      <div>\n",
              "<style scoped>\n",
              "    .dataframe tbody tr th:only-of-type {\n",
              "        vertical-align: middle;\n",
              "    }\n",
              "\n",
              "    .dataframe tbody tr th {\n",
              "        vertical-align: top;\n",
              "    }\n",
              "\n",
              "    .dataframe thead th {\n",
              "        text-align: right;\n",
              "    }\n",
              "</style>\n",
              "<table border=\"1\" class=\"dataframe\">\n",
              "  <thead>\n",
              "    <tr style=\"text-align: right;\">\n",
              "      <th></th>\n",
              "      <th>Date</th>\n",
              "      <th>Electricity (kW)</th>\n",
              "      <th>Elctricity Generated (kW)</th>\n",
              "      <th>month</th>\n",
              "    </tr>\n",
              "  </thead>\n",
              "  <tbody>\n",
              "    <tr>\n",
              "      <th>0</th>\n",
              "      <td>2022-01-01 00:30:00</td>\n",
              "      <td>7.8</td>\n",
              "      <td>0.0</td>\n",
              "      <td>1</td>\n",
              "    </tr>\n",
              "    <tr>\n",
              "      <th>1</th>\n",
              "      <td>2022-01-01 01:30:00</td>\n",
              "      <td>8.5</td>\n",
              "      <td>0.0</td>\n",
              "      <td>1</td>\n",
              "    </tr>\n",
              "    <tr>\n",
              "      <th>2</th>\n",
              "      <td>2022-01-01 02:30:00</td>\n",
              "      <td>9.4</td>\n",
              "      <td>0.0</td>\n",
              "      <td>1</td>\n",
              "    </tr>\n",
              "    <tr>\n",
              "      <th>3</th>\n",
              "      <td>2022-01-01 03:30:00</td>\n",
              "      <td>11.6</td>\n",
              "      <td>0.0</td>\n",
              "      <td>1</td>\n",
              "    </tr>\n",
              "    <tr>\n",
              "      <th>4</th>\n",
              "      <td>2022-01-01 04:30:00</td>\n",
              "      <td>56.1</td>\n",
              "      <td>0.0</td>\n",
              "      <td>1</td>\n",
              "    </tr>\n",
              "  </tbody>\n",
              "</table>\n",
              "</div>\n",
              "      <button class=\"colab-df-convert\" onclick=\"convertToInteractive('df-b1d497da-37b0-418f-bcac-683a8f74f186')\"\n",
              "              title=\"Convert this dataframe to an interactive table.\"\n",
              "              style=\"display:none;\">\n",
              "        \n",
              "  <svg xmlns=\"http://www.w3.org/2000/svg\" height=\"24px\"viewBox=\"0 0 24 24\"\n",
              "       width=\"24px\">\n",
              "    <path d=\"M0 0h24v24H0V0z\" fill=\"none\"/>\n",
              "    <path d=\"M18.56 5.44l.94 2.06.94-2.06 2.06-.94-2.06-.94-.94-2.06-.94 2.06-2.06.94zm-11 1L8.5 8.5l.94-2.06 2.06-.94-2.06-.94L8.5 2.5l-.94 2.06-2.06.94zm10 10l.94 2.06.94-2.06 2.06-.94-2.06-.94-.94-2.06-.94 2.06-2.06.94z\"/><path d=\"M17.41 7.96l-1.37-1.37c-.4-.4-.92-.59-1.43-.59-.52 0-1.04.2-1.43.59L10.3 9.45l-7.72 7.72c-.78.78-.78 2.05 0 2.83L4 21.41c.39.39.9.59 1.41.59.51 0 1.02-.2 1.41-.59l7.78-7.78 2.81-2.81c.8-.78.8-2.07 0-2.86zM5.41 20L4 18.59l7.72-7.72 1.47 1.35L5.41 20z\"/>\n",
              "  </svg>\n",
              "      </button>\n",
              "      \n",
              "  <style>\n",
              "    .colab-df-container {\n",
              "      display:flex;\n",
              "      flex-wrap:wrap;\n",
              "      gap: 12px;\n",
              "    }\n",
              "\n",
              "    .colab-df-convert {\n",
              "      background-color: #E8F0FE;\n",
              "      border: none;\n",
              "      border-radius: 50%;\n",
              "      cursor: pointer;\n",
              "      display: none;\n",
              "      fill: #1967D2;\n",
              "      height: 32px;\n",
              "      padding: 0 0 0 0;\n",
              "      width: 32px;\n",
              "    }\n",
              "\n",
              "    .colab-df-convert:hover {\n",
              "      background-color: #E2EBFA;\n",
              "      box-shadow: 0px 1px 2px rgba(60, 64, 67, 0.3), 0px 1px 3px 1px rgba(60, 64, 67, 0.15);\n",
              "      fill: #174EA6;\n",
              "    }\n",
              "\n",
              "    [theme=dark] .colab-df-convert {\n",
              "      background-color: #3B4455;\n",
              "      fill: #D2E3FC;\n",
              "    }\n",
              "\n",
              "    [theme=dark] .colab-df-convert:hover {\n",
              "      background-color: #434B5C;\n",
              "      box-shadow: 0px 1px 3px 1px rgba(0, 0, 0, 0.15);\n",
              "      filter: drop-shadow(0px 1px 2px rgba(0, 0, 0, 0.3));\n",
              "      fill: #FFFFFF;\n",
              "    }\n",
              "  </style>\n",
              "\n",
              "      <script>\n",
              "        const buttonEl =\n",
              "          document.querySelector('#df-b1d497da-37b0-418f-bcac-683a8f74f186 button.colab-df-convert');\n",
              "        buttonEl.style.display =\n",
              "          google.colab.kernel.accessAllowed ? 'block' : 'none';\n",
              "\n",
              "        async function convertToInteractive(key) {\n",
              "          const element = document.querySelector('#df-b1d497da-37b0-418f-bcac-683a8f74f186');\n",
              "          const dataTable =\n",
              "            await google.colab.kernel.invokeFunction('convertToInteractive',\n",
              "                                                     [key], {});\n",
              "          if (!dataTable) return;\n",
              "\n",
              "          const docLinkHtml = 'Like what you see? Visit the ' +\n",
              "            '<a target=\"_blank\" href=https://colab.research.google.com/notebooks/data_table.ipynb>data table notebook</a>'\n",
              "            + ' to learn more about interactive tables.';\n",
              "          element.innerHTML = '';\n",
              "          dataTable['output_type'] = 'display_data';\n",
              "          await google.colab.output.renderOutput(dataTable, element);\n",
              "          const docLink = document.createElement('div');\n",
              "          docLink.innerHTML = docLinkHtml;\n",
              "          element.appendChild(docLink);\n",
              "        }\n",
              "      </script>\n",
              "    </div>\n",
              "  </div>\n",
              "  "
            ]
          },
          "metadata": {},
          "execution_count": 21
        }
      ]
    },
    {
      "cell_type": "code",
      "source": [
        "df.info()"
      ],
      "metadata": {
        "colab": {
          "base_uri": "https://localhost:8080/"
        },
        "id": "niYv_nWxjqu3",
        "outputId": "35fe3b08-a090-42c0-d6c4-b95257725677"
      },
      "execution_count": 22,
      "outputs": [
        {
          "output_type": "stream",
          "name": "stdout",
          "text": [
            "<class 'pandas.core.frame.DataFrame'>\n",
            "RangeIndex: 8760 entries, 0 to 8759\n",
            "Data columns (total 4 columns):\n",
            " #   Column                     Non-Null Count  Dtype         \n",
            "---  ------                     --------------  -----         \n",
            " 0   Date                       8760 non-null   datetime64[ns]\n",
            " 1   Electricity (kW)           8760 non-null   float64       \n",
            " 2   Elctricity Generated (kW)  8760 non-null   float64       \n",
            " 3   month                      8760 non-null   int64         \n",
            "dtypes: datetime64[ns](1), float64(2), int64(1)\n",
            "memory usage: 273.9 KB\n"
          ]
        }
      ]
    },
    {
      "cell_type": "markdown",
      "source": [
        "# **Adding The Battery**"
      ],
      "metadata": {
        "id": "PzjJznNhx4CC"
      }
    },
    {
      "cell_type": "code",
      "source": [
        "df.set_index('Date', inplace=True)"
      ],
      "metadata": {
        "id": "pHm6PO4lrx9R"
      },
      "execution_count": 23,
      "outputs": []
    },
    {
      "cell_type": "code",
      "source": [
        "df.head()"
      ],
      "metadata": {
        "colab": {
          "base_uri": "https://localhost:8080/",
          "height": 0
        },
        "id": "4T04rO4KsD-H",
        "outputId": "fdcfdb61-585e-4ebe-f214-533b8b67eca7"
      },
      "execution_count": 24,
      "outputs": [
        {
          "output_type": "execute_result",
          "data": {
            "text/plain": [
              "                     Electricity (kW)  Elctricity Generated (kW)  month\n",
              "Date                                                                   \n",
              "2022-01-01 00:30:00               7.8                        0.0      1\n",
              "2022-01-01 01:30:00               8.5                        0.0      1\n",
              "2022-01-01 02:30:00               9.4                        0.0      1\n",
              "2022-01-01 03:30:00              11.6                        0.0      1\n",
              "2022-01-01 04:30:00              56.1                        0.0      1"
            ],
            "text/html": [
              "\n",
              "  <div id=\"df-5023f3c9-5bd2-4e8a-bec8-cad154619eb9\">\n",
              "    <div class=\"colab-df-container\">\n",
              "      <div>\n",
              "<style scoped>\n",
              "    .dataframe tbody tr th:only-of-type {\n",
              "        vertical-align: middle;\n",
              "    }\n",
              "\n",
              "    .dataframe tbody tr th {\n",
              "        vertical-align: top;\n",
              "    }\n",
              "\n",
              "    .dataframe thead th {\n",
              "        text-align: right;\n",
              "    }\n",
              "</style>\n",
              "<table border=\"1\" class=\"dataframe\">\n",
              "  <thead>\n",
              "    <tr style=\"text-align: right;\">\n",
              "      <th></th>\n",
              "      <th>Electricity (kW)</th>\n",
              "      <th>Elctricity Generated (kW)</th>\n",
              "      <th>month</th>\n",
              "    </tr>\n",
              "    <tr>\n",
              "      <th>Date</th>\n",
              "      <th></th>\n",
              "      <th></th>\n",
              "      <th></th>\n",
              "    </tr>\n",
              "  </thead>\n",
              "  <tbody>\n",
              "    <tr>\n",
              "      <th>2022-01-01 00:30:00</th>\n",
              "      <td>7.8</td>\n",
              "      <td>0.0</td>\n",
              "      <td>1</td>\n",
              "    </tr>\n",
              "    <tr>\n",
              "      <th>2022-01-01 01:30:00</th>\n",
              "      <td>8.5</td>\n",
              "      <td>0.0</td>\n",
              "      <td>1</td>\n",
              "    </tr>\n",
              "    <tr>\n",
              "      <th>2022-01-01 02:30:00</th>\n",
              "      <td>9.4</td>\n",
              "      <td>0.0</td>\n",
              "      <td>1</td>\n",
              "    </tr>\n",
              "    <tr>\n",
              "      <th>2022-01-01 03:30:00</th>\n",
              "      <td>11.6</td>\n",
              "      <td>0.0</td>\n",
              "      <td>1</td>\n",
              "    </tr>\n",
              "    <tr>\n",
              "      <th>2022-01-01 04:30:00</th>\n",
              "      <td>56.1</td>\n",
              "      <td>0.0</td>\n",
              "      <td>1</td>\n",
              "    </tr>\n",
              "  </tbody>\n",
              "</table>\n",
              "</div>\n",
              "      <button class=\"colab-df-convert\" onclick=\"convertToInteractive('df-5023f3c9-5bd2-4e8a-bec8-cad154619eb9')\"\n",
              "              title=\"Convert this dataframe to an interactive table.\"\n",
              "              style=\"display:none;\">\n",
              "        \n",
              "  <svg xmlns=\"http://www.w3.org/2000/svg\" height=\"24px\"viewBox=\"0 0 24 24\"\n",
              "       width=\"24px\">\n",
              "    <path d=\"M0 0h24v24H0V0z\" fill=\"none\"/>\n",
              "    <path d=\"M18.56 5.44l.94 2.06.94-2.06 2.06-.94-2.06-.94-.94-2.06-.94 2.06-2.06.94zm-11 1L8.5 8.5l.94-2.06 2.06-.94-2.06-.94L8.5 2.5l-.94 2.06-2.06.94zm10 10l.94 2.06.94-2.06 2.06-.94-2.06-.94-.94-2.06-.94 2.06-2.06.94z\"/><path d=\"M17.41 7.96l-1.37-1.37c-.4-.4-.92-.59-1.43-.59-.52 0-1.04.2-1.43.59L10.3 9.45l-7.72 7.72c-.78.78-.78 2.05 0 2.83L4 21.41c.39.39.9.59 1.41.59.51 0 1.02-.2 1.41-.59l7.78-7.78 2.81-2.81c.8-.78.8-2.07 0-2.86zM5.41 20L4 18.59l7.72-7.72 1.47 1.35L5.41 20z\"/>\n",
              "  </svg>\n",
              "      </button>\n",
              "      \n",
              "  <style>\n",
              "    .colab-df-container {\n",
              "      display:flex;\n",
              "      flex-wrap:wrap;\n",
              "      gap: 12px;\n",
              "    }\n",
              "\n",
              "    .colab-df-convert {\n",
              "      background-color: #E8F0FE;\n",
              "      border: none;\n",
              "      border-radius: 50%;\n",
              "      cursor: pointer;\n",
              "      display: none;\n",
              "      fill: #1967D2;\n",
              "      height: 32px;\n",
              "      padding: 0 0 0 0;\n",
              "      width: 32px;\n",
              "    }\n",
              "\n",
              "    .colab-df-convert:hover {\n",
              "      background-color: #E2EBFA;\n",
              "      box-shadow: 0px 1px 2px rgba(60, 64, 67, 0.3), 0px 1px 3px 1px rgba(60, 64, 67, 0.15);\n",
              "      fill: #174EA6;\n",
              "    }\n",
              "\n",
              "    [theme=dark] .colab-df-convert {\n",
              "      background-color: #3B4455;\n",
              "      fill: #D2E3FC;\n",
              "    }\n",
              "\n",
              "    [theme=dark] .colab-df-convert:hover {\n",
              "      background-color: #434B5C;\n",
              "      box-shadow: 0px 1px 3px 1px rgba(0, 0, 0, 0.15);\n",
              "      filter: drop-shadow(0px 1px 2px rgba(0, 0, 0, 0.3));\n",
              "      fill: #FFFFFF;\n",
              "    }\n",
              "  </style>\n",
              "\n",
              "      <script>\n",
              "        const buttonEl =\n",
              "          document.querySelector('#df-5023f3c9-5bd2-4e8a-bec8-cad154619eb9 button.colab-df-convert');\n",
              "        buttonEl.style.display =\n",
              "          google.colab.kernel.accessAllowed ? 'block' : 'none';\n",
              "\n",
              "        async function convertToInteractive(key) {\n",
              "          const element = document.querySelector('#df-5023f3c9-5bd2-4e8a-bec8-cad154619eb9');\n",
              "          const dataTable =\n",
              "            await google.colab.kernel.invokeFunction('convertToInteractive',\n",
              "                                                     [key], {});\n",
              "          if (!dataTable) return;\n",
              "\n",
              "          const docLinkHtml = 'Like what you see? Visit the ' +\n",
              "            '<a target=\"_blank\" href=https://colab.research.google.com/notebooks/data_table.ipynb>data table notebook</a>'\n",
              "            + ' to learn more about interactive tables.';\n",
              "          element.innerHTML = '';\n",
              "          dataTable['output_type'] = 'display_data';\n",
              "          await google.colab.output.renderOutput(dataTable, element);\n",
              "          const docLink = document.createElement('div');\n",
              "          docLink.innerHTML = docLinkHtml;\n",
              "          element.appendChild(docLink);\n",
              "        }\n",
              "      </script>\n",
              "    </div>\n",
              "  </div>\n",
              "  "
            ]
          },
          "metadata": {},
          "execution_count": 24
        }
      ]
    },
    {
      "cell_type": "code",
      "source": [
        "df.info()"
      ],
      "metadata": {
        "colab": {
          "base_uri": "https://localhost:8080/"
        },
        "id": "2gaPYJ9_qV7-",
        "outputId": "081718db-8841-464d-cdcb-e071e03958b2"
      },
      "execution_count": 25,
      "outputs": [
        {
          "output_type": "stream",
          "name": "stdout",
          "text": [
            "<class 'pandas.core.frame.DataFrame'>\n",
            "DatetimeIndex: 8760 entries, 2022-01-01 00:30:00 to 2022-12-31 23:30:00\n",
            "Data columns (total 3 columns):\n",
            " #   Column                     Non-Null Count  Dtype  \n",
            "---  ------                     --------------  -----  \n",
            " 0   Electricity (kW)           8760 non-null   float64\n",
            " 1   Elctricity Generated (kW)  8760 non-null   float64\n",
            " 2   month                      8760 non-null   int64  \n",
            "dtypes: float64(2), int64(1)\n",
            "memory usage: 273.8 KB\n"
          ]
        }
      ]
    },
    {
      "cell_type": "markdown",
      "source": [
        "**Adding Net Column**"
      ],
      "metadata": {
        "id": "0umYU2sAJ_2R"
      }
    },
    {
      "cell_type": "code",
      "source": [
        "df[\"Net\"]=df[\"Electricity (kW)\"]+df[\"Elctricity Generated (kW)\"]"
      ],
      "metadata": {
        "id": "OORwgcq1u3e2"
      },
      "execution_count": 26,
      "outputs": []
    },
    {
      "cell_type": "markdown",
      "source": [
        "**Adding Energy Used and Battery Residual**"
      ],
      "metadata": {
        "id": "Ta4MEBpDKF0E"
      }
    },
    {
      "cell_type": "code",
      "source": [
        "Energy_Used = []\n",
        "for value in df[\"Net\"]:\n",
        "    if value > 0:\n",
        "        Energy_Used.append(value)\n",
        "    else:\n",
        "        Energy_Used.append(0)"
      ],
      "metadata": {
        "id": "wpFhkFGIvlK4"
      },
      "execution_count": 27,
      "outputs": []
    },
    {
      "cell_type": "code",
      "source": [
        "Battery_Residual = []\n",
        "for value in df[\"Net\"]:\n",
        "    if value < 0:\n",
        "        Battery_Residual.append(abs(value))\n",
        "    else:\n",
        "        Battery_Residual.append(0)"
      ],
      "metadata": {
        "id": "aQSuPgIiyrKs"
      },
      "execution_count": 28,
      "outputs": []
    },
    {
      "cell_type": "code",
      "source": [
        "df[\"Battery_Residual\"] = Battery_Residual\n",
        "df[\"Energy_Used\"] = Energy_Used "
      ],
      "metadata": {
        "id": "DyyrjQdRxUu1"
      },
      "execution_count": 29,
      "outputs": []
    },
    {
      "cell_type": "code",
      "source": [
        "df.head(2)"
      ],
      "metadata": {
        "colab": {
          "base_uri": "https://localhost:8080/",
          "height": 0
        },
        "id": "ahlmPAb6zmwW",
        "outputId": "daa17433-3a2b-403c-b096-c903da2f571d"
      },
      "execution_count": 30,
      "outputs": [
        {
          "output_type": "execute_result",
          "data": {
            "text/plain": [
              "                     Electricity (kW)  Elctricity Generated (kW)  month  Net  \\\n",
              "Date                                                                           \n",
              "2022-01-01 00:30:00               7.8                        0.0      1  7.8   \n",
              "2022-01-01 01:30:00               8.5                        0.0      1  8.5   \n",
              "\n",
              "                     Battery_Residual  Energy_Used  \n",
              "Date                                                \n",
              "2022-01-01 00:30:00               0.0          7.8  \n",
              "2022-01-01 01:30:00               0.0          8.5  "
            ],
            "text/html": [
              "\n",
              "  <div id=\"df-6132febe-2742-4d06-a752-bbd94275e8a6\">\n",
              "    <div class=\"colab-df-container\">\n",
              "      <div>\n",
              "<style scoped>\n",
              "    .dataframe tbody tr th:only-of-type {\n",
              "        vertical-align: middle;\n",
              "    }\n",
              "\n",
              "    .dataframe tbody tr th {\n",
              "        vertical-align: top;\n",
              "    }\n",
              "\n",
              "    .dataframe thead th {\n",
              "        text-align: right;\n",
              "    }\n",
              "</style>\n",
              "<table border=\"1\" class=\"dataframe\">\n",
              "  <thead>\n",
              "    <tr style=\"text-align: right;\">\n",
              "      <th></th>\n",
              "      <th>Electricity (kW)</th>\n",
              "      <th>Elctricity Generated (kW)</th>\n",
              "      <th>month</th>\n",
              "      <th>Net</th>\n",
              "      <th>Battery_Residual</th>\n",
              "      <th>Energy_Used</th>\n",
              "    </tr>\n",
              "    <tr>\n",
              "      <th>Date</th>\n",
              "      <th></th>\n",
              "      <th></th>\n",
              "      <th></th>\n",
              "      <th></th>\n",
              "      <th></th>\n",
              "      <th></th>\n",
              "    </tr>\n",
              "  </thead>\n",
              "  <tbody>\n",
              "    <tr>\n",
              "      <th>2022-01-01 00:30:00</th>\n",
              "      <td>7.8</td>\n",
              "      <td>0.0</td>\n",
              "      <td>1</td>\n",
              "      <td>7.8</td>\n",
              "      <td>0.0</td>\n",
              "      <td>7.8</td>\n",
              "    </tr>\n",
              "    <tr>\n",
              "      <th>2022-01-01 01:30:00</th>\n",
              "      <td>8.5</td>\n",
              "      <td>0.0</td>\n",
              "      <td>1</td>\n",
              "      <td>8.5</td>\n",
              "      <td>0.0</td>\n",
              "      <td>8.5</td>\n",
              "    </tr>\n",
              "  </tbody>\n",
              "</table>\n",
              "</div>\n",
              "      <button class=\"colab-df-convert\" onclick=\"convertToInteractive('df-6132febe-2742-4d06-a752-bbd94275e8a6')\"\n",
              "              title=\"Convert this dataframe to an interactive table.\"\n",
              "              style=\"display:none;\">\n",
              "        \n",
              "  <svg xmlns=\"http://www.w3.org/2000/svg\" height=\"24px\"viewBox=\"0 0 24 24\"\n",
              "       width=\"24px\">\n",
              "    <path d=\"M0 0h24v24H0V0z\" fill=\"none\"/>\n",
              "    <path d=\"M18.56 5.44l.94 2.06.94-2.06 2.06-.94-2.06-.94-.94-2.06-.94 2.06-2.06.94zm-11 1L8.5 8.5l.94-2.06 2.06-.94-2.06-.94L8.5 2.5l-.94 2.06-2.06.94zm10 10l.94 2.06.94-2.06 2.06-.94-2.06-.94-.94-2.06-.94 2.06-2.06.94z\"/><path d=\"M17.41 7.96l-1.37-1.37c-.4-.4-.92-.59-1.43-.59-.52 0-1.04.2-1.43.59L10.3 9.45l-7.72 7.72c-.78.78-.78 2.05 0 2.83L4 21.41c.39.39.9.59 1.41.59.51 0 1.02-.2 1.41-.59l7.78-7.78 2.81-2.81c.8-.78.8-2.07 0-2.86zM5.41 20L4 18.59l7.72-7.72 1.47 1.35L5.41 20z\"/>\n",
              "  </svg>\n",
              "      </button>\n",
              "      \n",
              "  <style>\n",
              "    .colab-df-container {\n",
              "      display:flex;\n",
              "      flex-wrap:wrap;\n",
              "      gap: 12px;\n",
              "    }\n",
              "\n",
              "    .colab-df-convert {\n",
              "      background-color: #E8F0FE;\n",
              "      border: none;\n",
              "      border-radius: 50%;\n",
              "      cursor: pointer;\n",
              "      display: none;\n",
              "      fill: #1967D2;\n",
              "      height: 32px;\n",
              "      padding: 0 0 0 0;\n",
              "      width: 32px;\n",
              "    }\n",
              "\n",
              "    .colab-df-convert:hover {\n",
              "      background-color: #E2EBFA;\n",
              "      box-shadow: 0px 1px 2px rgba(60, 64, 67, 0.3), 0px 1px 3px 1px rgba(60, 64, 67, 0.15);\n",
              "      fill: #174EA6;\n",
              "    }\n",
              "\n",
              "    [theme=dark] .colab-df-convert {\n",
              "      background-color: #3B4455;\n",
              "      fill: #D2E3FC;\n",
              "    }\n",
              "\n",
              "    [theme=dark] .colab-df-convert:hover {\n",
              "      background-color: #434B5C;\n",
              "      box-shadow: 0px 1px 3px 1px rgba(0, 0, 0, 0.15);\n",
              "      filter: drop-shadow(0px 1px 2px rgba(0, 0, 0, 0.3));\n",
              "      fill: #FFFFFF;\n",
              "    }\n",
              "  </style>\n",
              "\n",
              "      <script>\n",
              "        const buttonEl =\n",
              "          document.querySelector('#df-6132febe-2742-4d06-a752-bbd94275e8a6 button.colab-df-convert');\n",
              "        buttonEl.style.display =\n",
              "          google.colab.kernel.accessAllowed ? 'block' : 'none';\n",
              "\n",
              "        async function convertToInteractive(key) {\n",
              "          const element = document.querySelector('#df-6132febe-2742-4d06-a752-bbd94275e8a6');\n",
              "          const dataTable =\n",
              "            await google.colab.kernel.invokeFunction('convertToInteractive',\n",
              "                                                     [key], {});\n",
              "          if (!dataTable) return;\n",
              "\n",
              "          const docLinkHtml = 'Like what you see? Visit the ' +\n",
              "            '<a target=\"_blank\" href=https://colab.research.google.com/notebooks/data_table.ipynb>data table notebook</a>'\n",
              "            + ' to learn more about interactive tables.';\n",
              "          element.innerHTML = '';\n",
              "          dataTable['output_type'] = 'display_data';\n",
              "          await google.colab.output.renderOutput(dataTable, element);\n",
              "          const docLink = document.createElement('div');\n",
              "          docLink.innerHTML = docLinkHtml;\n",
              "          element.appendChild(docLink);\n",
              "        }\n",
              "      </script>\n",
              "    </div>\n",
              "  </div>\n",
              "  "
            ]
          },
          "metadata": {},
          "execution_count": 30
        }
      ]
    },
    {
      "cell_type": "code",
      "source": [
        "df.describe()"
      ],
      "metadata": {
        "colab": {
          "base_uri": "https://localhost:8080/",
          "height": 0
        },
        "id": "bndpnvzKzG83",
        "outputId": "54e3194d-a7a6-4e93-f645-89e8d5ebbb1a"
      },
      "execution_count": 31,
      "outputs": [
        {
          "output_type": "execute_result",
          "data": {
            "text/plain": [
              "       Electricity (kW)  Elctricity Generated (kW)        month          Net  \\\n",
              "count       8760.000000                8760.000000  8760.000000  8760.000000   \n",
              "mean          49.221781                 -65.438896     6.526027   -16.217116   \n",
              "std           51.933119                  91.841358     3.448048    71.524059   \n",
              "min            3.800000                -309.390713     1.000000  -283.027358   \n",
              "25%           10.000000                -130.543147     4.000000   -31.402985   \n",
              "50%           22.600000                  -2.591145     7.000000     6.400000   \n",
              "75%           86.625000                   0.000000    10.000000    17.600000   \n",
              "max          244.400000                   0.000000    12.000000   155.629422   \n",
              "\n",
              "       Battery_Residual  Energy_Used  \n",
              "count       8760.000000  8760.000000  \n",
              "mean          31.438486    15.221370  \n",
              "std           60.189517    23.145845  \n",
              "min            0.000000     0.000000  \n",
              "25%            0.000000     0.000000  \n",
              "50%            0.000000     6.400000  \n",
              "75%           31.402985    17.600000  \n",
              "max          283.027358   155.629422  "
            ],
            "text/html": [
              "\n",
              "  <div id=\"df-ba725571-6a6b-449d-bdcb-aba8544735fc\">\n",
              "    <div class=\"colab-df-container\">\n",
              "      <div>\n",
              "<style scoped>\n",
              "    .dataframe tbody tr th:only-of-type {\n",
              "        vertical-align: middle;\n",
              "    }\n",
              "\n",
              "    .dataframe tbody tr th {\n",
              "        vertical-align: top;\n",
              "    }\n",
              "\n",
              "    .dataframe thead th {\n",
              "        text-align: right;\n",
              "    }\n",
              "</style>\n",
              "<table border=\"1\" class=\"dataframe\">\n",
              "  <thead>\n",
              "    <tr style=\"text-align: right;\">\n",
              "      <th></th>\n",
              "      <th>Electricity (kW)</th>\n",
              "      <th>Elctricity Generated (kW)</th>\n",
              "      <th>month</th>\n",
              "      <th>Net</th>\n",
              "      <th>Battery_Residual</th>\n",
              "      <th>Energy_Used</th>\n",
              "    </tr>\n",
              "  </thead>\n",
              "  <tbody>\n",
              "    <tr>\n",
              "      <th>count</th>\n",
              "      <td>8760.000000</td>\n",
              "      <td>8760.000000</td>\n",
              "      <td>8760.000000</td>\n",
              "      <td>8760.000000</td>\n",
              "      <td>8760.000000</td>\n",
              "      <td>8760.000000</td>\n",
              "    </tr>\n",
              "    <tr>\n",
              "      <th>mean</th>\n",
              "      <td>49.221781</td>\n",
              "      <td>-65.438896</td>\n",
              "      <td>6.526027</td>\n",
              "      <td>-16.217116</td>\n",
              "      <td>31.438486</td>\n",
              "      <td>15.221370</td>\n",
              "    </tr>\n",
              "    <tr>\n",
              "      <th>std</th>\n",
              "      <td>51.933119</td>\n",
              "      <td>91.841358</td>\n",
              "      <td>3.448048</td>\n",
              "      <td>71.524059</td>\n",
              "      <td>60.189517</td>\n",
              "      <td>23.145845</td>\n",
              "    </tr>\n",
              "    <tr>\n",
              "      <th>min</th>\n",
              "      <td>3.800000</td>\n",
              "      <td>-309.390713</td>\n",
              "      <td>1.000000</td>\n",
              "      <td>-283.027358</td>\n",
              "      <td>0.000000</td>\n",
              "      <td>0.000000</td>\n",
              "    </tr>\n",
              "    <tr>\n",
              "      <th>25%</th>\n",
              "      <td>10.000000</td>\n",
              "      <td>-130.543147</td>\n",
              "      <td>4.000000</td>\n",
              "      <td>-31.402985</td>\n",
              "      <td>0.000000</td>\n",
              "      <td>0.000000</td>\n",
              "    </tr>\n",
              "    <tr>\n",
              "      <th>50%</th>\n",
              "      <td>22.600000</td>\n",
              "      <td>-2.591145</td>\n",
              "      <td>7.000000</td>\n",
              "      <td>6.400000</td>\n",
              "      <td>0.000000</td>\n",
              "      <td>6.400000</td>\n",
              "    </tr>\n",
              "    <tr>\n",
              "      <th>75%</th>\n",
              "      <td>86.625000</td>\n",
              "      <td>0.000000</td>\n",
              "      <td>10.000000</td>\n",
              "      <td>17.600000</td>\n",
              "      <td>31.402985</td>\n",
              "      <td>17.600000</td>\n",
              "    </tr>\n",
              "    <tr>\n",
              "      <th>max</th>\n",
              "      <td>244.400000</td>\n",
              "      <td>0.000000</td>\n",
              "      <td>12.000000</td>\n",
              "      <td>155.629422</td>\n",
              "      <td>283.027358</td>\n",
              "      <td>155.629422</td>\n",
              "    </tr>\n",
              "  </tbody>\n",
              "</table>\n",
              "</div>\n",
              "      <button class=\"colab-df-convert\" onclick=\"convertToInteractive('df-ba725571-6a6b-449d-bdcb-aba8544735fc')\"\n",
              "              title=\"Convert this dataframe to an interactive table.\"\n",
              "              style=\"display:none;\">\n",
              "        \n",
              "  <svg xmlns=\"http://www.w3.org/2000/svg\" height=\"24px\"viewBox=\"0 0 24 24\"\n",
              "       width=\"24px\">\n",
              "    <path d=\"M0 0h24v24H0V0z\" fill=\"none\"/>\n",
              "    <path d=\"M18.56 5.44l.94 2.06.94-2.06 2.06-.94-2.06-.94-.94-2.06-.94 2.06-2.06.94zm-11 1L8.5 8.5l.94-2.06 2.06-.94-2.06-.94L8.5 2.5l-.94 2.06-2.06.94zm10 10l.94 2.06.94-2.06 2.06-.94-2.06-.94-.94-2.06-.94 2.06-2.06.94z\"/><path d=\"M17.41 7.96l-1.37-1.37c-.4-.4-.92-.59-1.43-.59-.52 0-1.04.2-1.43.59L10.3 9.45l-7.72 7.72c-.78.78-.78 2.05 0 2.83L4 21.41c.39.39.9.59 1.41.59.51 0 1.02-.2 1.41-.59l7.78-7.78 2.81-2.81c.8-.78.8-2.07 0-2.86zM5.41 20L4 18.59l7.72-7.72 1.47 1.35L5.41 20z\"/>\n",
              "  </svg>\n",
              "      </button>\n",
              "      \n",
              "  <style>\n",
              "    .colab-df-container {\n",
              "      display:flex;\n",
              "      flex-wrap:wrap;\n",
              "      gap: 12px;\n",
              "    }\n",
              "\n",
              "    .colab-df-convert {\n",
              "      background-color: #E8F0FE;\n",
              "      border: none;\n",
              "      border-radius: 50%;\n",
              "      cursor: pointer;\n",
              "      display: none;\n",
              "      fill: #1967D2;\n",
              "      height: 32px;\n",
              "      padding: 0 0 0 0;\n",
              "      width: 32px;\n",
              "    }\n",
              "\n",
              "    .colab-df-convert:hover {\n",
              "      background-color: #E2EBFA;\n",
              "      box-shadow: 0px 1px 2px rgba(60, 64, 67, 0.3), 0px 1px 3px 1px rgba(60, 64, 67, 0.15);\n",
              "      fill: #174EA6;\n",
              "    }\n",
              "\n",
              "    [theme=dark] .colab-df-convert {\n",
              "      background-color: #3B4455;\n",
              "      fill: #D2E3FC;\n",
              "    }\n",
              "\n",
              "    [theme=dark] .colab-df-convert:hover {\n",
              "      background-color: #434B5C;\n",
              "      box-shadow: 0px 1px 3px 1px rgba(0, 0, 0, 0.15);\n",
              "      filter: drop-shadow(0px 1px 2px rgba(0, 0, 0, 0.3));\n",
              "      fill: #FFFFFF;\n",
              "    }\n",
              "  </style>\n",
              "\n",
              "      <script>\n",
              "        const buttonEl =\n",
              "          document.querySelector('#df-ba725571-6a6b-449d-bdcb-aba8544735fc button.colab-df-convert');\n",
              "        buttonEl.style.display =\n",
              "          google.colab.kernel.accessAllowed ? 'block' : 'none';\n",
              "\n",
              "        async function convertToInteractive(key) {\n",
              "          const element = document.querySelector('#df-ba725571-6a6b-449d-bdcb-aba8544735fc');\n",
              "          const dataTable =\n",
              "            await google.colab.kernel.invokeFunction('convertToInteractive',\n",
              "                                                     [key], {});\n",
              "          if (!dataTable) return;\n",
              "\n",
              "          const docLinkHtml = 'Like what you see? Visit the ' +\n",
              "            '<a target=\"_blank\" href=https://colab.research.google.com/notebooks/data_table.ipynb>data table notebook</a>'\n",
              "            + ' to learn more about interactive tables.';\n",
              "          element.innerHTML = '';\n",
              "          dataTable['output_type'] = 'display_data';\n",
              "          await google.colab.output.renderOutput(dataTable, element);\n",
              "          const docLink = document.createElement('div');\n",
              "          docLink.innerHTML = docLinkHtml;\n",
              "          element.appendChild(docLink);\n",
              "        }\n",
              "      </script>\n",
              "    </div>\n",
              "  </div>\n",
              "  "
            ]
          },
          "metadata": {},
          "execution_count": 31
        }
      ]
    },
    {
      "cell_type": "code",
      "source": [
        "df.info()"
      ],
      "metadata": {
        "colab": {
          "base_uri": "https://localhost:8080/"
        },
        "id": "y5ZN7ZDuz7Sp",
        "outputId": "26e32a93-e830-4f8e-c81d-3ffd85c7076d"
      },
      "execution_count": 32,
      "outputs": [
        {
          "output_type": "stream",
          "name": "stdout",
          "text": [
            "<class 'pandas.core.frame.DataFrame'>\n",
            "DatetimeIndex: 8760 entries, 2022-01-01 00:30:00 to 2022-12-31 23:30:00\n",
            "Data columns (total 6 columns):\n",
            " #   Column                     Non-Null Count  Dtype  \n",
            "---  ------                     --------------  -----  \n",
            " 0   Electricity (kW)           8760 non-null   float64\n",
            " 1   Elctricity Generated (kW)  8760 non-null   float64\n",
            " 2   month                      8760 non-null   int64  \n",
            " 3   Net                        8760 non-null   float64\n",
            " 4   Battery_Residual           8760 non-null   float64\n",
            " 5   Energy_Used                8760 non-null   float64\n",
            "dtypes: float64(5), int64(1)\n",
            "memory usage: 479.1 KB\n"
          ]
        }
      ]
    },
    {
      "cell_type": "markdown",
      "source": [
        "#Finding Electricity Generated"
      ],
      "metadata": {
        "id": "J9NN1G9R3ZD4"
      }
    },
    {
      "cell_type": "code",
      "source": [
        " PV_E  = df[\"Elctricity Generated (kW)\"].sum()"
      ],
      "metadata": {
        "id": "MzWFwyOfzw8b"
      },
      "execution_count": 33,
      "outputs": []
    },
    {
      "cell_type": "code",
      "source": [
        "print(\"The total electricity generated by PV is\", PV_E,\"KW\")"
      ],
      "metadata": {
        "colab": {
          "base_uri": "https://localhost:8080/"
        },
        "id": "e_jQbfSszWke",
        "outputId": "bf553cae-f997-4006-b273-9f26cb083fd6"
      },
      "execution_count": 34,
      "outputs": [
        {
          "output_type": "stream",
          "name": "stdout",
          "text": [
            "The total electricity generated by PV is -573244.7319659999 KW\n"
          ]
        }
      ]
    },
    {
      "cell_type": "code",
      "source": [
        "df[\"Electricity (kW)\"].sum()"
      ],
      "metadata": {
        "colab": {
          "base_uri": "https://localhost:8080/"
        },
        "id": "sVOFyv7s0wAp",
        "outputId": "7892893f-44fe-44d6-d8a9-e471a53943e5"
      },
      "execution_count": 35,
      "outputs": [
        {
          "output_type": "execute_result",
          "data": {
            "text/plain": [
              "431182.80000000005"
            ]
          },
          "metadata": {},
          "execution_count": 35
        }
      ]
    },
    {
      "cell_type": "markdown",
      "source": [
        "# Carbon Emission"
      ],
      "metadata": {
        "id": "t2uOTpxr3iHj"
      }
    },
    {
      "cell_type": "code",
      "source": [
        "ZNE = df.Net.sum()"
      ],
      "metadata": {
        "id": "O0KbDhLLzSiG"
      },
      "execution_count": 36,
      "outputs": []
    },
    {
      "cell_type": "code",
      "source": [
        "if ZNE < 0:\n",
        "  print(\"The total electricity generated by building is\", ZNE,\"KW\")\n",
        "if ZNE > 0:\n",
        "  print(\"The total electricity consumed by building is\", ZNE,\"KW\")\n",
        "if ZNE ==0:\n",
        "  print(\"the building is net zero\")"
      ],
      "metadata": {
        "colab": {
          "base_uri": "https://localhost:8080/"
        },
        "id": "sG7Foa0C0P61",
        "outputId": "b39f60a9-d611-4665-d624-507c0914e6a9"
      },
      "execution_count": 37,
      "outputs": [
        {
          "output_type": "stream",
          "name": "stdout",
          "text": [
            "The total electricity generated by building is -142061.931966 KW\n"
          ]
        }
      ]
    },
    {
      "cell_type": "code",
      "source": [
        "Emissions = ZNE*0.384\n",
        "print(\"The total carbon emission of the building is\",Emissions,\" KG CO2/Kwh\")"
      ],
      "metadata": {
        "colab": {
          "base_uri": "https://localhost:8080/"
        },
        "id": "HoVHhjO22JwM",
        "outputId": "d79402ab-c40c-40d2-e718-4301fb04d568"
      },
      "execution_count": 38,
      "outputs": [
        {
          "output_type": "stream",
          "name": "stdout",
          "text": [
            "The total carbon emission of the building is -54551.781874944005  KG CO2/Kwh\n"
          ]
        }
      ]
    },
    {
      "cell_type": "markdown",
      "source": [
        "#**Getting the Battery Storage from User**"
      ],
      "metadata": {
        "id": "AKTXUyqrKM0C"
      }
    },
    {
      "cell_type": "code",
      "source": [
        "maxcap= int(input(\"What is your Battery Storage?:\"))"
      ],
      "metadata": {
        "colab": {
          "base_uri": "https://localhost:8080/"
        },
        "id": "aqng3QVHA-vS",
        "outputId": "a49b277d-2a26-40eb-9ca0-469a8289ba61"
      },
      "execution_count": 39,
      "outputs": [
        {
          "name": "stdout",
          "output_type": "stream",
          "text": [
            "What is your Battery Storage?:1000\n"
          ]
        }
      ]
    },
    {
      "cell_type": "markdown",
      "source": [
        "#**Calculating the amount of battery left in each instance**"
      ],
      "metadata": {
        "id": "I31JaqtzKUhW"
      }
    },
    {
      "cell_type": "code",
      "source": [
        "k= []\n",
        "n=maxcap\n",
        "for i in df[\"Net\"]:\n",
        "  if n>=maxcap:\n",
        "    k.append(maxcap-i)\n",
        "    n=maxcap-i\n",
        "  else:\n",
        "    k.append(n-i)\n",
        "    n=np.copy(n-i)"
      ],
      "metadata": {
        "id": "CqyRbryrRx9Z"
      },
      "execution_count": 40,
      "outputs": []
    },
    {
      "cell_type": "code",
      "source": [
        "df[\"Battery_Left\"]=k"
      ],
      "metadata": {
        "id": "IaIUbaZ3UvzL"
      },
      "execution_count": 41,
      "outputs": []
    },
    {
      "cell_type": "code",
      "source": [
        "hours = df.index.hour"
      ],
      "metadata": {
        "id": "DVisxoj-LDID"
      },
      "execution_count": 42,
      "outputs": []
    },
    {
      "cell_type": "code",
      "source": [
        "df['hours']= hours"
      ],
      "metadata": {
        "id": "d_IC07JzLE3j"
      },
      "execution_count": 43,
      "outputs": []
    },
    {
      "cell_type": "markdown",
      "source": [
        "# Charging midday if less than threshold"
      ],
      "metadata": {
        "id": "3uGbnB34viEe"
      }
    },
    {
      "cell_type": "code",
      "source": [
        "dw = df.iloc[df.index.indexer_between_time('16:30', '17:00')]"
      ],
      "metadata": {
        "id": "oPEi8f0jAerq"
      },
      "execution_count": 44,
      "outputs": []
    },
    {
      "cell_type": "code",
      "source": [
        "Batt_Threshold= int(input(\"What is the battery red line (in KW):\"))"
      ],
      "metadata": {
        "colab": {
          "base_uri": "https://localhost:8080/"
        },
        "id": "-viUW__v4tIT",
        "outputId": "3917fcc4-5b31-42ea-b41a-1cc3e0e73109"
      },
      "execution_count": 45,
      "outputs": [
        {
          "name": "stdout",
          "output_type": "stream",
          "text": [
            "What is the battery red line (in KW):200\n"
          ]
        }
      ]
    },
    {
      "cell_type": "code",
      "source": [
        "dww = dw[dw[\"Battery_Left\"]< Batt_Threshold]"
      ],
      "metadata": {
        "id": "dZ9p9nR-NMgx"
      },
      "execution_count": 46,
      "outputs": []
    },
    {
      "cell_type": "code",
      "source": [
        "dww"
      ],
      "metadata": {
        "colab": {
          "base_uri": "https://localhost:8080/",
          "height": 0
        },
        "id": "C_2FsVvzNXWg",
        "outputId": "3e7e8522-1797-48b5-c2f0-af4888dfeb08"
      },
      "execution_count": 47,
      "outputs": [
        {
          "output_type": "execute_result",
          "data": {
            "text/plain": [
              "                     Electricity (kW)  Elctricity Generated (kW)  month  \\\n",
              "Date                                                                      \n",
              "2022-01-04 16:30:00              66.0                  -8.572594      1   \n",
              "2022-01-05 16:30:00              53.2                 -25.863110      1   \n",
              "2022-01-06 16:30:00              61.3                 -22.619014      1   \n",
              "2022-01-07 16:30:00              69.9                  -9.325897      1   \n",
              "2022-01-08 16:30:00              55.9                 -26.962739      1   \n",
              "...                               ...                        ...    ...   \n",
              "2022-12-27 16:30:00              67.6                 -18.480975     12   \n",
              "2022-12-28 16:30:00              70.3                 -12.559445     12   \n",
              "2022-12-29 16:30:00              58.0                 -18.905532     12   \n",
              "2022-12-30 16:30:00              56.0                 -18.935125     12   \n",
              "2022-12-31 16:30:00              57.8                 -18.641246     12   \n",
              "\n",
              "                           Net  Battery_Residual  Energy_Used  Battery_Left  \\\n",
              "Date                                                                          \n",
              "2022-01-04 16:30:00  57.427406               0.0    57.427406    153.058134   \n",
              "2022-01-05 16:30:00  27.336890               0.0    27.336890     86.951968   \n",
              "2022-01-06 16:30:00  38.680986               0.0    38.680986   -196.239652   \n",
              "2022-01-07 16:30:00  60.574103               0.0    60.574103   -941.703516   \n",
              "2022-01-08 16:30:00  28.937261               0.0    28.937261  -1032.049653   \n",
              "...                        ...               ...          ...           ...   \n",
              "2022-12-27 16:30:00  49.119025               0.0    49.119025  -8084.208333   \n",
              "2022-12-28 16:30:00  57.740555               0.0    57.740555  -8636.191386   \n",
              "2022-12-29 16:30:00  39.094468               0.0    39.094468  -8696.048438   \n",
              "2022-12-30 16:30:00  37.064875               0.0    37.064875  -8669.727766   \n",
              "2022-12-31 16:30:00  39.158754               0.0    39.158754  -8578.794163   \n",
              "\n",
              "                     hours  \n",
              "Date                        \n",
              "2022-01-04 16:30:00     16  \n",
              "2022-01-05 16:30:00     16  \n",
              "2022-01-06 16:30:00     16  \n",
              "2022-01-07 16:30:00     16  \n",
              "2022-01-08 16:30:00     16  \n",
              "...                    ...  \n",
              "2022-12-27 16:30:00     16  \n",
              "2022-12-28 16:30:00     16  \n",
              "2022-12-29 16:30:00     16  \n",
              "2022-12-30 16:30:00     16  \n",
              "2022-12-31 16:30:00     16  \n",
              "\n",
              "[122 rows x 8 columns]"
            ],
            "text/html": [
              "\n",
              "  <div id=\"df-6e5a8d7f-175d-4353-9c39-6e6518f092d0\">\n",
              "    <div class=\"colab-df-container\">\n",
              "      <div>\n",
              "<style scoped>\n",
              "    .dataframe tbody tr th:only-of-type {\n",
              "        vertical-align: middle;\n",
              "    }\n",
              "\n",
              "    .dataframe tbody tr th {\n",
              "        vertical-align: top;\n",
              "    }\n",
              "\n",
              "    .dataframe thead th {\n",
              "        text-align: right;\n",
              "    }\n",
              "</style>\n",
              "<table border=\"1\" class=\"dataframe\">\n",
              "  <thead>\n",
              "    <tr style=\"text-align: right;\">\n",
              "      <th></th>\n",
              "      <th>Electricity (kW)</th>\n",
              "      <th>Elctricity Generated (kW)</th>\n",
              "      <th>month</th>\n",
              "      <th>Net</th>\n",
              "      <th>Battery_Residual</th>\n",
              "      <th>Energy_Used</th>\n",
              "      <th>Battery_Left</th>\n",
              "      <th>hours</th>\n",
              "    </tr>\n",
              "    <tr>\n",
              "      <th>Date</th>\n",
              "      <th></th>\n",
              "      <th></th>\n",
              "      <th></th>\n",
              "      <th></th>\n",
              "      <th></th>\n",
              "      <th></th>\n",
              "      <th></th>\n",
              "      <th></th>\n",
              "    </tr>\n",
              "  </thead>\n",
              "  <tbody>\n",
              "    <tr>\n",
              "      <th>2022-01-04 16:30:00</th>\n",
              "      <td>66.0</td>\n",
              "      <td>-8.572594</td>\n",
              "      <td>1</td>\n",
              "      <td>57.427406</td>\n",
              "      <td>0.0</td>\n",
              "      <td>57.427406</td>\n",
              "      <td>153.058134</td>\n",
              "      <td>16</td>\n",
              "    </tr>\n",
              "    <tr>\n",
              "      <th>2022-01-05 16:30:00</th>\n",
              "      <td>53.2</td>\n",
              "      <td>-25.863110</td>\n",
              "      <td>1</td>\n",
              "      <td>27.336890</td>\n",
              "      <td>0.0</td>\n",
              "      <td>27.336890</td>\n",
              "      <td>86.951968</td>\n",
              "      <td>16</td>\n",
              "    </tr>\n",
              "    <tr>\n",
              "      <th>2022-01-06 16:30:00</th>\n",
              "      <td>61.3</td>\n",
              "      <td>-22.619014</td>\n",
              "      <td>1</td>\n",
              "      <td>38.680986</td>\n",
              "      <td>0.0</td>\n",
              "      <td>38.680986</td>\n",
              "      <td>-196.239652</td>\n",
              "      <td>16</td>\n",
              "    </tr>\n",
              "    <tr>\n",
              "      <th>2022-01-07 16:30:00</th>\n",
              "      <td>69.9</td>\n",
              "      <td>-9.325897</td>\n",
              "      <td>1</td>\n",
              "      <td>60.574103</td>\n",
              "      <td>0.0</td>\n",
              "      <td>60.574103</td>\n",
              "      <td>-941.703516</td>\n",
              "      <td>16</td>\n",
              "    </tr>\n",
              "    <tr>\n",
              "      <th>2022-01-08 16:30:00</th>\n",
              "      <td>55.9</td>\n",
              "      <td>-26.962739</td>\n",
              "      <td>1</td>\n",
              "      <td>28.937261</td>\n",
              "      <td>0.0</td>\n",
              "      <td>28.937261</td>\n",
              "      <td>-1032.049653</td>\n",
              "      <td>16</td>\n",
              "    </tr>\n",
              "    <tr>\n",
              "      <th>...</th>\n",
              "      <td>...</td>\n",
              "      <td>...</td>\n",
              "      <td>...</td>\n",
              "      <td>...</td>\n",
              "      <td>...</td>\n",
              "      <td>...</td>\n",
              "      <td>...</td>\n",
              "      <td>...</td>\n",
              "    </tr>\n",
              "    <tr>\n",
              "      <th>2022-12-27 16:30:00</th>\n",
              "      <td>67.6</td>\n",
              "      <td>-18.480975</td>\n",
              "      <td>12</td>\n",
              "      <td>49.119025</td>\n",
              "      <td>0.0</td>\n",
              "      <td>49.119025</td>\n",
              "      <td>-8084.208333</td>\n",
              "      <td>16</td>\n",
              "    </tr>\n",
              "    <tr>\n",
              "      <th>2022-12-28 16:30:00</th>\n",
              "      <td>70.3</td>\n",
              "      <td>-12.559445</td>\n",
              "      <td>12</td>\n",
              "      <td>57.740555</td>\n",
              "      <td>0.0</td>\n",
              "      <td>57.740555</td>\n",
              "      <td>-8636.191386</td>\n",
              "      <td>16</td>\n",
              "    </tr>\n",
              "    <tr>\n",
              "      <th>2022-12-29 16:30:00</th>\n",
              "      <td>58.0</td>\n",
              "      <td>-18.905532</td>\n",
              "      <td>12</td>\n",
              "      <td>39.094468</td>\n",
              "      <td>0.0</td>\n",
              "      <td>39.094468</td>\n",
              "      <td>-8696.048438</td>\n",
              "      <td>16</td>\n",
              "    </tr>\n",
              "    <tr>\n",
              "      <th>2022-12-30 16:30:00</th>\n",
              "      <td>56.0</td>\n",
              "      <td>-18.935125</td>\n",
              "      <td>12</td>\n",
              "      <td>37.064875</td>\n",
              "      <td>0.0</td>\n",
              "      <td>37.064875</td>\n",
              "      <td>-8669.727766</td>\n",
              "      <td>16</td>\n",
              "    </tr>\n",
              "    <tr>\n",
              "      <th>2022-12-31 16:30:00</th>\n",
              "      <td>57.8</td>\n",
              "      <td>-18.641246</td>\n",
              "      <td>12</td>\n",
              "      <td>39.158754</td>\n",
              "      <td>0.0</td>\n",
              "      <td>39.158754</td>\n",
              "      <td>-8578.794163</td>\n",
              "      <td>16</td>\n",
              "    </tr>\n",
              "  </tbody>\n",
              "</table>\n",
              "<p>122 rows × 8 columns</p>\n",
              "</div>\n",
              "      <button class=\"colab-df-convert\" onclick=\"convertToInteractive('df-6e5a8d7f-175d-4353-9c39-6e6518f092d0')\"\n",
              "              title=\"Convert this dataframe to an interactive table.\"\n",
              "              style=\"display:none;\">\n",
              "        \n",
              "  <svg xmlns=\"http://www.w3.org/2000/svg\" height=\"24px\"viewBox=\"0 0 24 24\"\n",
              "       width=\"24px\">\n",
              "    <path d=\"M0 0h24v24H0V0z\" fill=\"none\"/>\n",
              "    <path d=\"M18.56 5.44l.94 2.06.94-2.06 2.06-.94-2.06-.94-.94-2.06-.94 2.06-2.06.94zm-11 1L8.5 8.5l.94-2.06 2.06-.94-2.06-.94L8.5 2.5l-.94 2.06-2.06.94zm10 10l.94 2.06.94-2.06 2.06-.94-2.06-.94-.94-2.06-.94 2.06-2.06.94z\"/><path d=\"M17.41 7.96l-1.37-1.37c-.4-.4-.92-.59-1.43-.59-.52 0-1.04.2-1.43.59L10.3 9.45l-7.72 7.72c-.78.78-.78 2.05 0 2.83L4 21.41c.39.39.9.59 1.41.59.51 0 1.02-.2 1.41-.59l7.78-7.78 2.81-2.81c.8-.78.8-2.07 0-2.86zM5.41 20L4 18.59l7.72-7.72 1.47 1.35L5.41 20z\"/>\n",
              "  </svg>\n",
              "      </button>\n",
              "      \n",
              "  <style>\n",
              "    .colab-df-container {\n",
              "      display:flex;\n",
              "      flex-wrap:wrap;\n",
              "      gap: 12px;\n",
              "    }\n",
              "\n",
              "    .colab-df-convert {\n",
              "      background-color: #E8F0FE;\n",
              "      border: none;\n",
              "      border-radius: 50%;\n",
              "      cursor: pointer;\n",
              "      display: none;\n",
              "      fill: #1967D2;\n",
              "      height: 32px;\n",
              "      padding: 0 0 0 0;\n",
              "      width: 32px;\n",
              "    }\n",
              "\n",
              "    .colab-df-convert:hover {\n",
              "      background-color: #E2EBFA;\n",
              "      box-shadow: 0px 1px 2px rgba(60, 64, 67, 0.3), 0px 1px 3px 1px rgba(60, 64, 67, 0.15);\n",
              "      fill: #174EA6;\n",
              "    }\n",
              "\n",
              "    [theme=dark] .colab-df-convert {\n",
              "      background-color: #3B4455;\n",
              "      fill: #D2E3FC;\n",
              "    }\n",
              "\n",
              "    [theme=dark] .colab-df-convert:hover {\n",
              "      background-color: #434B5C;\n",
              "      box-shadow: 0px 1px 3px 1px rgba(0, 0, 0, 0.15);\n",
              "      filter: drop-shadow(0px 1px 2px rgba(0, 0, 0, 0.3));\n",
              "      fill: #FFFFFF;\n",
              "    }\n",
              "  </style>\n",
              "\n",
              "      <script>\n",
              "        const buttonEl =\n",
              "          document.querySelector('#df-6e5a8d7f-175d-4353-9c39-6e6518f092d0 button.colab-df-convert');\n",
              "        buttonEl.style.display =\n",
              "          google.colab.kernel.accessAllowed ? 'block' : 'none';\n",
              "\n",
              "        async function convertToInteractive(key) {\n",
              "          const element = document.querySelector('#df-6e5a8d7f-175d-4353-9c39-6e6518f092d0');\n",
              "          const dataTable =\n",
              "            await google.colab.kernel.invokeFunction('convertToInteractive',\n",
              "                                                     [key], {});\n",
              "          if (!dataTable) return;\n",
              "\n",
              "          const docLinkHtml = 'Like what you see? Visit the ' +\n",
              "            '<a target=\"_blank\" href=https://colab.research.google.com/notebooks/data_table.ipynb>data table notebook</a>'\n",
              "            + ' to learn more about interactive tables.';\n",
              "          element.innerHTML = '';\n",
              "          dataTable['output_type'] = 'display_data';\n",
              "          await google.colab.output.renderOutput(dataTable, element);\n",
              "          const docLink = document.createElement('div');\n",
              "          docLink.innerHTML = docLinkHtml;\n",
              "          element.appendChild(docLink);\n",
              "        }\n",
              "      </script>\n",
              "    </div>\n",
              "  </div>\n",
              "  "
            ]
          },
          "metadata": {},
          "execution_count": 47
        }
      ]
    },
    {
      "cell_type": "code",
      "source": [
        "rows_count_1 = dww.count()[0]\n",
        "rows_count_1"
      ],
      "metadata": {
        "colab": {
          "base_uri": "https://localhost:8080/"
        },
        "id": "W0_ytiS5tZpf",
        "outputId": "e72f4c6e-7b5a-48b0-c15c-35c68b39383b"
      },
      "execution_count": 48,
      "outputs": [
        {
          "output_type": "execute_result",
          "data": {
            "text/plain": [
              "122"
            ]
          },
          "metadata": {},
          "execution_count": 48
        }
      ]
    },
    {
      "cell_type": "code",
      "source": [
        "con = [(df[\"hours\"] == 16) & (df[\"Battery_Left\"] < Batt_Threshold),(df[\"hours\"] != 16) | (df[\"Battery_Left\"] >= Batt_Threshold)]"
      ],
      "metadata": {
        "id": "i45w1uq3gJ-e"
      },
      "execution_count": 49,
      "outputs": []
    },
    {
      "cell_type": "code",
      "source": [
        "result = df['Battery_Left']+1000,0"
      ],
      "metadata": {
        "id": "bkLillfVgu28"
      },
      "execution_count": 50,
      "outputs": []
    },
    {
      "cell_type": "code",
      "source": [
        "df[\"Charging_midday\"]=np.select(con,result)"
      ],
      "metadata": {
        "id": "p5saMPxRhRdB"
      },
      "execution_count": 51,
      "outputs": []
    },
    {
      "cell_type": "code",
      "source": [
        "df[df[\"hours\"] == 16]"
      ],
      "metadata": {
        "colab": {
          "base_uri": "https://localhost:8080/",
          "height": 0
        },
        "id": "1mlQotCZhilf",
        "outputId": "a10556c0-4430-44a1-cb98-8c3901c54fe7"
      },
      "execution_count": 52,
      "outputs": [
        {
          "output_type": "execute_result",
          "data": {
            "text/plain": [
              "                     Electricity (kW)  Elctricity Generated (kW)  month  \\\n",
              "Date                                                                      \n",
              "2022-01-01 16:30:00              52.5                 -27.306428      1   \n",
              "2022-01-02 16:30:00              15.8                 -17.107684      1   \n",
              "2022-01-03 16:30:00              14.2                 -30.959845      1   \n",
              "2022-01-04 16:30:00              66.0                  -8.572594      1   \n",
              "2022-01-05 16:30:00              53.2                 -25.863110      1   \n",
              "...                               ...                        ...    ...   \n",
              "2022-12-27 16:30:00              67.6                 -18.480975     12   \n",
              "2022-12-28 16:30:00              70.3                 -12.559445     12   \n",
              "2022-12-29 16:30:00              58.0                 -18.905532     12   \n",
              "2022-12-30 16:30:00              56.0                 -18.935125     12   \n",
              "2022-12-31 16:30:00              57.8                 -18.641246     12   \n",
              "\n",
              "                           Net  Battery_Residual  Energy_Used  Battery_Left  \\\n",
              "Date                                                                          \n",
              "2022-01-01 16:30:00  25.193572          0.000000    25.193572    974.806428   \n",
              "2022-01-02 16:30:00  -1.307684          1.307684     0.000000   1001.307684   \n",
              "2022-01-03 16:30:00 -16.759845         16.759845     0.000000   1016.759845   \n",
              "2022-01-04 16:30:00  57.427406          0.000000    57.427406    153.058134   \n",
              "2022-01-05 16:30:00  27.336890          0.000000    27.336890     86.951968   \n",
              "...                        ...               ...          ...           ...   \n",
              "2022-12-27 16:30:00  49.119025          0.000000    49.119025  -8084.208333   \n",
              "2022-12-28 16:30:00  57.740555          0.000000    57.740555  -8636.191386   \n",
              "2022-12-29 16:30:00  39.094468          0.000000    39.094468  -8696.048438   \n",
              "2022-12-30 16:30:00  37.064875          0.000000    37.064875  -8669.727766   \n",
              "2022-12-31 16:30:00  39.158754          0.000000    39.158754  -8578.794163   \n",
              "\n",
              "                     hours  Charging_midday  \n",
              "Date                                         \n",
              "2022-01-01 16:30:00     16         0.000000  \n",
              "2022-01-02 16:30:00     16         0.000000  \n",
              "2022-01-03 16:30:00     16         0.000000  \n",
              "2022-01-04 16:30:00     16      1153.058134  \n",
              "2022-01-05 16:30:00     16      1086.951968  \n",
              "...                    ...              ...  \n",
              "2022-12-27 16:30:00     16     -7084.208333  \n",
              "2022-12-28 16:30:00     16     -7636.191386  \n",
              "2022-12-29 16:30:00     16     -7696.048438  \n",
              "2022-12-30 16:30:00     16     -7669.727766  \n",
              "2022-12-31 16:30:00     16     -7578.794163  \n",
              "\n",
              "[365 rows x 9 columns]"
            ],
            "text/html": [
              "\n",
              "  <div id=\"df-8c4fc20f-1f54-441b-9b97-cff044c82991\">\n",
              "    <div class=\"colab-df-container\">\n",
              "      <div>\n",
              "<style scoped>\n",
              "    .dataframe tbody tr th:only-of-type {\n",
              "        vertical-align: middle;\n",
              "    }\n",
              "\n",
              "    .dataframe tbody tr th {\n",
              "        vertical-align: top;\n",
              "    }\n",
              "\n",
              "    .dataframe thead th {\n",
              "        text-align: right;\n",
              "    }\n",
              "</style>\n",
              "<table border=\"1\" class=\"dataframe\">\n",
              "  <thead>\n",
              "    <tr style=\"text-align: right;\">\n",
              "      <th></th>\n",
              "      <th>Electricity (kW)</th>\n",
              "      <th>Elctricity Generated (kW)</th>\n",
              "      <th>month</th>\n",
              "      <th>Net</th>\n",
              "      <th>Battery_Residual</th>\n",
              "      <th>Energy_Used</th>\n",
              "      <th>Battery_Left</th>\n",
              "      <th>hours</th>\n",
              "      <th>Charging_midday</th>\n",
              "    </tr>\n",
              "    <tr>\n",
              "      <th>Date</th>\n",
              "      <th></th>\n",
              "      <th></th>\n",
              "      <th></th>\n",
              "      <th></th>\n",
              "      <th></th>\n",
              "      <th></th>\n",
              "      <th></th>\n",
              "      <th></th>\n",
              "      <th></th>\n",
              "    </tr>\n",
              "  </thead>\n",
              "  <tbody>\n",
              "    <tr>\n",
              "      <th>2022-01-01 16:30:00</th>\n",
              "      <td>52.5</td>\n",
              "      <td>-27.306428</td>\n",
              "      <td>1</td>\n",
              "      <td>25.193572</td>\n",
              "      <td>0.000000</td>\n",
              "      <td>25.193572</td>\n",
              "      <td>974.806428</td>\n",
              "      <td>16</td>\n",
              "      <td>0.000000</td>\n",
              "    </tr>\n",
              "    <tr>\n",
              "      <th>2022-01-02 16:30:00</th>\n",
              "      <td>15.8</td>\n",
              "      <td>-17.107684</td>\n",
              "      <td>1</td>\n",
              "      <td>-1.307684</td>\n",
              "      <td>1.307684</td>\n",
              "      <td>0.000000</td>\n",
              "      <td>1001.307684</td>\n",
              "      <td>16</td>\n",
              "      <td>0.000000</td>\n",
              "    </tr>\n",
              "    <tr>\n",
              "      <th>2022-01-03 16:30:00</th>\n",
              "      <td>14.2</td>\n",
              "      <td>-30.959845</td>\n",
              "      <td>1</td>\n",
              "      <td>-16.759845</td>\n",
              "      <td>16.759845</td>\n",
              "      <td>0.000000</td>\n",
              "      <td>1016.759845</td>\n",
              "      <td>16</td>\n",
              "      <td>0.000000</td>\n",
              "    </tr>\n",
              "    <tr>\n",
              "      <th>2022-01-04 16:30:00</th>\n",
              "      <td>66.0</td>\n",
              "      <td>-8.572594</td>\n",
              "      <td>1</td>\n",
              "      <td>57.427406</td>\n",
              "      <td>0.000000</td>\n",
              "      <td>57.427406</td>\n",
              "      <td>153.058134</td>\n",
              "      <td>16</td>\n",
              "      <td>1153.058134</td>\n",
              "    </tr>\n",
              "    <tr>\n",
              "      <th>2022-01-05 16:30:00</th>\n",
              "      <td>53.2</td>\n",
              "      <td>-25.863110</td>\n",
              "      <td>1</td>\n",
              "      <td>27.336890</td>\n",
              "      <td>0.000000</td>\n",
              "      <td>27.336890</td>\n",
              "      <td>86.951968</td>\n",
              "      <td>16</td>\n",
              "      <td>1086.951968</td>\n",
              "    </tr>\n",
              "    <tr>\n",
              "      <th>...</th>\n",
              "      <td>...</td>\n",
              "      <td>...</td>\n",
              "      <td>...</td>\n",
              "      <td>...</td>\n",
              "      <td>...</td>\n",
              "      <td>...</td>\n",
              "      <td>...</td>\n",
              "      <td>...</td>\n",
              "      <td>...</td>\n",
              "    </tr>\n",
              "    <tr>\n",
              "      <th>2022-12-27 16:30:00</th>\n",
              "      <td>67.6</td>\n",
              "      <td>-18.480975</td>\n",
              "      <td>12</td>\n",
              "      <td>49.119025</td>\n",
              "      <td>0.000000</td>\n",
              "      <td>49.119025</td>\n",
              "      <td>-8084.208333</td>\n",
              "      <td>16</td>\n",
              "      <td>-7084.208333</td>\n",
              "    </tr>\n",
              "    <tr>\n",
              "      <th>2022-12-28 16:30:00</th>\n",
              "      <td>70.3</td>\n",
              "      <td>-12.559445</td>\n",
              "      <td>12</td>\n",
              "      <td>57.740555</td>\n",
              "      <td>0.000000</td>\n",
              "      <td>57.740555</td>\n",
              "      <td>-8636.191386</td>\n",
              "      <td>16</td>\n",
              "      <td>-7636.191386</td>\n",
              "    </tr>\n",
              "    <tr>\n",
              "      <th>2022-12-29 16:30:00</th>\n",
              "      <td>58.0</td>\n",
              "      <td>-18.905532</td>\n",
              "      <td>12</td>\n",
              "      <td>39.094468</td>\n",
              "      <td>0.000000</td>\n",
              "      <td>39.094468</td>\n",
              "      <td>-8696.048438</td>\n",
              "      <td>16</td>\n",
              "      <td>-7696.048438</td>\n",
              "    </tr>\n",
              "    <tr>\n",
              "      <th>2022-12-30 16:30:00</th>\n",
              "      <td>56.0</td>\n",
              "      <td>-18.935125</td>\n",
              "      <td>12</td>\n",
              "      <td>37.064875</td>\n",
              "      <td>0.000000</td>\n",
              "      <td>37.064875</td>\n",
              "      <td>-8669.727766</td>\n",
              "      <td>16</td>\n",
              "      <td>-7669.727766</td>\n",
              "    </tr>\n",
              "    <tr>\n",
              "      <th>2022-12-31 16:30:00</th>\n",
              "      <td>57.8</td>\n",
              "      <td>-18.641246</td>\n",
              "      <td>12</td>\n",
              "      <td>39.158754</td>\n",
              "      <td>0.000000</td>\n",
              "      <td>39.158754</td>\n",
              "      <td>-8578.794163</td>\n",
              "      <td>16</td>\n",
              "      <td>-7578.794163</td>\n",
              "    </tr>\n",
              "  </tbody>\n",
              "</table>\n",
              "<p>365 rows × 9 columns</p>\n",
              "</div>\n",
              "      <button class=\"colab-df-convert\" onclick=\"convertToInteractive('df-8c4fc20f-1f54-441b-9b97-cff044c82991')\"\n",
              "              title=\"Convert this dataframe to an interactive table.\"\n",
              "              style=\"display:none;\">\n",
              "        \n",
              "  <svg xmlns=\"http://www.w3.org/2000/svg\" height=\"24px\"viewBox=\"0 0 24 24\"\n",
              "       width=\"24px\">\n",
              "    <path d=\"M0 0h24v24H0V0z\" fill=\"none\"/>\n",
              "    <path d=\"M18.56 5.44l.94 2.06.94-2.06 2.06-.94-2.06-.94-.94-2.06-.94 2.06-2.06.94zm-11 1L8.5 8.5l.94-2.06 2.06-.94-2.06-.94L8.5 2.5l-.94 2.06-2.06.94zm10 10l.94 2.06.94-2.06 2.06-.94-2.06-.94-.94-2.06-.94 2.06-2.06.94z\"/><path d=\"M17.41 7.96l-1.37-1.37c-.4-.4-.92-.59-1.43-.59-.52 0-1.04.2-1.43.59L10.3 9.45l-7.72 7.72c-.78.78-.78 2.05 0 2.83L4 21.41c.39.39.9.59 1.41.59.51 0 1.02-.2 1.41-.59l7.78-7.78 2.81-2.81c.8-.78.8-2.07 0-2.86zM5.41 20L4 18.59l7.72-7.72 1.47 1.35L5.41 20z\"/>\n",
              "  </svg>\n",
              "      </button>\n",
              "      \n",
              "  <style>\n",
              "    .colab-df-container {\n",
              "      display:flex;\n",
              "      flex-wrap:wrap;\n",
              "      gap: 12px;\n",
              "    }\n",
              "\n",
              "    .colab-df-convert {\n",
              "      background-color: #E8F0FE;\n",
              "      border: none;\n",
              "      border-radius: 50%;\n",
              "      cursor: pointer;\n",
              "      display: none;\n",
              "      fill: #1967D2;\n",
              "      height: 32px;\n",
              "      padding: 0 0 0 0;\n",
              "      width: 32px;\n",
              "    }\n",
              "\n",
              "    .colab-df-convert:hover {\n",
              "      background-color: #E2EBFA;\n",
              "      box-shadow: 0px 1px 2px rgba(60, 64, 67, 0.3), 0px 1px 3px 1px rgba(60, 64, 67, 0.15);\n",
              "      fill: #174EA6;\n",
              "    }\n",
              "\n",
              "    [theme=dark] .colab-df-convert {\n",
              "      background-color: #3B4455;\n",
              "      fill: #D2E3FC;\n",
              "    }\n",
              "\n",
              "    [theme=dark] .colab-df-convert:hover {\n",
              "      background-color: #434B5C;\n",
              "      box-shadow: 0px 1px 3px 1px rgba(0, 0, 0, 0.15);\n",
              "      filter: drop-shadow(0px 1px 2px rgba(0, 0, 0, 0.3));\n",
              "      fill: #FFFFFF;\n",
              "    }\n",
              "  </style>\n",
              "\n",
              "      <script>\n",
              "        const buttonEl =\n",
              "          document.querySelector('#df-8c4fc20f-1f54-441b-9b97-cff044c82991 button.colab-df-convert');\n",
              "        buttonEl.style.display =\n",
              "          google.colab.kernel.accessAllowed ? 'block' : 'none';\n",
              "\n",
              "        async function convertToInteractive(key) {\n",
              "          const element = document.querySelector('#df-8c4fc20f-1f54-441b-9b97-cff044c82991');\n",
              "          const dataTable =\n",
              "            await google.colab.kernel.invokeFunction('convertToInteractive',\n",
              "                                                     [key], {});\n",
              "          if (!dataTable) return;\n",
              "\n",
              "          const docLinkHtml = 'Like what you see? Visit the ' +\n",
              "            '<a target=\"_blank\" href=https://colab.research.google.com/notebooks/data_table.ipynb>data table notebook</a>'\n",
              "            + ' to learn more about interactive tables.';\n",
              "          element.innerHTML = '';\n",
              "          dataTable['output_type'] = 'display_data';\n",
              "          await google.colab.output.renderOutput(dataTable, element);\n",
              "          const docLink = document.createElement('div');\n",
              "          docLink.innerHTML = docLinkHtml;\n",
              "          element.appendChild(docLink);\n",
              "        }\n",
              "      </script>\n",
              "    </div>\n",
              "  </div>\n",
              "  "
            ]
          },
          "metadata": {},
          "execution_count": 52
        }
      ]
    },
    {
      "cell_type": "code",
      "source": [
        "con_2 = [(df[\"hours\"] == 16) & (df[\"Battery_Left\"] < Batt_Threshold),(df[\"hours\"] != 16) | (df[\"Battery_Left\"] >= Batt_Threshold)]"
      ],
      "metadata": {
        "id": "fU-yk7DIonrq"
      },
      "execution_count": 53,
      "outputs": []
    },
    {
      "cell_type": "code",
      "source": [
        "result_2 = df['Net']-1000,df['Net']"
      ],
      "metadata": {
        "id": "XXHXLTIbonnZ"
      },
      "execution_count": 54,
      "outputs": []
    },
    {
      "cell_type": "code",
      "source": [
        "df[\"Net_2\"]=np.select(con_2,result_2)"
      ],
      "metadata": {
        "id": "QjmwNmFjonkt"
      },
      "execution_count": 55,
      "outputs": []
    },
    {
      "cell_type": "code",
      "source": [
        "df.head()"
      ],
      "metadata": {
        "colab": {
          "base_uri": "https://localhost:8080/",
          "height": 0
        },
        "id": "8mflYc5Vo85_",
        "outputId": "6290bb8e-c731-4bdb-f9cd-05b730d9ef02"
      },
      "execution_count": 56,
      "outputs": [
        {
          "output_type": "execute_result",
          "data": {
            "text/plain": [
              "                     Electricity (kW)  Elctricity Generated (kW)  month   Net  \\\n",
              "Date                                                                            \n",
              "2022-01-01 00:30:00               7.8                        0.0      1   7.8   \n",
              "2022-01-01 01:30:00               8.5                        0.0      1   8.5   \n",
              "2022-01-01 02:30:00               9.4                        0.0      1   9.4   \n",
              "2022-01-01 03:30:00              11.6                        0.0      1  11.6   \n",
              "2022-01-01 04:30:00              56.1                        0.0      1  56.1   \n",
              "\n",
              "                     Battery_Residual  Energy_Used  Battery_Left  hours  \\\n",
              "Date                                                                      \n",
              "2022-01-01 00:30:00               0.0          7.8         992.2      0   \n",
              "2022-01-01 01:30:00               0.0          8.5         983.7      1   \n",
              "2022-01-01 02:30:00               0.0          9.4         974.3      2   \n",
              "2022-01-01 03:30:00               0.0         11.6         962.7      3   \n",
              "2022-01-01 04:30:00               0.0         56.1         906.6      4   \n",
              "\n",
              "                     Charging_midday  Net_2  \n",
              "Date                                         \n",
              "2022-01-01 00:30:00              0.0    7.8  \n",
              "2022-01-01 01:30:00              0.0    8.5  \n",
              "2022-01-01 02:30:00              0.0    9.4  \n",
              "2022-01-01 03:30:00              0.0   11.6  \n",
              "2022-01-01 04:30:00              0.0   56.1  "
            ],
            "text/html": [
              "\n",
              "  <div id=\"df-eb43a10c-cf4e-4728-ad8a-f6c1a7c05ddf\">\n",
              "    <div class=\"colab-df-container\">\n",
              "      <div>\n",
              "<style scoped>\n",
              "    .dataframe tbody tr th:only-of-type {\n",
              "        vertical-align: middle;\n",
              "    }\n",
              "\n",
              "    .dataframe tbody tr th {\n",
              "        vertical-align: top;\n",
              "    }\n",
              "\n",
              "    .dataframe thead th {\n",
              "        text-align: right;\n",
              "    }\n",
              "</style>\n",
              "<table border=\"1\" class=\"dataframe\">\n",
              "  <thead>\n",
              "    <tr style=\"text-align: right;\">\n",
              "      <th></th>\n",
              "      <th>Electricity (kW)</th>\n",
              "      <th>Elctricity Generated (kW)</th>\n",
              "      <th>month</th>\n",
              "      <th>Net</th>\n",
              "      <th>Battery_Residual</th>\n",
              "      <th>Energy_Used</th>\n",
              "      <th>Battery_Left</th>\n",
              "      <th>hours</th>\n",
              "      <th>Charging_midday</th>\n",
              "      <th>Net_2</th>\n",
              "    </tr>\n",
              "    <tr>\n",
              "      <th>Date</th>\n",
              "      <th></th>\n",
              "      <th></th>\n",
              "      <th></th>\n",
              "      <th></th>\n",
              "      <th></th>\n",
              "      <th></th>\n",
              "      <th></th>\n",
              "      <th></th>\n",
              "      <th></th>\n",
              "      <th></th>\n",
              "    </tr>\n",
              "  </thead>\n",
              "  <tbody>\n",
              "    <tr>\n",
              "      <th>2022-01-01 00:30:00</th>\n",
              "      <td>7.8</td>\n",
              "      <td>0.0</td>\n",
              "      <td>1</td>\n",
              "      <td>7.8</td>\n",
              "      <td>0.0</td>\n",
              "      <td>7.8</td>\n",
              "      <td>992.2</td>\n",
              "      <td>0</td>\n",
              "      <td>0.0</td>\n",
              "      <td>7.8</td>\n",
              "    </tr>\n",
              "    <tr>\n",
              "      <th>2022-01-01 01:30:00</th>\n",
              "      <td>8.5</td>\n",
              "      <td>0.0</td>\n",
              "      <td>1</td>\n",
              "      <td>8.5</td>\n",
              "      <td>0.0</td>\n",
              "      <td>8.5</td>\n",
              "      <td>983.7</td>\n",
              "      <td>1</td>\n",
              "      <td>0.0</td>\n",
              "      <td>8.5</td>\n",
              "    </tr>\n",
              "    <tr>\n",
              "      <th>2022-01-01 02:30:00</th>\n",
              "      <td>9.4</td>\n",
              "      <td>0.0</td>\n",
              "      <td>1</td>\n",
              "      <td>9.4</td>\n",
              "      <td>0.0</td>\n",
              "      <td>9.4</td>\n",
              "      <td>974.3</td>\n",
              "      <td>2</td>\n",
              "      <td>0.0</td>\n",
              "      <td>9.4</td>\n",
              "    </tr>\n",
              "    <tr>\n",
              "      <th>2022-01-01 03:30:00</th>\n",
              "      <td>11.6</td>\n",
              "      <td>0.0</td>\n",
              "      <td>1</td>\n",
              "      <td>11.6</td>\n",
              "      <td>0.0</td>\n",
              "      <td>11.6</td>\n",
              "      <td>962.7</td>\n",
              "      <td>3</td>\n",
              "      <td>0.0</td>\n",
              "      <td>11.6</td>\n",
              "    </tr>\n",
              "    <tr>\n",
              "      <th>2022-01-01 04:30:00</th>\n",
              "      <td>56.1</td>\n",
              "      <td>0.0</td>\n",
              "      <td>1</td>\n",
              "      <td>56.1</td>\n",
              "      <td>0.0</td>\n",
              "      <td>56.1</td>\n",
              "      <td>906.6</td>\n",
              "      <td>4</td>\n",
              "      <td>0.0</td>\n",
              "      <td>56.1</td>\n",
              "    </tr>\n",
              "  </tbody>\n",
              "</table>\n",
              "</div>\n",
              "      <button class=\"colab-df-convert\" onclick=\"convertToInteractive('df-eb43a10c-cf4e-4728-ad8a-f6c1a7c05ddf')\"\n",
              "              title=\"Convert this dataframe to an interactive table.\"\n",
              "              style=\"display:none;\">\n",
              "        \n",
              "  <svg xmlns=\"http://www.w3.org/2000/svg\" height=\"24px\"viewBox=\"0 0 24 24\"\n",
              "       width=\"24px\">\n",
              "    <path d=\"M0 0h24v24H0V0z\" fill=\"none\"/>\n",
              "    <path d=\"M18.56 5.44l.94 2.06.94-2.06 2.06-.94-2.06-.94-.94-2.06-.94 2.06-2.06.94zm-11 1L8.5 8.5l.94-2.06 2.06-.94-2.06-.94L8.5 2.5l-.94 2.06-2.06.94zm10 10l.94 2.06.94-2.06 2.06-.94-2.06-.94-.94-2.06-.94 2.06-2.06.94z\"/><path d=\"M17.41 7.96l-1.37-1.37c-.4-.4-.92-.59-1.43-.59-.52 0-1.04.2-1.43.59L10.3 9.45l-7.72 7.72c-.78.78-.78 2.05 0 2.83L4 21.41c.39.39.9.59 1.41.59.51 0 1.02-.2 1.41-.59l7.78-7.78 2.81-2.81c.8-.78.8-2.07 0-2.86zM5.41 20L4 18.59l7.72-7.72 1.47 1.35L5.41 20z\"/>\n",
              "  </svg>\n",
              "      </button>\n",
              "      \n",
              "  <style>\n",
              "    .colab-df-container {\n",
              "      display:flex;\n",
              "      flex-wrap:wrap;\n",
              "      gap: 12px;\n",
              "    }\n",
              "\n",
              "    .colab-df-convert {\n",
              "      background-color: #E8F0FE;\n",
              "      border: none;\n",
              "      border-radius: 50%;\n",
              "      cursor: pointer;\n",
              "      display: none;\n",
              "      fill: #1967D2;\n",
              "      height: 32px;\n",
              "      padding: 0 0 0 0;\n",
              "      width: 32px;\n",
              "    }\n",
              "\n",
              "    .colab-df-convert:hover {\n",
              "      background-color: #E2EBFA;\n",
              "      box-shadow: 0px 1px 2px rgba(60, 64, 67, 0.3), 0px 1px 3px 1px rgba(60, 64, 67, 0.15);\n",
              "      fill: #174EA6;\n",
              "    }\n",
              "\n",
              "    [theme=dark] .colab-df-convert {\n",
              "      background-color: #3B4455;\n",
              "      fill: #D2E3FC;\n",
              "    }\n",
              "\n",
              "    [theme=dark] .colab-df-convert:hover {\n",
              "      background-color: #434B5C;\n",
              "      box-shadow: 0px 1px 3px 1px rgba(0, 0, 0, 0.15);\n",
              "      filter: drop-shadow(0px 1px 2px rgba(0, 0, 0, 0.3));\n",
              "      fill: #FFFFFF;\n",
              "    }\n",
              "  </style>\n",
              "\n",
              "      <script>\n",
              "        const buttonEl =\n",
              "          document.querySelector('#df-eb43a10c-cf4e-4728-ad8a-f6c1a7c05ddf button.colab-df-convert');\n",
              "        buttonEl.style.display =\n",
              "          google.colab.kernel.accessAllowed ? 'block' : 'none';\n",
              "\n",
              "        async function convertToInteractive(key) {\n",
              "          const element = document.querySelector('#df-eb43a10c-cf4e-4728-ad8a-f6c1a7c05ddf');\n",
              "          const dataTable =\n",
              "            await google.colab.kernel.invokeFunction('convertToInteractive',\n",
              "                                                     [key], {});\n",
              "          if (!dataTable) return;\n",
              "\n",
              "          const docLinkHtml = 'Like what you see? Visit the ' +\n",
              "            '<a target=\"_blank\" href=https://colab.research.google.com/notebooks/data_table.ipynb>data table notebook</a>'\n",
              "            + ' to learn more about interactive tables.';\n",
              "          element.innerHTML = '';\n",
              "          dataTable['output_type'] = 'display_data';\n",
              "          await google.colab.output.renderOutput(dataTable, element);\n",
              "          const docLink = document.createElement('div');\n",
              "          docLink.innerHTML = docLinkHtml;\n",
              "          element.appendChild(docLink);\n",
              "        }\n",
              "      </script>\n",
              "    </div>\n",
              "  </div>\n",
              "  "
            ]
          },
          "metadata": {},
          "execution_count": 56
        }
      ]
    },
    {
      "cell_type": "code",
      "source": [
        "aa= []\n",
        "n=maxcap\n",
        "for i in df[\"Net_2\"]:\n",
        "  if n>=maxcap:\n",
        "    aa.append(maxcap-i)\n",
        "    n=maxcap-i\n",
        "  else:\n",
        "    aa.append(n-i)\n",
        "    n=np.copy(n-i)"
      ],
      "metadata": {
        "id": "SSYuMe8oo82x"
      },
      "execution_count": 57,
      "outputs": []
    },
    {
      "cell_type": "code",
      "source": [
        "df[\"battery_II\"] = aa"
      ],
      "metadata": {
        "id": "6WGUtucRo8zx"
      },
      "execution_count": 58,
      "outputs": []
    },
    {
      "cell_type": "code",
      "source": [
        "df[df[\"hours\"] == 16]"
      ],
      "metadata": {
        "colab": {
          "base_uri": "https://localhost:8080/",
          "height": 0
        },
        "id": "ntTOvQ0bo8xE",
        "outputId": "2dd47d8e-9714-4682-ba09-60e56bf0227e"
      },
      "execution_count": 59,
      "outputs": [
        {
          "output_type": "execute_result",
          "data": {
            "text/plain": [
              "                     Electricity (kW)  Elctricity Generated (kW)  month  \\\n",
              "Date                                                                      \n",
              "2022-01-01 16:30:00              52.5                 -27.306428      1   \n",
              "2022-01-02 16:30:00              15.8                 -17.107684      1   \n",
              "2022-01-03 16:30:00              14.2                 -30.959845      1   \n",
              "2022-01-04 16:30:00              66.0                  -8.572594      1   \n",
              "2022-01-05 16:30:00              53.2                 -25.863110      1   \n",
              "...                               ...                        ...    ...   \n",
              "2022-12-27 16:30:00              67.6                 -18.480975     12   \n",
              "2022-12-28 16:30:00              70.3                 -12.559445     12   \n",
              "2022-12-29 16:30:00              58.0                 -18.905532     12   \n",
              "2022-12-30 16:30:00              56.0                 -18.935125     12   \n",
              "2022-12-31 16:30:00              57.8                 -18.641246     12   \n",
              "\n",
              "                           Net  Battery_Residual  Energy_Used  Battery_Left  \\\n",
              "Date                                                                          \n",
              "2022-01-01 16:30:00  25.193572          0.000000    25.193572    974.806428   \n",
              "2022-01-02 16:30:00  -1.307684          1.307684     0.000000   1001.307684   \n",
              "2022-01-03 16:30:00 -16.759845         16.759845     0.000000   1016.759845   \n",
              "2022-01-04 16:30:00  57.427406          0.000000    57.427406    153.058134   \n",
              "2022-01-05 16:30:00  27.336890          0.000000    27.336890     86.951968   \n",
              "...                        ...               ...          ...           ...   \n",
              "2022-12-27 16:30:00  49.119025          0.000000    49.119025  -8084.208333   \n",
              "2022-12-28 16:30:00  57.740555          0.000000    57.740555  -8636.191386   \n",
              "2022-12-29 16:30:00  39.094468          0.000000    39.094468  -8696.048438   \n",
              "2022-12-30 16:30:00  37.064875          0.000000    37.064875  -8669.727766   \n",
              "2022-12-31 16:30:00  39.158754          0.000000    39.158754  -8578.794163   \n",
              "\n",
              "                     hours  Charging_midday       Net_2   battery_II  \n",
              "Date                                                                  \n",
              "2022-01-01 16:30:00     16         0.000000   25.193572   974.806428  \n",
              "2022-01-02 16:30:00     16         0.000000   -1.307684  1001.307684  \n",
              "2022-01-03 16:30:00     16         0.000000  -16.759845  1016.759845  \n",
              "2022-01-04 16:30:00     16      1153.058134 -942.572594  1153.058134  \n",
              "2022-01-05 16:30:00     16      1086.951968 -972.663110  1933.893834  \n",
              "...                    ...              ...         ...          ...  \n",
              "2022-12-27 16:30:00     16     -7084.208333 -950.880975  1676.818534  \n",
              "2022-12-28 16:30:00     16     -7636.191386 -942.259445  1448.016947  \n",
              "2022-12-29 16:30:00     16     -7696.048438 -960.905532  1940.142948  \n",
              "2022-12-30 16:30:00     16     -7669.727766 -962.935125  1962.935125  \n",
              "2022-12-31 16:30:00     16     -7578.794163 -960.841246  1960.841246  \n",
              "\n",
              "[365 rows x 11 columns]"
            ],
            "text/html": [
              "\n",
              "  <div id=\"df-1c7bc55e-893e-4795-9b4b-6f1d78ba0b90\">\n",
              "    <div class=\"colab-df-container\">\n",
              "      <div>\n",
              "<style scoped>\n",
              "    .dataframe tbody tr th:only-of-type {\n",
              "        vertical-align: middle;\n",
              "    }\n",
              "\n",
              "    .dataframe tbody tr th {\n",
              "        vertical-align: top;\n",
              "    }\n",
              "\n",
              "    .dataframe thead th {\n",
              "        text-align: right;\n",
              "    }\n",
              "</style>\n",
              "<table border=\"1\" class=\"dataframe\">\n",
              "  <thead>\n",
              "    <tr style=\"text-align: right;\">\n",
              "      <th></th>\n",
              "      <th>Electricity (kW)</th>\n",
              "      <th>Elctricity Generated (kW)</th>\n",
              "      <th>month</th>\n",
              "      <th>Net</th>\n",
              "      <th>Battery_Residual</th>\n",
              "      <th>Energy_Used</th>\n",
              "      <th>Battery_Left</th>\n",
              "      <th>hours</th>\n",
              "      <th>Charging_midday</th>\n",
              "      <th>Net_2</th>\n",
              "      <th>battery_II</th>\n",
              "    </tr>\n",
              "    <tr>\n",
              "      <th>Date</th>\n",
              "      <th></th>\n",
              "      <th></th>\n",
              "      <th></th>\n",
              "      <th></th>\n",
              "      <th></th>\n",
              "      <th></th>\n",
              "      <th></th>\n",
              "      <th></th>\n",
              "      <th></th>\n",
              "      <th></th>\n",
              "      <th></th>\n",
              "    </tr>\n",
              "  </thead>\n",
              "  <tbody>\n",
              "    <tr>\n",
              "      <th>2022-01-01 16:30:00</th>\n",
              "      <td>52.5</td>\n",
              "      <td>-27.306428</td>\n",
              "      <td>1</td>\n",
              "      <td>25.193572</td>\n",
              "      <td>0.000000</td>\n",
              "      <td>25.193572</td>\n",
              "      <td>974.806428</td>\n",
              "      <td>16</td>\n",
              "      <td>0.000000</td>\n",
              "      <td>25.193572</td>\n",
              "      <td>974.806428</td>\n",
              "    </tr>\n",
              "    <tr>\n",
              "      <th>2022-01-02 16:30:00</th>\n",
              "      <td>15.8</td>\n",
              "      <td>-17.107684</td>\n",
              "      <td>1</td>\n",
              "      <td>-1.307684</td>\n",
              "      <td>1.307684</td>\n",
              "      <td>0.000000</td>\n",
              "      <td>1001.307684</td>\n",
              "      <td>16</td>\n",
              "      <td>0.000000</td>\n",
              "      <td>-1.307684</td>\n",
              "      <td>1001.307684</td>\n",
              "    </tr>\n",
              "    <tr>\n",
              "      <th>2022-01-03 16:30:00</th>\n",
              "      <td>14.2</td>\n",
              "      <td>-30.959845</td>\n",
              "      <td>1</td>\n",
              "      <td>-16.759845</td>\n",
              "      <td>16.759845</td>\n",
              "      <td>0.000000</td>\n",
              "      <td>1016.759845</td>\n",
              "      <td>16</td>\n",
              "      <td>0.000000</td>\n",
              "      <td>-16.759845</td>\n",
              "      <td>1016.759845</td>\n",
              "    </tr>\n",
              "    <tr>\n",
              "      <th>2022-01-04 16:30:00</th>\n",
              "      <td>66.0</td>\n",
              "      <td>-8.572594</td>\n",
              "      <td>1</td>\n",
              "      <td>57.427406</td>\n",
              "      <td>0.000000</td>\n",
              "      <td>57.427406</td>\n",
              "      <td>153.058134</td>\n",
              "      <td>16</td>\n",
              "      <td>1153.058134</td>\n",
              "      <td>-942.572594</td>\n",
              "      <td>1153.058134</td>\n",
              "    </tr>\n",
              "    <tr>\n",
              "      <th>2022-01-05 16:30:00</th>\n",
              "      <td>53.2</td>\n",
              "      <td>-25.863110</td>\n",
              "      <td>1</td>\n",
              "      <td>27.336890</td>\n",
              "      <td>0.000000</td>\n",
              "      <td>27.336890</td>\n",
              "      <td>86.951968</td>\n",
              "      <td>16</td>\n",
              "      <td>1086.951968</td>\n",
              "      <td>-972.663110</td>\n",
              "      <td>1933.893834</td>\n",
              "    </tr>\n",
              "    <tr>\n",
              "      <th>...</th>\n",
              "      <td>...</td>\n",
              "      <td>...</td>\n",
              "      <td>...</td>\n",
              "      <td>...</td>\n",
              "      <td>...</td>\n",
              "      <td>...</td>\n",
              "      <td>...</td>\n",
              "      <td>...</td>\n",
              "      <td>...</td>\n",
              "      <td>...</td>\n",
              "      <td>...</td>\n",
              "    </tr>\n",
              "    <tr>\n",
              "      <th>2022-12-27 16:30:00</th>\n",
              "      <td>67.6</td>\n",
              "      <td>-18.480975</td>\n",
              "      <td>12</td>\n",
              "      <td>49.119025</td>\n",
              "      <td>0.000000</td>\n",
              "      <td>49.119025</td>\n",
              "      <td>-8084.208333</td>\n",
              "      <td>16</td>\n",
              "      <td>-7084.208333</td>\n",
              "      <td>-950.880975</td>\n",
              "      <td>1676.818534</td>\n",
              "    </tr>\n",
              "    <tr>\n",
              "      <th>2022-12-28 16:30:00</th>\n",
              "      <td>70.3</td>\n",
              "      <td>-12.559445</td>\n",
              "      <td>12</td>\n",
              "      <td>57.740555</td>\n",
              "      <td>0.000000</td>\n",
              "      <td>57.740555</td>\n",
              "      <td>-8636.191386</td>\n",
              "      <td>16</td>\n",
              "      <td>-7636.191386</td>\n",
              "      <td>-942.259445</td>\n",
              "      <td>1448.016947</td>\n",
              "    </tr>\n",
              "    <tr>\n",
              "      <th>2022-12-29 16:30:00</th>\n",
              "      <td>58.0</td>\n",
              "      <td>-18.905532</td>\n",
              "      <td>12</td>\n",
              "      <td>39.094468</td>\n",
              "      <td>0.000000</td>\n",
              "      <td>39.094468</td>\n",
              "      <td>-8696.048438</td>\n",
              "      <td>16</td>\n",
              "      <td>-7696.048438</td>\n",
              "      <td>-960.905532</td>\n",
              "      <td>1940.142948</td>\n",
              "    </tr>\n",
              "    <tr>\n",
              "      <th>2022-12-30 16:30:00</th>\n",
              "      <td>56.0</td>\n",
              "      <td>-18.935125</td>\n",
              "      <td>12</td>\n",
              "      <td>37.064875</td>\n",
              "      <td>0.000000</td>\n",
              "      <td>37.064875</td>\n",
              "      <td>-8669.727766</td>\n",
              "      <td>16</td>\n",
              "      <td>-7669.727766</td>\n",
              "      <td>-962.935125</td>\n",
              "      <td>1962.935125</td>\n",
              "    </tr>\n",
              "    <tr>\n",
              "      <th>2022-12-31 16:30:00</th>\n",
              "      <td>57.8</td>\n",
              "      <td>-18.641246</td>\n",
              "      <td>12</td>\n",
              "      <td>39.158754</td>\n",
              "      <td>0.000000</td>\n",
              "      <td>39.158754</td>\n",
              "      <td>-8578.794163</td>\n",
              "      <td>16</td>\n",
              "      <td>-7578.794163</td>\n",
              "      <td>-960.841246</td>\n",
              "      <td>1960.841246</td>\n",
              "    </tr>\n",
              "  </tbody>\n",
              "</table>\n",
              "<p>365 rows × 11 columns</p>\n",
              "</div>\n",
              "      <button class=\"colab-df-convert\" onclick=\"convertToInteractive('df-1c7bc55e-893e-4795-9b4b-6f1d78ba0b90')\"\n",
              "              title=\"Convert this dataframe to an interactive table.\"\n",
              "              style=\"display:none;\">\n",
              "        \n",
              "  <svg xmlns=\"http://www.w3.org/2000/svg\" height=\"24px\"viewBox=\"0 0 24 24\"\n",
              "       width=\"24px\">\n",
              "    <path d=\"M0 0h24v24H0V0z\" fill=\"none\"/>\n",
              "    <path d=\"M18.56 5.44l.94 2.06.94-2.06 2.06-.94-2.06-.94-.94-2.06-.94 2.06-2.06.94zm-11 1L8.5 8.5l.94-2.06 2.06-.94-2.06-.94L8.5 2.5l-.94 2.06-2.06.94zm10 10l.94 2.06.94-2.06 2.06-.94-2.06-.94-.94-2.06-.94 2.06-2.06.94z\"/><path d=\"M17.41 7.96l-1.37-1.37c-.4-.4-.92-.59-1.43-.59-.52 0-1.04.2-1.43.59L10.3 9.45l-7.72 7.72c-.78.78-.78 2.05 0 2.83L4 21.41c.39.39.9.59 1.41.59.51 0 1.02-.2 1.41-.59l7.78-7.78 2.81-2.81c.8-.78.8-2.07 0-2.86zM5.41 20L4 18.59l7.72-7.72 1.47 1.35L5.41 20z\"/>\n",
              "  </svg>\n",
              "      </button>\n",
              "      \n",
              "  <style>\n",
              "    .colab-df-container {\n",
              "      display:flex;\n",
              "      flex-wrap:wrap;\n",
              "      gap: 12px;\n",
              "    }\n",
              "\n",
              "    .colab-df-convert {\n",
              "      background-color: #E8F0FE;\n",
              "      border: none;\n",
              "      border-radius: 50%;\n",
              "      cursor: pointer;\n",
              "      display: none;\n",
              "      fill: #1967D2;\n",
              "      height: 32px;\n",
              "      padding: 0 0 0 0;\n",
              "      width: 32px;\n",
              "    }\n",
              "\n",
              "    .colab-df-convert:hover {\n",
              "      background-color: #E2EBFA;\n",
              "      box-shadow: 0px 1px 2px rgba(60, 64, 67, 0.3), 0px 1px 3px 1px rgba(60, 64, 67, 0.15);\n",
              "      fill: #174EA6;\n",
              "    }\n",
              "\n",
              "    [theme=dark] .colab-df-convert {\n",
              "      background-color: #3B4455;\n",
              "      fill: #D2E3FC;\n",
              "    }\n",
              "\n",
              "    [theme=dark] .colab-df-convert:hover {\n",
              "      background-color: #434B5C;\n",
              "      box-shadow: 0px 1px 3px 1px rgba(0, 0, 0, 0.15);\n",
              "      filter: drop-shadow(0px 1px 2px rgba(0, 0, 0, 0.3));\n",
              "      fill: #FFFFFF;\n",
              "    }\n",
              "  </style>\n",
              "\n",
              "      <script>\n",
              "        const buttonEl =\n",
              "          document.querySelector('#df-1c7bc55e-893e-4795-9b4b-6f1d78ba0b90 button.colab-df-convert');\n",
              "        buttonEl.style.display =\n",
              "          google.colab.kernel.accessAllowed ? 'block' : 'none';\n",
              "\n",
              "        async function convertToInteractive(key) {\n",
              "          const element = document.querySelector('#df-1c7bc55e-893e-4795-9b4b-6f1d78ba0b90');\n",
              "          const dataTable =\n",
              "            await google.colab.kernel.invokeFunction('convertToInteractive',\n",
              "                                                     [key], {});\n",
              "          if (!dataTable) return;\n",
              "\n",
              "          const docLinkHtml = 'Like what you see? Visit the ' +\n",
              "            '<a target=\"_blank\" href=https://colab.research.google.com/notebooks/data_table.ipynb>data table notebook</a>'\n",
              "            + ' to learn more about interactive tables.';\n",
              "          element.innerHTML = '';\n",
              "          dataTable['output_type'] = 'display_data';\n",
              "          await google.colab.output.renderOutput(dataTable, element);\n",
              "          const docLink = document.createElement('div');\n",
              "          docLink.innerHTML = docLinkHtml;\n",
              "          element.appendChild(docLink);\n",
              "        }\n",
              "      </script>\n",
              "    </div>\n",
              "  </div>\n",
              "  "
            ]
          },
          "metadata": {},
          "execution_count": 59
        }
      ]
    },
    {
      "cell_type": "code",
      "source": [
        ""
      ],
      "metadata": {
        "id": "tBaRCeG8o8t-"
      },
      "execution_count": 59,
      "outputs": []
    },
    {
      "cell_type": "code",
      "source": [
        ""
      ],
      "metadata": {
        "id": "SPiH0DaNo8q9"
      },
      "execution_count": 59,
      "outputs": []
    },
    {
      "cell_type": "code",
      "source": [
        ""
      ],
      "metadata": {
        "id": "UYAHUibzo8Ur"
      },
      "execution_count": 59,
      "outputs": []
    },
    {
      "cell_type": "code",
      "source": [
        "dz = df[df[\"battery_II\"]< Batt_Threshold]"
      ],
      "metadata": {
        "id": "iIjxs8qVkDzw"
      },
      "execution_count": 60,
      "outputs": []
    },
    {
      "cell_type": "code",
      "source": [
        "dzz = dz[dz[\"hours\"] ==16]"
      ],
      "metadata": {
        "id": "-mW6Tm1DkJFZ"
      },
      "execution_count": 61,
      "outputs": []
    },
    {
      "cell_type": "code",
      "source": [
        "dzz"
      ],
      "metadata": {
        "colab": {
          "base_uri": "https://localhost:8080/",
          "height": 0
        },
        "id": "mBM0C0EmkWZ2",
        "outputId": "8f2b3505-0c59-4c46-a7da-f60100f49e79"
      },
      "execution_count": 62,
      "outputs": [
        {
          "output_type": "execute_result",
          "data": {
            "text/plain": [
              "                     Electricity (kW)  Elctricity Generated (kW)  month  \\\n",
              "Date                                                                      \n",
              "2022-01-19 16:30:00              82.1                 -29.453825      1   \n",
              "2022-01-20 16:30:00              80.5                 -32.919722      1   \n",
              "2022-12-08 16:30:00              83.8                  -5.939989     12   \n",
              "\n",
              "                           Net  Battery_Residual  Energy_Used  Battery_Left  \\\n",
              "Date                                                                          \n",
              "2022-01-19 16:30:00  52.646175               0.0    52.646175  -6834.628450   \n",
              "2022-01-20 16:30:00  47.580278               0.0    47.580278  -8004.247609   \n",
              "2022-12-08 16:30:00  77.860011               0.0    77.860011  -3928.041912   \n",
              "\n",
              "                     hours  Charging_midday       Net_2  battery_II  \n",
              "Date                                                                 \n",
              "2022-01-19 16:30:00     16     -5834.628450 -947.353825   60.715832  \n",
              "2022-01-20 16:30:00     16     -7004.247609 -952.419722 -108.903327  \n",
              "2022-12-08 16:30:00     16     -2928.041912 -922.139989  151.629561  "
            ],
            "text/html": [
              "\n",
              "  <div id=\"df-b79ca451-16af-4b47-b12d-1f1561516aab\">\n",
              "    <div class=\"colab-df-container\">\n",
              "      <div>\n",
              "<style scoped>\n",
              "    .dataframe tbody tr th:only-of-type {\n",
              "        vertical-align: middle;\n",
              "    }\n",
              "\n",
              "    .dataframe tbody tr th {\n",
              "        vertical-align: top;\n",
              "    }\n",
              "\n",
              "    .dataframe thead th {\n",
              "        text-align: right;\n",
              "    }\n",
              "</style>\n",
              "<table border=\"1\" class=\"dataframe\">\n",
              "  <thead>\n",
              "    <tr style=\"text-align: right;\">\n",
              "      <th></th>\n",
              "      <th>Electricity (kW)</th>\n",
              "      <th>Elctricity Generated (kW)</th>\n",
              "      <th>month</th>\n",
              "      <th>Net</th>\n",
              "      <th>Battery_Residual</th>\n",
              "      <th>Energy_Used</th>\n",
              "      <th>Battery_Left</th>\n",
              "      <th>hours</th>\n",
              "      <th>Charging_midday</th>\n",
              "      <th>Net_2</th>\n",
              "      <th>battery_II</th>\n",
              "    </tr>\n",
              "    <tr>\n",
              "      <th>Date</th>\n",
              "      <th></th>\n",
              "      <th></th>\n",
              "      <th></th>\n",
              "      <th></th>\n",
              "      <th></th>\n",
              "      <th></th>\n",
              "      <th></th>\n",
              "      <th></th>\n",
              "      <th></th>\n",
              "      <th></th>\n",
              "      <th></th>\n",
              "    </tr>\n",
              "  </thead>\n",
              "  <tbody>\n",
              "    <tr>\n",
              "      <th>2022-01-19 16:30:00</th>\n",
              "      <td>82.1</td>\n",
              "      <td>-29.453825</td>\n",
              "      <td>1</td>\n",
              "      <td>52.646175</td>\n",
              "      <td>0.0</td>\n",
              "      <td>52.646175</td>\n",
              "      <td>-6834.628450</td>\n",
              "      <td>16</td>\n",
              "      <td>-5834.628450</td>\n",
              "      <td>-947.353825</td>\n",
              "      <td>60.715832</td>\n",
              "    </tr>\n",
              "    <tr>\n",
              "      <th>2022-01-20 16:30:00</th>\n",
              "      <td>80.5</td>\n",
              "      <td>-32.919722</td>\n",
              "      <td>1</td>\n",
              "      <td>47.580278</td>\n",
              "      <td>0.0</td>\n",
              "      <td>47.580278</td>\n",
              "      <td>-8004.247609</td>\n",
              "      <td>16</td>\n",
              "      <td>-7004.247609</td>\n",
              "      <td>-952.419722</td>\n",
              "      <td>-108.903327</td>\n",
              "    </tr>\n",
              "    <tr>\n",
              "      <th>2022-12-08 16:30:00</th>\n",
              "      <td>83.8</td>\n",
              "      <td>-5.939989</td>\n",
              "      <td>12</td>\n",
              "      <td>77.860011</td>\n",
              "      <td>0.0</td>\n",
              "      <td>77.860011</td>\n",
              "      <td>-3928.041912</td>\n",
              "      <td>16</td>\n",
              "      <td>-2928.041912</td>\n",
              "      <td>-922.139989</td>\n",
              "      <td>151.629561</td>\n",
              "    </tr>\n",
              "  </tbody>\n",
              "</table>\n",
              "</div>\n",
              "      <button class=\"colab-df-convert\" onclick=\"convertToInteractive('df-b79ca451-16af-4b47-b12d-1f1561516aab')\"\n",
              "              title=\"Convert this dataframe to an interactive table.\"\n",
              "              style=\"display:none;\">\n",
              "        \n",
              "  <svg xmlns=\"http://www.w3.org/2000/svg\" height=\"24px\"viewBox=\"0 0 24 24\"\n",
              "       width=\"24px\">\n",
              "    <path d=\"M0 0h24v24H0V0z\" fill=\"none\"/>\n",
              "    <path d=\"M18.56 5.44l.94 2.06.94-2.06 2.06-.94-2.06-.94-.94-2.06-.94 2.06-2.06.94zm-11 1L8.5 8.5l.94-2.06 2.06-.94-2.06-.94L8.5 2.5l-.94 2.06-2.06.94zm10 10l.94 2.06.94-2.06 2.06-.94-2.06-.94-.94-2.06-.94 2.06-2.06.94z\"/><path d=\"M17.41 7.96l-1.37-1.37c-.4-.4-.92-.59-1.43-.59-.52 0-1.04.2-1.43.59L10.3 9.45l-7.72 7.72c-.78.78-.78 2.05 0 2.83L4 21.41c.39.39.9.59 1.41.59.51 0 1.02-.2 1.41-.59l7.78-7.78 2.81-2.81c.8-.78.8-2.07 0-2.86zM5.41 20L4 18.59l7.72-7.72 1.47 1.35L5.41 20z\"/>\n",
              "  </svg>\n",
              "      </button>\n",
              "      \n",
              "  <style>\n",
              "    .colab-df-container {\n",
              "      display:flex;\n",
              "      flex-wrap:wrap;\n",
              "      gap: 12px;\n",
              "    }\n",
              "\n",
              "    .colab-df-convert {\n",
              "      background-color: #E8F0FE;\n",
              "      border: none;\n",
              "      border-radius: 50%;\n",
              "      cursor: pointer;\n",
              "      display: none;\n",
              "      fill: #1967D2;\n",
              "      height: 32px;\n",
              "      padding: 0 0 0 0;\n",
              "      width: 32px;\n",
              "    }\n",
              "\n",
              "    .colab-df-convert:hover {\n",
              "      background-color: #E2EBFA;\n",
              "      box-shadow: 0px 1px 2px rgba(60, 64, 67, 0.3), 0px 1px 3px 1px rgba(60, 64, 67, 0.15);\n",
              "      fill: #174EA6;\n",
              "    }\n",
              "\n",
              "    [theme=dark] .colab-df-convert {\n",
              "      background-color: #3B4455;\n",
              "      fill: #D2E3FC;\n",
              "    }\n",
              "\n",
              "    [theme=dark] .colab-df-convert:hover {\n",
              "      background-color: #434B5C;\n",
              "      box-shadow: 0px 1px 3px 1px rgba(0, 0, 0, 0.15);\n",
              "      filter: drop-shadow(0px 1px 2px rgba(0, 0, 0, 0.3));\n",
              "      fill: #FFFFFF;\n",
              "    }\n",
              "  </style>\n",
              "\n",
              "      <script>\n",
              "        const buttonEl =\n",
              "          document.querySelector('#df-b79ca451-16af-4b47-b12d-1f1561516aab button.colab-df-convert');\n",
              "        buttonEl.style.display =\n",
              "          google.colab.kernel.accessAllowed ? 'block' : 'none';\n",
              "\n",
              "        async function convertToInteractive(key) {\n",
              "          const element = document.querySelector('#df-b79ca451-16af-4b47-b12d-1f1561516aab');\n",
              "          const dataTable =\n",
              "            await google.colab.kernel.invokeFunction('convertToInteractive',\n",
              "                                                     [key], {});\n",
              "          if (!dataTable) return;\n",
              "\n",
              "          const docLinkHtml = 'Like what you see? Visit the ' +\n",
              "            '<a target=\"_blank\" href=https://colab.research.google.com/notebooks/data_table.ipynb>data table notebook</a>'\n",
              "            + ' to learn more about interactive tables.';\n",
              "          element.innerHTML = '';\n",
              "          dataTable['output_type'] = 'display_data';\n",
              "          await google.colab.output.renderOutput(dataTable, element);\n",
              "          const docLink = document.createElement('div');\n",
              "          docLink.innerHTML = docLinkHtml;\n",
              "          element.appendChild(docLink);\n",
              "        }\n",
              "      </script>\n",
              "    </div>\n",
              "  </div>\n",
              "  "
            ]
          },
          "metadata": {},
          "execution_count": 62
        }
      ]
    },
    {
      "cell_type": "code",
      "source": [
        "rows_count_2 = dzz.count()[0]"
      ],
      "metadata": {
        "id": "oWJUZkaGt_V4"
      },
      "execution_count": 63,
      "outputs": []
    },
    {
      "cell_type": "code",
      "source": [
        "rows_count_2"
      ],
      "metadata": {
        "colab": {
          "base_uri": "https://localhost:8080/"
        },
        "id": "t1KK-EMpuQl6",
        "outputId": "7d719e8b-370c-43a6-d2b5-f1f671940407"
      },
      "execution_count": 64,
      "outputs": [
        {
          "output_type": "execute_result",
          "data": {
            "text/plain": [
              "3"
            ]
          },
          "metadata": {},
          "execution_count": 64
        }
      ]
    },
    {
      "cell_type": "code",
      "source": [
        "print(\"The number of charing in 16:30 is\",rows_count_1-rows_count_2)"
      ],
      "metadata": {
        "colab": {
          "base_uri": "https://localhost:8080/"
        },
        "id": "vx06PzBTuEN1",
        "outputId": "119a4441-8085-4e0d-e873-52ef6e380667"
      },
      "execution_count": 65,
      "outputs": [
        {
          "output_type": "stream",
          "name": "stdout",
          "text": [
            "The number of charing in 16:30 is 119\n"
          ]
        }
      ]
    },
    {
      "cell_type": "code",
      "source": [
        "Batt_Emission = (rows_count_1-rows_count_2)*0.384"
      ],
      "metadata": {
        "id": "FDEAklAEiRBM"
      },
      "execution_count": 66,
      "outputs": []
    },
    {
      "cell_type": "code",
      "source": [
        "print(\"The amount of CO2 emission from charging batteries at midday is\",Batt_Emission,\"Kg CO2/KWh\")"
      ],
      "metadata": {
        "id": "cHoBn1rIizED",
        "colab": {
          "base_uri": "https://localhost:8080/"
        },
        "outputId": "fcb3a505-59cd-41d3-d5d2-47aeabafce92"
      },
      "execution_count": 67,
      "outputs": [
        {
          "output_type": "stream",
          "name": "stdout",
          "text": [
            "The amount of CO2 emission from charging batteries at midday is 45.696 Kg CO2/KWh\n"
          ]
        }
      ]
    },
    {
      "cell_type": "code",
      "source": [
        "plt.figure(figsize=(12,6))\n",
        "display(plt.plot(df[\"battery_II\"]))"
      ],
      "metadata": {
        "colab": {
          "base_uri": "https://localhost:8080/",
          "height": 0
        },
        "id": "oFjeCNJKptwJ",
        "outputId": "7ef21ffe-3dcf-4272-b48a-122b792cd093"
      },
      "execution_count": 68,
      "outputs": [
        {
          "output_type": "display_data",
          "data": {
            "text/plain": [
              "[<matplotlib.lines.Line2D at 0x7ff0799bb210>]"
            ]
          },
          "metadata": {}
        },
        {
          "output_type": "display_data",
          "data": {
            "text/plain": [
              "<Figure size 864x432 with 1 Axes>"
            ],
            "image/png": "[encoded data removed]"
          },
          "metadata": {
            "needs_background": "light"
          }
        }
      ]
    },
    {
      "cell_type": "markdown",
      "source": [
        "# **Charging the Battery**"
      ],
      "metadata": {
        "id": "3ZNW37VoNAqr"
      }
    },
    {
      "cell_type": "code",
      "source": [
        "df[\"Defibrillator_Value\"] = np.minimum(df.battery_II,0)"
      ],
      "metadata": {
        "id": "vQSem42zz0ea"
      },
      "execution_count": 69,
      "outputs": []
    },
    {
      "cell_type": "code",
      "source": [
        "df.Defibrillator_Value.describe()"
      ],
      "metadata": {
        "colab": {
          "base_uri": "https://localhost:8080/"
        },
        "id": "b-bNLerTQ1zO",
        "outputId": "3498dc07-dafd-4875-c43c-a49ac88eaca5"
      },
      "execution_count": 70,
      "outputs": [
        {
          "output_type": "execute_result",
          "data": {
            "text/plain": [
              "count    8760.000000\n",
              "mean       -6.373192\n",
              "std        62.637537\n",
              "min     -1238.382801\n",
              "25%         0.000000\n",
              "50%         0.000000\n",
              "75%         0.000000\n",
              "max         0.000000\n",
              "Name: Defibrillator_Value, dtype: float64"
            ]
          },
          "metadata": {},
          "execution_count": 70
        }
      ]
    },
    {
      "cell_type": "code",
      "source": [
        "df.Defibrillator_Value.min()"
      ],
      "metadata": {
        "colab": {
          "base_uri": "https://localhost:8080/"
        },
        "id": "GaAyZzAiZmxi",
        "outputId": "8112717c-bde3-44b6-8cce-d660cc21d3c3"
      },
      "execution_count": 71,
      "outputs": [
        {
          "output_type": "execute_result",
          "data": {
            "text/plain": [
              "-1238.3828010000002"
            ]
          },
          "metadata": {},
          "execution_count": 71
        }
      ]
    },
    {
      "cell_type": "code",
      "source": [
        "import math\n",
        "ll = []\n",
        "for i in df.Defibrillator_Value:\n",
        "  if i < 0:\n",
        "   #num = int(str(abs(i))[0])\n",
        "   p = math.ceil(abs(i)/1000)\n",
        "   #m=str(p)\n",
        "   #leni = len(m)\n",
        "   ll.append(p)\n",
        "   #i = i+p*1000\n",
        "  else:\n",
        "    ll.append(0)"
      ],
      "metadata": {
        "id": "vHyXdeLaC-Pc"
      },
      "execution_count": 72,
      "outputs": []
    },
    {
      "cell_type": "code",
      "source": [
        "len(ll)"
      ],
      "metadata": {
        "colab": {
          "base_uri": "https://localhost:8080/"
        },
        "id": "jRCR30UIDMyk",
        "outputId": "a7ddad41-9b23-4fb6-cbbc-ec611a042be5"
      },
      "execution_count": 73,
      "outputs": [
        {
          "output_type": "execute_result",
          "data": {
            "text/plain": [
              "8760"
            ]
          },
          "metadata": {},
          "execution_count": 73
        }
      ]
    },
    {
      "cell_type": "code",
      "source": [
        "df[\"ll\"] = ll"
      ],
      "metadata": {
        "id": "xxRRKZjdDP3E"
      },
      "execution_count": 74,
      "outputs": []
    },
    {
      "cell_type": "code",
      "source": [
        "df.ll.describe()"
      ],
      "metadata": {
        "colab": {
          "base_uri": "https://localhost:8080/"
        },
        "id": "ViaBlOsWDWNB",
        "outputId": "23ce506a-b30b-408a-e364-6fdad046aebb"
      },
      "execution_count": 75,
      "outputs": [
        {
          "output_type": "execute_result",
          "data": {
            "text/plain": [
              "count    8760.000000\n",
              "mean        0.020548\n",
              "std         0.149704\n",
              "min         0.000000\n",
              "25%         0.000000\n",
              "50%         0.000000\n",
              "75%         0.000000\n",
              "max         2.000000\n",
              "Name: ll, dtype: float64"
            ]
          },
          "metadata": {},
          "execution_count": 75
        }
      ]
    },
    {
      "cell_type": "code",
      "source": [
        "df[\"Offset_Amount\"] = df.ll*1000"
      ],
      "metadata": {
        "id": "qkyzWZxVey4S"
      },
      "execution_count": 76,
      "outputs": []
    },
    {
      "cell_type": "code",
      "source": [
        "df[df[\"ll\"] == 9]"
      ],
      "metadata": {
        "colab": {
          "base_uri": "https://localhost:8080/",
          "height": 81
        },
        "id": "WuTl_nIhfG_Q",
        "outputId": "fd244807-8c22-48a2-c18c-1b723813fff1"
      },
      "execution_count": 77,
      "outputs": [
        {
          "output_type": "execute_result",
          "data": {
            "text/plain": [
              "Empty DataFrame\n",
              "Columns: [Electricity (kW), Elctricity Generated (kW), month, Net, Battery_Residual, Energy_Used, Battery_Left, hours, Charging_midday, Net_2, battery_II, Defibrillator_Value, ll, Offset_Amount]\n",
              "Index: []"
            ],
            "text/html": [
              "\n",
              "  <div id=\"df-da14db4d-9223-4a44-a7f8-c3b60d5b18f9\">\n",
              "    <div class=\"colab-df-container\">\n",
              "      <div>\n",
              "<style scoped>\n",
              "    .dataframe tbody tr th:only-of-type {\n",
              "        vertical-align: middle;\n",
              "    }\n",
              "\n",
              "    .dataframe tbody tr th {\n",
              "        vertical-align: top;\n",
              "    }\n",
              "\n",
              "    .dataframe thead th {\n",
              "        text-align: right;\n",
              "    }\n",
              "</style>\n",
              "<table border=\"1\" class=\"dataframe\">\n",
              "  <thead>\n",
              "    <tr style=\"text-align: right;\">\n",
              "      <th></th>\n",
              "      <th>Electricity (kW)</th>\n",
              "      <th>Elctricity Generated (kW)</th>\n",
              "      <th>month</th>\n",
              "      <th>Net</th>\n",
              "      <th>Battery_Residual</th>\n",
              "      <th>Energy_Used</th>\n",
              "      <th>Battery_Left</th>\n",
              "      <th>hours</th>\n",
              "      <th>Charging_midday</th>\n",
              "      <th>Net_2</th>\n",
              "      <th>battery_II</th>\n",
              "      <th>Defibrillator_Value</th>\n",
              "      <th>ll</th>\n",
              "      <th>Offset_Amount</th>\n",
              "    </tr>\n",
              "    <tr>\n",
              "      <th>Date</th>\n",
              "      <th></th>\n",
              "      <th></th>\n",
              "      <th></th>\n",
              "      <th></th>\n",
              "      <th></th>\n",
              "      <th></th>\n",
              "      <th></th>\n",
              "      <th></th>\n",
              "      <th></th>\n",
              "      <th></th>\n",
              "      <th></th>\n",
              "      <th></th>\n",
              "      <th></th>\n",
              "      <th></th>\n",
              "    </tr>\n",
              "  </thead>\n",
              "  <tbody>\n",
              "  </tbody>\n",
              "</table>\n",
              "</div>\n",
              "      <button class=\"colab-df-convert\" onclick=\"convertToInteractive('df-da14db4d-9223-4a44-a7f8-c3b60d5b18f9')\"\n",
              "              title=\"Convert this dataframe to an interactive table.\"\n",
              "              style=\"display:none;\">\n",
              "        \n",
              "  <svg xmlns=\"http://www.w3.org/2000/svg\" height=\"24px\"viewBox=\"0 0 24 24\"\n",
              "       width=\"24px\">\n",
              "    <path d=\"M0 0h24v24H0V0z\" fill=\"none\"/>\n",
              "    <path d=\"M18.56 5.44l.94 2.06.94-2.06 2.06-.94-2.06-.94-.94-2.06-.94 2.06-2.06.94zm-11 1L8.5 8.5l.94-2.06 2.06-.94-2.06-.94L8.5 2.5l-.94 2.06-2.06.94zm10 10l.94 2.06.94-2.06 2.06-.94-2.06-.94-.94-2.06-.94 2.06-2.06.94z\"/><path d=\"M17.41 7.96l-1.37-1.37c-.4-.4-.92-.59-1.43-.59-.52 0-1.04.2-1.43.59L10.3 9.45l-7.72 7.72c-.78.78-.78 2.05 0 2.83L4 21.41c.39.39.9.59 1.41.59.51 0 1.02-.2 1.41-.59l7.78-7.78 2.81-2.81c.8-.78.8-2.07 0-2.86zM5.41 20L4 18.59l7.72-7.72 1.47 1.35L5.41 20z\"/>\n",
              "  </svg>\n",
              "      </button>\n",
              "      \n",
              "  <style>\n",
              "    .colab-df-container {\n",
              "      display:flex;\n",
              "      flex-wrap:wrap;\n",
              "      gap: 12px;\n",
              "    }\n",
              "\n",
              "    .colab-df-convert {\n",
              "      background-color: #E8F0FE;\n",
              "      border: none;\n",
              "      border-radius: 50%;\n",
              "      cursor: pointer;\n",
              "      display: none;\n",
              "      fill: #1967D2;\n",
              "      height: 32px;\n",
              "      padding: 0 0 0 0;\n",
              "      width: 32px;\n",
              "    }\n",
              "\n",
              "    .colab-df-convert:hover {\n",
              "      background-color: #E2EBFA;\n",
              "      box-shadow: 0px 1px 2px rgba(60, 64, 67, 0.3), 0px 1px 3px 1px rgba(60, 64, 67, 0.15);\n",
              "      fill: #174EA6;\n",
              "    }\n",
              "\n",
              "    [theme=dark] .colab-df-convert {\n",
              "      background-color: #3B4455;\n",
              "      fill: #D2E3FC;\n",
              "    }\n",
              "\n",
              "    [theme=dark] .colab-df-convert:hover {\n",
              "      background-color: #434B5C;\n",
              "      box-shadow: 0px 1px 3px 1px rgba(0, 0, 0, 0.15);\n",
              "      filter: drop-shadow(0px 1px 2px rgba(0, 0, 0, 0.3));\n",
              "      fill: #FFFFFF;\n",
              "    }\n",
              "  </style>\n",
              "\n",
              "      <script>\n",
              "        const buttonEl =\n",
              "          document.querySelector('#df-da14db4d-9223-4a44-a7f8-c3b60d5b18f9 button.colab-df-convert');\n",
              "        buttonEl.style.display =\n",
              "          google.colab.kernel.accessAllowed ? 'block' : 'none';\n",
              "\n",
              "        async function convertToInteractive(key) {\n",
              "          const element = document.querySelector('#df-da14db4d-9223-4a44-a7f8-c3b60d5b18f9');\n",
              "          const dataTable =\n",
              "            await google.colab.kernel.invokeFunction('convertToInteractive',\n",
              "                                                     [key], {});\n",
              "          if (!dataTable) return;\n",
              "\n",
              "          const docLinkHtml = 'Like what you see? Visit the ' +\n",
              "            '<a target=\"_blank\" href=https://colab.research.google.com/notebooks/data_table.ipynb>data table notebook</a>'\n",
              "            + ' to learn more about interactive tables.';\n",
              "          element.innerHTML = '';\n",
              "          dataTable['output_type'] = 'display_data';\n",
              "          await google.colab.output.renderOutput(dataTable, element);\n",
              "          const docLink = document.createElement('div');\n",
              "          docLink.innerHTML = docLinkHtml;\n",
              "          element.appendChild(docLink);\n",
              "        }\n",
              "      </script>\n",
              "    </div>\n",
              "  </div>\n",
              "  "
            ]
          },
          "metadata": {},
          "execution_count": 77
        }
      ]
    },
    {
      "cell_type": "code",
      "source": [
        "df[\"Battery_Recharge\"] = df.Offset_Amount+df.Defibrillator_Value"
      ],
      "metadata": {
        "id": "zchTGOiZfb8X"
      },
      "execution_count": 78,
      "outputs": []
    },
    {
      "cell_type": "code",
      "source": [
        "# Count how many times the battery is being Charged\n",
        "count = df[\"Offset_Amount\"][df[\"Offset_Amount\"]>0].count()\n",
        "count"
      ],
      "metadata": {
        "colab": {
          "base_uri": "https://localhost:8080/"
        },
        "id": "sIflQIUWTlIY",
        "outputId": "66f33db3-8d3d-44c3-dedd-7c5fd1070f16"
      },
      "execution_count": 79,
      "outputs": [
        {
          "output_type": "execute_result",
          "data": {
            "text/plain": [
              "170"
            ]
          },
          "metadata": {},
          "execution_count": 79
        }
      ]
    },
    {
      "cell_type": "code",
      "source": [
        "df.ll.unique()"
      ],
      "metadata": {
        "colab": {
          "base_uri": "https://localhost:8080/"
        },
        "id": "UXWL56ph5EqE",
        "outputId": "b6f183cd-1197-4f2f-9bc7-7cd70a7e8032"
      },
      "execution_count": 80,
      "outputs": [
        {
          "output_type": "execute_result",
          "data": {
            "text/plain": [
              "array([0, 1, 2])"
            ]
          },
          "metadata": {},
          "execution_count": 80
        }
      ]
    },
    {
      "cell_type": "code",
      "source": [
        "Times = len(df.ll.unique())-1\n",
        "print(\"The total number of charging the battery is\",Times, \"times\")"
      ],
      "metadata": {
        "colab": {
          "base_uri": "https://localhost:8080/"
        },
        "id": "-r1K4gLN5ZaS",
        "outputId": "1ecaf8f8-27ce-4f5c-8da2-b3e719debc49"
      },
      "execution_count": 81,
      "outputs": [
        {
          "output_type": "stream",
          "name": "stdout",
          "text": [
            "The total number of charging the battery is 2 times\n"
          ]
        }
      ]
    },
    {
      "cell_type": "code",
      "source": [
        "df[\"T\"] = df['battery_II']+ df['Battery_Recharge']\n",
        "display(plt.plot(df[\"T\"]))"
      ],
      "metadata": {
        "colab": {
          "base_uri": "https://localhost:8080/",
          "height": 282
        },
        "id": "bq0KH3fNKv1u",
        "outputId": "39fa0aa0-4f59-4272-9ef0-841d736f0ffb"
      },
      "execution_count": 82,
      "outputs": [
        {
          "output_type": "display_data",
          "data": {
            "text/plain": [
              "[<matplotlib.lines.Line2D at 0x7ff079cea3d0>]"
            ]
          },
          "metadata": {}
        },
        {
          "output_type": "display_data",
          "data": {
            "text/plain": [
              "<Figure size 432x288 with 1 Axes>"
            ],
            "image/png": "[encoded data removed]"
          },
          "metadata": {
            "needs_background": "light"
          }
        }
      ]
    },
    {
      "cell_type": "code",
      "source": [
        "df.info()"
      ],
      "metadata": {
        "colab": {
          "base_uri": "https://localhost:8080/"
        },
        "id": "dtgbp1mxNZhd",
        "outputId": "f4455637-1ea9-4143-def9-6db5d44ec69c"
      },
      "execution_count": 83,
      "outputs": [
        {
          "output_type": "stream",
          "name": "stdout",
          "text": [
            "<class 'pandas.core.frame.DataFrame'>\n",
            "DatetimeIndex: 8760 entries, 2022-01-01 00:30:00 to 2022-12-31 23:30:00\n",
            "Data columns (total 16 columns):\n",
            " #   Column                     Non-Null Count  Dtype  \n",
            "---  ------                     --------------  -----  \n",
            " 0   Electricity (kW)           8760 non-null   float64\n",
            " 1   Elctricity Generated (kW)  8760 non-null   float64\n",
            " 2   month                      8760 non-null   int64  \n",
            " 3   Net                        8760 non-null   float64\n",
            " 4   Battery_Residual           8760 non-null   float64\n",
            " 5   Energy_Used                8760 non-null   float64\n",
            " 6   Battery_Left               8760 non-null   float64\n",
            " 7   hours                      8760 non-null   int64  \n",
            " 8   Charging_midday            8760 non-null   float64\n",
            " 9   Net_2                      8760 non-null   float64\n",
            " 10  battery_II                 8760 non-null   float64\n",
            " 11  Defibrillator_Value        8760 non-null   float64\n",
            " 12  ll                         8760 non-null   int64  \n",
            " 13  Offset_Amount              8760 non-null   int64  \n",
            " 14  Battery_Recharge           8760 non-null   float64\n",
            " 15  T                          8760 non-null   float64\n",
            "dtypes: float64(12), int64(4)\n",
            "memory usage: 1.1 MB\n"
          ]
        }
      ]
    },
    {
      "cell_type": "code",
      "source": [
        "df[\"T\"][df[\"T\"] < 0] = 0 # Replacing the negativevalues with zero"
      ],
      "metadata": {
        "colab": {
          "base_uri": "https://localhost:8080/"
        },
        "id": "kfAG4muOORlJ",
        "outputId": "d4ce6d99-9c7d-47c3-c839-c31b97a1c32d"
      },
      "execution_count": 84,
      "outputs": [
        {
          "output_type": "stream",
          "name": "stderr",
          "text": [
            "/usr/local/lib/python3.7/dist-packages/ipykernel_launcher.py:1: SettingWithCopyWarning: \n",
            "A value is trying to be set on a copy of a slice from a DataFrame\n",
            "\n",
            "See the caveats in the documentation: https://pandas.pydata.org/pandas-docs/stable/user_guide/indexing.html#returning-a-view-versus-a-copy\n",
            "  \"\"\"Entry point for launching an IPython kernel.\n"
          ]
        }
      ]
    },
    {
      "cell_type": "code",
      "source": [
        "df[df['T'] > 1000]"
      ],
      "metadata": {
        "colab": {
          "base_uri": "https://localhost:8080/",
          "height": 901
        },
        "id": "154nmoWd6iG5",
        "outputId": "d800402e-8080-4d4c-9060-c4dab6069bd5"
      },
      "execution_count": 85,
      "outputs": [
        {
          "output_type": "execute_result",
          "data": {
            "text/plain": [
              "                     Electricity (kW)  Elctricity Generated (kW)  month  \\\n",
              "Date                                                                      \n",
              "2022-01-01 12:30:00             102.0                -238.124616      1   \n",
              "2022-01-01 13:30:00             112.8                -223.160813      1   \n",
              "2022-01-01 14:30:00              99.7                -178.336794      1   \n",
              "2022-01-01 15:30:00              88.0                -108.254124      1   \n",
              "2022-01-02 11:30:00              66.7                -251.218786      1   \n",
              "...                               ...                        ...    ...   \n",
              "2022-12-30 16:30:00              56.0                 -18.935125     12   \n",
              "2022-12-31 13:30:00             119.0                -232.196347     12   \n",
              "2022-12-31 14:30:00             107.0                -178.928361     12   \n",
              "2022-12-31 15:30:00              94.4                -103.309456     12   \n",
              "2022-12-31 16:30:00              57.8                 -18.641246     12   \n",
              "\n",
              "                            Net  Battery_Residual  Energy_Used  Battery_Left  \\\n",
              "Date                                                                           \n",
              "2022-01-01 12:30:00 -136.124616        136.124616     0.000000   1077.924125   \n",
              "2022-01-01 13:30:00 -110.360813        110.360813     0.000000   1110.360813   \n",
              "2022-01-01 14:30:00  -78.636794         78.636794     0.000000   1078.636794   \n",
              "2022-01-01 15:30:00  -20.254124         20.254124     0.000000   1020.254124   \n",
              "2022-01-02 11:30:00 -184.518786        184.518786     0.000000   1110.617396   \n",
              "...                         ...               ...          ...           ...   \n",
              "2022-12-30 16:30:00   37.064875          0.000000    37.064875  -8669.727766   \n",
              "2022-12-31 13:30:00 -113.196347        113.196347     0.000000  -8620.473226   \n",
              "2022-12-31 14:30:00  -71.928361         71.928361     0.000000  -8548.544865   \n",
              "2022-12-31 15:30:00   -8.909456          8.909456     0.000000  -8539.635409   \n",
              "2022-12-31 16:30:00   39.158754          0.000000    39.158754  -8578.794163   \n",
              "\n",
              "                     hours  Charging_midday       Net_2   battery_II  \\\n",
              "Date                                                                   \n",
              "2022-01-01 12:30:00     12         0.000000 -136.124616  1077.924125   \n",
              "2022-01-01 13:30:00     13         0.000000 -110.360813  1110.360813   \n",
              "2022-01-01 14:30:00     14         0.000000  -78.636794  1078.636794   \n",
              "2022-01-01 15:30:00     15         0.000000  -20.254124  1020.254124   \n",
              "2022-01-02 11:30:00     11         0.000000 -184.518786  1110.617396   \n",
              "...                    ...              ...         ...          ...   \n",
              "2022-12-30 16:30:00     16     -7669.727766 -962.935125  1962.935125   \n",
              "2022-12-31 13:30:00     13         0.000000 -113.196347  1049.254540   \n",
              "2022-12-31 14:30:00     14         0.000000  -71.928361  1071.928361   \n",
              "2022-12-31 15:30:00     15         0.000000   -8.909456  1008.909456   \n",
              "2022-12-31 16:30:00     16     -7578.794163 -960.841246  1960.841246   \n",
              "\n",
              "                     Defibrillator_Value  ll  Offset_Amount  Battery_Recharge  \\\n",
              "Date                                                                            \n",
              "2022-01-01 12:30:00                  0.0   0              0               0.0   \n",
              "2022-01-01 13:30:00                  0.0   0              0               0.0   \n",
              "2022-01-01 14:30:00                  0.0   0              0               0.0   \n",
              "2022-01-01 15:30:00                  0.0   0              0               0.0   \n",
              "2022-01-02 11:30:00                  0.0   0              0               0.0   \n",
              "...                                  ...  ..            ...               ...   \n",
              "2022-12-30 16:30:00                  0.0   0              0               0.0   \n",
              "2022-12-31 13:30:00                  0.0   0              0               0.0   \n",
              "2022-12-31 14:30:00                  0.0   0              0               0.0   \n",
              "2022-12-31 15:30:00                  0.0   0              0               0.0   \n",
              "2022-12-31 16:30:00                  0.0   0              0               0.0   \n",
              "\n",
              "                               T  \n",
              "Date                              \n",
              "2022-01-01 12:30:00  1077.924125  \n",
              "2022-01-01 13:30:00  1110.360813  \n",
              "2022-01-01 14:30:00  1078.636794  \n",
              "2022-01-01 15:30:00  1020.254124  \n",
              "2022-01-02 11:30:00  1110.617396  \n",
              "...                          ...  \n",
              "2022-12-30 16:30:00  1962.935125  \n",
              "2022-12-31 13:30:00  1049.254540  \n",
              "2022-12-31 14:30:00  1071.928361  \n",
              "2022-12-31 15:30:00  1008.909456  \n",
              "2022-12-31 16:30:00  1960.841246  \n",
              "\n",
              "[1741 rows x 16 columns]"
            ],
            "text/html": [
              "\n",
              "  <div id=\"df-9cbf96ac-fa81-4e83-8db6-b40b9cd1b94e\">\n",
              "    <div class=\"colab-df-container\">\n",
              "      <div>\n",
              "<style scoped>\n",
              "    .dataframe tbody tr th:only-of-type {\n",
              "        vertical-align: middle;\n",
              "    }\n",
              "\n",
              "    .dataframe tbody tr th {\n",
              "        vertical-align: top;\n",
              "    }\n",
              "\n",
              "    .dataframe thead th {\n",
              "        text-align: right;\n",
              "    }\n",
              "</style>\n",
              "<table border=\"1\" class=\"dataframe\">\n",
              "  <thead>\n",
              "    <tr style=\"text-align: right;\">\n",
              "      <th></th>\n",
              "      <th>Electricity (kW)</th>\n",
              "      <th>Elctricity Generated (kW)</th>\n",
              "      <th>month</th>\n",
              "      <th>Net</th>\n",
              "      <th>Battery_Residual</th>\n",
              "      <th>Energy_Used</th>\n",
              "      <th>Battery_Left</th>\n",
              "      <th>hours</th>\n",
              "      <th>Charging_midday</th>\n",
              "      <th>Net_2</th>\n",
              "      <th>battery_II</th>\n",
              "      <th>Defibrillator_Value</th>\n",
              "      <th>ll</th>\n",
              "      <th>Offset_Amount</th>\n",
              "      <th>Battery_Recharge</th>\n",
              "      <th>T</th>\n",
              "    </tr>\n",
              "    <tr>\n",
              "      <th>Date</th>\n",
              "      <th></th>\n",
              "      <th></th>\n",
              "      <th></th>\n",
              "      <th></th>\n",
              "      <th></th>\n",
              "      <th></th>\n",
              "      <th></th>\n",
              "      <th></th>\n",
              "      <th></th>\n",
              "      <th></th>\n",
              "      <th></th>\n",
              "      <th></th>\n",
              "      <th></th>\n",
              "      <th></th>\n",
              "      <th></th>\n",
              "      <th></th>\n",
              "    </tr>\n",
              "  </thead>\n",
              "  <tbody>\n",
              "    <tr>\n",
              "      <th>2022-01-01 12:30:00</th>\n",
              "      <td>102.0</td>\n",
              "      <td>-238.124616</td>\n",
              "      <td>1</td>\n",
              "      <td>-136.124616</td>\n",
              "      <td>136.124616</td>\n",
              "      <td>0.000000</td>\n",
              "      <td>1077.924125</td>\n",
              "      <td>12</td>\n",
              "      <td>0.000000</td>\n",
              "      <td>-136.124616</td>\n",
              "      <td>1077.924125</td>\n",
              "      <td>0.0</td>\n",
              "      <td>0</td>\n",
              "      <td>0</td>\n",
              "      <td>0.0</td>\n",
              "      <td>1077.924125</td>\n",
              "    </tr>\n",
              "    <tr>\n",
              "      <th>2022-01-01 13:30:00</th>\n",
              "      <td>112.8</td>\n",
              "      <td>-223.160813</td>\n",
              "      <td>1</td>\n",
              "      <td>-110.360813</td>\n",
              "      <td>110.360813</td>\n",
              "      <td>0.000000</td>\n",
              "      <td>1110.360813</td>\n",
              "      <td>13</td>\n",
              "      <td>0.000000</td>\n",
              "      <td>-110.360813</td>\n",
              "      <td>1110.360813</td>\n",
              "      <td>0.0</td>\n",
              "      <td>0</td>\n",
              "      <td>0</td>\n",
              "      <td>0.0</td>\n",
              "      <td>1110.360813</td>\n",
              "    </tr>\n",
              "    <tr>\n",
              "      <th>2022-01-01 14:30:00</th>\n",
              "      <td>99.7</td>\n",
              "      <td>-178.336794</td>\n",
              "      <td>1</td>\n",
              "      <td>-78.636794</td>\n",
              "      <td>78.636794</td>\n",
              "      <td>0.000000</td>\n",
              "      <td>1078.636794</td>\n",
              "      <td>14</td>\n",
              "      <td>0.000000</td>\n",
              "      <td>-78.636794</td>\n",
              "      <td>1078.636794</td>\n",
              "      <td>0.0</td>\n",
              "      <td>0</td>\n",
              "      <td>0</td>\n",
              "      <td>0.0</td>\n",
              "      <td>1078.636794</td>\n",
              "    </tr>\n",
              "    <tr>\n",
              "      <th>2022-01-01 15:30:00</th>\n",
              "      <td>88.0</td>\n",
              "      <td>-108.254124</td>\n",
              "      <td>1</td>\n",
              "      <td>-20.254124</td>\n",
              "      <td>20.254124</td>\n",
              "      <td>0.000000</td>\n",
              "      <td>1020.254124</td>\n",
              "      <td>15</td>\n",
              "      <td>0.000000</td>\n",
              "      <td>-20.254124</td>\n",
              "      <td>1020.254124</td>\n",
              "      <td>0.0</td>\n",
              "      <td>0</td>\n",
              "      <td>0</td>\n",
              "      <td>0.0</td>\n",
              "      <td>1020.254124</td>\n",
              "    </tr>\n",
              "    <tr>\n",
              "      <th>2022-01-02 11:30:00</th>\n",
              "      <td>66.7</td>\n",
              "      <td>-251.218786</td>\n",
              "      <td>1</td>\n",
              "      <td>-184.518786</td>\n",
              "      <td>184.518786</td>\n",
              "      <td>0.000000</td>\n",
              "      <td>1110.617396</td>\n",
              "      <td>11</td>\n",
              "      <td>0.000000</td>\n",
              "      <td>-184.518786</td>\n",
              "      <td>1110.617396</td>\n",
              "      <td>0.0</td>\n",
              "      <td>0</td>\n",
              "      <td>0</td>\n",
              "      <td>0.0</td>\n",
              "      <td>1110.617396</td>\n",
              "    </tr>\n",
              "    <tr>\n",
              "      <th>...</th>\n",
              "      <td>...</td>\n",
              "      <td>...</td>\n",
              "      <td>...</td>\n",
              "      <td>...</td>\n",
              "      <td>...</td>\n",
              "      <td>...</td>\n",
              "      <td>...</td>\n",
              "      <td>...</td>\n",
              "      <td>...</td>\n",
              "      <td>...</td>\n",
              "      <td>...</td>\n",
              "      <td>...</td>\n",
              "      <td>...</td>\n",
              "      <td>...</td>\n",
              "      <td>...</td>\n",
              "      <td>...</td>\n",
              "    </tr>\n",
              "    <tr>\n",
              "      <th>2022-12-30 16:30:00</th>\n",
              "      <td>56.0</td>\n",
              "      <td>-18.935125</td>\n",
              "      <td>12</td>\n",
              "      <td>37.064875</td>\n",
              "      <td>0.000000</td>\n",
              "      <td>37.064875</td>\n",
              "      <td>-8669.727766</td>\n",
              "      <td>16</td>\n",
              "      <td>-7669.727766</td>\n",
              "      <td>-962.935125</td>\n",
              "      <td>1962.935125</td>\n",
              "      <td>0.0</td>\n",
              "      <td>0</td>\n",
              "      <td>0</td>\n",
              "      <td>0.0</td>\n",
              "      <td>1962.935125</td>\n",
              "    </tr>\n",
              "    <tr>\n",
              "      <th>2022-12-31 13:30:00</th>\n",
              "      <td>119.0</td>\n",
              "      <td>-232.196347</td>\n",
              "      <td>12</td>\n",
              "      <td>-113.196347</td>\n",
              "      <td>113.196347</td>\n",
              "      <td>0.000000</td>\n",
              "      <td>-8620.473226</td>\n",
              "      <td>13</td>\n",
              "      <td>0.000000</td>\n",
              "      <td>-113.196347</td>\n",
              "      <td>1049.254540</td>\n",
              "      <td>0.0</td>\n",
              "      <td>0</td>\n",
              "      <td>0</td>\n",
              "      <td>0.0</td>\n",
              "      <td>1049.254540</td>\n",
              "    </tr>\n",
              "    <tr>\n",
              "      <th>2022-12-31 14:30:00</th>\n",
              "      <td>107.0</td>\n",
              "      <td>-178.928361</td>\n",
              "      <td>12</td>\n",
              "      <td>-71.928361</td>\n",
              "      <td>71.928361</td>\n",
              "      <td>0.000000</td>\n",
              "      <td>-8548.544865</td>\n",
              "      <td>14</td>\n",
              "      <td>0.000000</td>\n",
              "      <td>-71.928361</td>\n",
              "      <td>1071.928361</td>\n",
              "      <td>0.0</td>\n",
              "      <td>0</td>\n",
              "      <td>0</td>\n",
              "      <td>0.0</td>\n",
              "      <td>1071.928361</td>\n",
              "    </tr>\n",
              "    <tr>\n",
              "      <th>2022-12-31 15:30:00</th>\n",
              "      <td>94.4</td>\n",
              "      <td>-103.309456</td>\n",
              "      <td>12</td>\n",
              "      <td>-8.909456</td>\n",
              "      <td>8.909456</td>\n",
              "      <td>0.000000</td>\n",
              "      <td>-8539.635409</td>\n",
              "      <td>15</td>\n",
              "      <td>0.000000</td>\n",
              "      <td>-8.909456</td>\n",
              "      <td>1008.909456</td>\n",
              "      <td>0.0</td>\n",
              "      <td>0</td>\n",
              "      <td>0</td>\n",
              "      <td>0.0</td>\n",
              "      <td>1008.909456</td>\n",
              "    </tr>\n",
              "    <tr>\n",
              "      <th>2022-12-31 16:30:00</th>\n",
              "      <td>57.8</td>\n",
              "      <td>-18.641246</td>\n",
              "      <td>12</td>\n",
              "      <td>39.158754</td>\n",
              "      <td>0.000000</td>\n",
              "      <td>39.158754</td>\n",
              "      <td>-8578.794163</td>\n",
              "      <td>16</td>\n",
              "      <td>-7578.794163</td>\n",
              "      <td>-960.841246</td>\n",
              "      <td>1960.841246</td>\n",
              "      <td>0.0</td>\n",
              "      <td>0</td>\n",
              "      <td>0</td>\n",
              "      <td>0.0</td>\n",
              "      <td>1960.841246</td>\n",
              "    </tr>\n",
              "  </tbody>\n",
              "</table>\n",
              "<p>1741 rows × 16 columns</p>\n",
              "</div>\n",
              "      <button class=\"colab-df-convert\" onclick=\"convertToInteractive('df-9cbf96ac-fa81-4e83-8db6-b40b9cd1b94e')\"\n",
              "              title=\"Convert this dataframe to an interactive table.\"\n",
              "              style=\"display:none;\">\n",
              "        \n",
              "  <svg xmlns=\"http://www.w3.org/2000/svg\" height=\"24px\"viewBox=\"0 0 24 24\"\n",
              "       width=\"24px\">\n",
              "    <path d=\"M0 0h24v24H0V0z\" fill=\"none\"/>\n",
              "    <path d=\"M18.56 5.44l.94 2.06.94-2.06 2.06-.94-2.06-.94-.94-2.06-.94 2.06-2.06.94zm-11 1L8.5 8.5l.94-2.06 2.06-.94-2.06-.94L8.5 2.5l-.94 2.06-2.06.94zm10 10l.94 2.06.94-2.06 2.06-.94-2.06-.94-.94-2.06-.94 2.06-2.06.94z\"/><path d=\"M17.41 7.96l-1.37-1.37c-.4-.4-.92-.59-1.43-.59-.52 0-1.04.2-1.43.59L10.3 9.45l-7.72 7.72c-.78.78-.78 2.05 0 2.83L4 21.41c.39.39.9.59 1.41.59.51 0 1.02-.2 1.41-.59l7.78-7.78 2.81-2.81c.8-.78.8-2.07 0-2.86zM5.41 20L4 18.59l7.72-7.72 1.47 1.35L5.41 20z\"/>\n",
              "  </svg>\n",
              "      </button>\n",
              "      \n",
              "  <style>\n",
              "    .colab-df-container {\n",
              "      display:flex;\n",
              "      flex-wrap:wrap;\n",
              "      gap: 12px;\n",
              "    }\n",
              "\n",
              "    .colab-df-convert {\n",
              "      background-color: #E8F0FE;\n",
              "      border: none;\n",
              "      border-radius: 50%;\n",
              "      cursor: pointer;\n",
              "      display: none;\n",
              "      fill: #1967D2;\n",
              "      height: 32px;\n",
              "      padding: 0 0 0 0;\n",
              "      width: 32px;\n",
              "    }\n",
              "\n",
              "    .colab-df-convert:hover {\n",
              "      background-color: #E2EBFA;\n",
              "      box-shadow: 0px 1px 2px rgba(60, 64, 67, 0.3), 0px 1px 3px 1px rgba(60, 64, 67, 0.15);\n",
              "      fill: #174EA6;\n",
              "    }\n",
              "\n",
              "    [theme=dark] .colab-df-convert {\n",
              "      background-color: #3B4455;\n",
              "      fill: #D2E3FC;\n",
              "    }\n",
              "\n",
              "    [theme=dark] .colab-df-convert:hover {\n",
              "      background-color: #434B5C;\n",
              "      box-shadow: 0px 1px 3px 1px rgba(0, 0, 0, 0.15);\n",
              "      filter: drop-shadow(0px 1px 2px rgba(0, 0, 0, 0.3));\n",
              "      fill: #FFFFFF;\n",
              "    }\n",
              "  </style>\n",
              "\n",
              "      <script>\n",
              "        const buttonEl =\n",
              "          document.querySelector('#df-9cbf96ac-fa81-4e83-8db6-b40b9cd1b94e button.colab-df-convert');\n",
              "        buttonEl.style.display =\n",
              "          google.colab.kernel.accessAllowed ? 'block' : 'none';\n",
              "\n",
              "        async function convertToInteractive(key) {\n",
              "          const element = document.querySelector('#df-9cbf96ac-fa81-4e83-8db6-b40b9cd1b94e');\n",
              "          const dataTable =\n",
              "            await google.colab.kernel.invokeFunction('convertToInteractive',\n",
              "                                                     [key], {});\n",
              "          if (!dataTable) return;\n",
              "\n",
              "          const docLinkHtml = 'Like what you see? Visit the ' +\n",
              "            '<a target=\"_blank\" href=https://colab.research.google.com/notebooks/data_table.ipynb>data table notebook</a>'\n",
              "            + ' to learn more about interactive tables.';\n",
              "          element.innerHTML = '';\n",
              "          dataTable['output_type'] = 'display_data';\n",
              "          await google.colab.output.renderOutput(dataTable, element);\n",
              "          const docLink = document.createElement('div');\n",
              "          docLink.innerHTML = docLinkHtml;\n",
              "          element.appendChild(docLink);\n",
              "        }\n",
              "      </script>\n",
              "    </div>\n",
              "  </div>\n",
              "  "
            ]
          },
          "metadata": {},
          "execution_count": 85
        }
      ]
    },
    {
      "cell_type": "code",
      "source": [
        "df[\"T\"][df[\"T\"] >1000] = 1000 # Getting rid of excessive values of battery"
      ],
      "metadata": {
        "colab": {
          "base_uri": "https://localhost:8080/"
        },
        "id": "pBtzqhiS7h6k",
        "outputId": "2878cd58-ad05-4936-950e-7c5217c78a60"
      },
      "execution_count": 86,
      "outputs": [
        {
          "output_type": "stream",
          "name": "stderr",
          "text": [
            "/usr/local/lib/python3.7/dist-packages/ipykernel_launcher.py:1: SettingWithCopyWarning: \n",
            "A value is trying to be set on a copy of a slice from a DataFrame\n",
            "\n",
            "See the caveats in the documentation: https://pandas.pydata.org/pandas-docs/stable/user_guide/indexing.html#returning-a-view-versus-a-copy\n",
            "  \"\"\"Entry point for launching an IPython kernel.\n"
          ]
        }
      ]
    },
    {
      "cell_type": "code",
      "source": [
        "df[\"T\"].describe()"
      ],
      "metadata": {
        "colab": {
          "base_uri": "https://localhost:8080/"
        },
        "id": "uNfcItou6CPI",
        "outputId": "f24a4f48-7b11-4cdf-8af0-013d4c61cd45"
      },
      "execution_count": 87,
      "outputs": [
        {
          "output_type": "execute_result",
          "data": {
            "text/plain": [
              "count    8760.000000\n",
              "mean      828.072313\n",
              "std       212.390007\n",
              "min         0.000000\n",
              "25%       774.868949\n",
              "50%       908.898745\n",
              "75%       977.240499\n",
              "max      1000.000000\n",
              "Name: T, dtype: float64"
            ]
          },
          "metadata": {},
          "execution_count": 87
        }
      ]
    },
    {
      "cell_type": "code",
      "source": [
        "months = [\"Jan\",\"Feb\",\"Mar\",\"Apr\",\"May\",\"Jun\",\"Jul\",\"Aug\",\"Sep\",\"Oct\",\"Nov\",\"Dec\"]"
      ],
      "metadata": {
        "id": "YpDoOgTiz11t"
      },
      "execution_count": 88,
      "outputs": []
    },
    {
      "cell_type": "code",
      "source": [
        "import calendar\n",
        "d = dict(enumerate(calendar.month_abbr))\n",
        "df['Month'] = df['month'].map(d)"
      ],
      "metadata": {
        "id": "tmJ9INhP0Wqj"
      },
      "execution_count": 90,
      "outputs": []
    },
    {
      "cell_type": "code",
      "source": [
        "df[\"Month\"]"
      ],
      "metadata": {
        "colab": {
          "base_uri": "https://localhost:8080/"
        },
        "id": "1L-8RIbz0rIJ",
        "outputId": "e0a23ce6-e34f-45b7-abfd-b0bbd0c3cb44"
      },
      "execution_count": 97,
      "outputs": [
        {
          "output_type": "execute_result",
          "data": {
            "text/plain": [
              "Date\n",
              "2022-01-01 00:30:00    Jan\n",
              "2022-01-01 01:30:00    Jan\n",
              "2022-01-01 02:30:00    Jan\n",
              "2022-01-01 03:30:00    Jan\n",
              "2022-01-01 04:30:00    Jan\n",
              "                      ... \n",
              "2022-12-31 19:30:00    Dec\n",
              "2022-12-31 20:30:00    Dec\n",
              "2022-12-31 21:30:00    Dec\n",
              "2022-12-31 22:30:00    Dec\n",
              "2022-12-31 23:30:00    Dec\n",
              "Name: Month, Length: 8760, dtype: object"
            ]
          },
          "metadata": {},
          "execution_count": 97
        }
      ]
    },
    {
      "cell_type": "markdown",
      "source": [
        "***Battery Energy Left for Operation***"
      ],
      "metadata": {
        "id": "culQuI1FPdoJ"
      }
    },
    {
      "cell_type": "code",
      "source": [
        "plt.figure(figsize=(15,8))\n",
        "plt.title(\"Battery Energy Left for Operation (KW\",fontsize=50)\n",
        "plt.xlabel(\"Month\",fontsize=20)\n",
        "plt.ylabel(\"Battery Energy Left (KW)\",fontsize=20)\n",
        "plt.grid()\n",
        "display(plt.plot(df[\"T\"],color = \"orange\"))"
      ],
      "metadata": {
        "colab": {
          "base_uri": "https://localhost:8080/",
          "height": 571
        },
        "id": "XgwA2wDFMaol",
        "outputId": "8f0d4579-29f1-4918-a759-6708227a6c7f"
      },
      "execution_count": 118,
      "outputs": [
        {
          "output_type": "display_data",
          "data": {
            "text/plain": [
              "[<matplotlib.lines.Line2D at 0x7ff079025e10>]"
            ]
          },
          "metadata": {}
        },
        {
          "output_type": "display_data",
          "data": {
            "text/plain": [
              "<Figure size 1080x576 with 1 Axes>"
            ],
            "image/png": "[encoded data removed]"
          },
          "metadata": {
            "needs_background": "light"
          }
        }
      ]
    },
    {
      "cell_type": "code",
      "source": [
        ""
      ],
      "metadata": {
        "id": "gaecn5MF4Y-0"
      },
      "execution_count": null,
      "outputs": []
    },
    {
      "cell_type": "code",
      "source": [
        ""
      ],
      "metadata": {
        "id": "PNfvrOV74Y7g"
      },
      "execution_count": null,
      "outputs": []
    },
    {
      "cell_type": "code",
      "source": [
        ""
      ],
      "metadata": {
        "id": "dG5y_vKA4Y11"
      },
      "execution_count": null,
      "outputs": []
    },
    {
      "cell_type": "code",
      "source": [
        "ds = df.reset_index()"
      ],
      "metadata": {
        "id": "Bhm7FNgn173H"
      },
      "execution_count": 99,
      "outputs": []
    },
    {
      "cell_type": "code",
      "source": [
        "ds.head()"
      ],
      "metadata": {
        "colab": {
          "base_uri": "https://localhost:8080/",
          "height": 478
        },
        "id": "UrKP3Tji170W",
        "outputId": "754440ed-413f-4489-a98e-177bb875c84e"
      },
      "execution_count": 100,
      "outputs": [
        {
          "output_type": "execute_result",
          "data": {
            "text/plain": [
              "                 Date  Electricity (kW)  Elctricity Generated (kW)  month  \\\n",
              "0 2022-01-01 00:30:00               7.8                        0.0      1   \n",
              "1 2022-01-01 01:30:00               8.5                        0.0      1   \n",
              "2 2022-01-01 02:30:00               9.4                        0.0      1   \n",
              "3 2022-01-01 03:30:00              11.6                        0.0      1   \n",
              "4 2022-01-01 04:30:00              56.1                        0.0      1   \n",
              "\n",
              "    Net  Battery_Residual  Energy_Used  Battery_Left  hours  Charging_midday  \\\n",
              "0   7.8               0.0          7.8         992.2      0              0.0   \n",
              "1   8.5               0.0          8.5         983.7      1              0.0   \n",
              "2   9.4               0.0          9.4         974.3      2              0.0   \n",
              "3  11.6               0.0         11.6         962.7      3              0.0   \n",
              "4  56.1               0.0         56.1         906.6      4              0.0   \n",
              "\n",
              "   Net_2  battery_II  Defibrillator_Value  ll  Offset_Amount  \\\n",
              "0    7.8       992.2                  0.0   0              0   \n",
              "1    8.5       983.7                  0.0   0              0   \n",
              "2    9.4       974.3                  0.0   0              0   \n",
              "3   11.6       962.7                  0.0   0              0   \n",
              "4   56.1       906.6                  0.0   0              0   \n",
              "\n",
              "   Battery_Recharge      T Month  \n",
              "0               0.0  992.2   Jan  \n",
              "1               0.0  983.7   Jan  \n",
              "2               0.0  974.3   Jan  \n",
              "3               0.0  962.7   Jan  \n",
              "4               0.0  906.6   Jan  "
            ],
            "text/html": [
              "\n",
              "  <div id=\"df-13afbf89-9e6b-42c4-b091-3083f6d17ed1\">\n",
              "    <div class=\"colab-df-container\">\n",
              "      <div>\n",
              "<style scoped>\n",
              "    .dataframe tbody tr th:only-of-type {\n",
              "        vertical-align: middle;\n",
              "    }\n",
              "\n",
              "    .dataframe tbody tr th {\n",
              "        vertical-align: top;\n",
              "    }\n",
              "\n",
              "    .dataframe thead th {\n",
              "        text-align: right;\n",
              "    }\n",
              "</style>\n",
              "<table border=\"1\" class=\"dataframe\">\n",
              "  <thead>\n",
              "    <tr style=\"text-align: right;\">\n",
              "      <th></th>\n",
              "      <th>Date</th>\n",
              "      <th>Electricity (kW)</th>\n",
              "      <th>Elctricity Generated (kW)</th>\n",
              "      <th>month</th>\n",
              "      <th>Net</th>\n",
              "      <th>Battery_Residual</th>\n",
              "      <th>Energy_Used</th>\n",
              "      <th>Battery_Left</th>\n",
              "      <th>hours</th>\n",
              "      <th>Charging_midday</th>\n",
              "      <th>Net_2</th>\n",
              "      <th>battery_II</th>\n",
              "      <th>Defibrillator_Value</th>\n",
              "      <th>ll</th>\n",
              "      <th>Offset_Amount</th>\n",
              "      <th>Battery_Recharge</th>\n",
              "      <th>T</th>\n",
              "      <th>Month</th>\n",
              "    </tr>\n",
              "  </thead>\n",
              "  <tbody>\n",
              "    <tr>\n",
              "      <th>0</th>\n",
              "      <td>2022-01-01 00:30:00</td>\n",
              "      <td>7.8</td>\n",
              "      <td>0.0</td>\n",
              "      <td>1</td>\n",
              "      <td>7.8</td>\n",
              "      <td>0.0</td>\n",
              "      <td>7.8</td>\n",
              "      <td>992.2</td>\n",
              "      <td>0</td>\n",
              "      <td>0.0</td>\n",
              "      <td>7.8</td>\n",
              "      <td>992.2</td>\n",
              "      <td>0.0</td>\n",
              "      <td>0</td>\n",
              "      <td>0</td>\n",
              "      <td>0.0</td>\n",
              "      <td>992.2</td>\n",
              "      <td>Jan</td>\n",
              "    </tr>\n",
              "    <tr>\n",
              "      <th>1</th>\n",
              "      <td>2022-01-01 01:30:00</td>\n",
              "      <td>8.5</td>\n",
              "      <td>0.0</td>\n",
              "      <td>1</td>\n",
              "      <td>8.5</td>\n",
              "      <td>0.0</td>\n",
              "      <td>8.5</td>\n",
              "      <td>983.7</td>\n",
              "      <td>1</td>\n",
              "      <td>0.0</td>\n",
              "      <td>8.5</td>\n",
              "      <td>983.7</td>\n",
              "      <td>0.0</td>\n",
              "      <td>0</td>\n",
              "      <td>0</td>\n",
              "      <td>0.0</td>\n",
              "      <td>983.7</td>\n",
              "      <td>Jan</td>\n",
              "    </tr>\n",
              "    <tr>\n",
              "      <th>2</th>\n",
              "      <td>2022-01-01 02:30:00</td>\n",
              "      <td>9.4</td>\n",
              "      <td>0.0</td>\n",
              "      <td>1</td>\n",
              "      <td>9.4</td>\n",
              "      <td>0.0</td>\n",
              "      <td>9.4</td>\n",
              "      <td>974.3</td>\n",
              "      <td>2</td>\n",
              "      <td>0.0</td>\n",
              "      <td>9.4</td>\n",
              "      <td>974.3</td>\n",
              "      <td>0.0</td>\n",
              "      <td>0</td>\n",
              "      <td>0</td>\n",
              "      <td>0.0</td>\n",
              "      <td>974.3</td>\n",
              "      <td>Jan</td>\n",
              "    </tr>\n",
              "    <tr>\n",
              "      <th>3</th>\n",
              "      <td>2022-01-01 03:30:00</td>\n",
              "      <td>11.6</td>\n",
              "      <td>0.0</td>\n",
              "      <td>1</td>\n",
              "      <td>11.6</td>\n",
              "      <td>0.0</td>\n",
              "      <td>11.6</td>\n",
              "      <td>962.7</td>\n",
              "      <td>3</td>\n",
              "      <td>0.0</td>\n",
              "      <td>11.6</td>\n",
              "      <td>962.7</td>\n",
              "      <td>0.0</td>\n",
              "      <td>0</td>\n",
              "      <td>0</td>\n",
              "      <td>0.0</td>\n",
              "      <td>962.7</td>\n",
              "      <td>Jan</td>\n",
              "    </tr>\n",
              "    <tr>\n",
              "      <th>4</th>\n",
              "      <td>2022-01-01 04:30:00</td>\n",
              "      <td>56.1</td>\n",
              "      <td>0.0</td>\n",
              "      <td>1</td>\n",
              "      <td>56.1</td>\n",
              "      <td>0.0</td>\n",
              "      <td>56.1</td>\n",
              "      <td>906.6</td>\n",
              "      <td>4</td>\n",
              "      <td>0.0</td>\n",
              "      <td>56.1</td>\n",
              "      <td>906.6</td>\n",
              "      <td>0.0</td>\n",
              "      <td>0</td>\n",
              "      <td>0</td>\n",
              "      <td>0.0</td>\n",
              "      <td>906.6</td>\n",
              "      <td>Jan</td>\n",
              "    </tr>\n",
              "  </tbody>\n",
              "</table>\n",
              "</div>\n",
              "      <button class=\"colab-df-convert\" onclick=\"convertToInteractive('df-13afbf89-9e6b-42c4-b091-3083f6d17ed1')\"\n",
              "              title=\"Convert this dataframe to an interactive table.\"\n",
              "              style=\"display:none;\">\n",
              "        \n",
              "  <svg xmlns=\"http://www.w3.org/2000/svg\" height=\"24px\"viewBox=\"0 0 24 24\"\n",
              "       width=\"24px\">\n",
              "    <path d=\"M0 0h24v24H0V0z\" fill=\"none\"/>\n",
              "    <path d=\"M18.56 5.44l.94 2.06.94-2.06 2.06-.94-2.06-.94-.94-2.06-.94 2.06-2.06.94zm-11 1L8.5 8.5l.94-2.06 2.06-.94-2.06-.94L8.5 2.5l-.94 2.06-2.06.94zm10 10l.94 2.06.94-2.06 2.06-.94-2.06-.94-.94-2.06-.94 2.06-2.06.94z\"/><path d=\"M17.41 7.96l-1.37-1.37c-.4-.4-.92-.59-1.43-.59-.52 0-1.04.2-1.43.59L10.3 9.45l-7.72 7.72c-.78.78-.78 2.05 0 2.83L4 21.41c.39.39.9.59 1.41.59.51 0 1.02-.2 1.41-.59l7.78-7.78 2.81-2.81c.8-.78.8-2.07 0-2.86zM5.41 20L4 18.59l7.72-7.72 1.47 1.35L5.41 20z\"/>\n",
              "  </svg>\n",
              "      </button>\n",
              "      \n",
              "  <style>\n",
              "    .colab-df-container {\n",
              "      display:flex;\n",
              "      flex-wrap:wrap;\n",
              "      gap: 12px;\n",
              "    }\n",
              "\n",
              "    .colab-df-convert {\n",
              "      background-color: #E8F0FE;\n",
              "      border: none;\n",
              "      border-radius: 50%;\n",
              "      cursor: pointer;\n",
              "      display: none;\n",
              "      fill: #1967D2;\n",
              "      height: 32px;\n",
              "      padding: 0 0 0 0;\n",
              "      width: 32px;\n",
              "    }\n",
              "\n",
              "    .colab-df-convert:hover {\n",
              "      background-color: #E2EBFA;\n",
              "      box-shadow: 0px 1px 2px rgba(60, 64, 67, 0.3), 0px 1px 3px 1px rgba(60, 64, 67, 0.15);\n",
              "      fill: #174EA6;\n",
              "    }\n",
              "\n",
              "    [theme=dark] .colab-df-convert {\n",
              "      background-color: #3B4455;\n",
              "      fill: #D2E3FC;\n",
              "    }\n",
              "\n",
              "    [theme=dark] .colab-df-convert:hover {\n",
              "      background-color: #434B5C;\n",
              "      box-shadow: 0px 1px 3px 1px rgba(0, 0, 0, 0.15);\n",
              "      filter: drop-shadow(0px 1px 2px rgba(0, 0, 0, 0.3));\n",
              "      fill: #FFFFFF;\n",
              "    }\n",
              "  </style>\n",
              "\n",
              "      <script>\n",
              "        const buttonEl =\n",
              "          document.querySelector('#df-13afbf89-9e6b-42c4-b091-3083f6d17ed1 button.colab-df-convert');\n",
              "        buttonEl.style.display =\n",
              "          google.colab.kernel.accessAllowed ? 'block' : 'none';\n",
              "\n",
              "        async function convertToInteractive(key) {\n",
              "          const element = document.querySelector('#df-13afbf89-9e6b-42c4-b091-3083f6d17ed1');\n",
              "          const dataTable =\n",
              "            await google.colab.kernel.invokeFunction('convertToInteractive',\n",
              "                                                     [key], {});\n",
              "          if (!dataTable) return;\n",
              "\n",
              "          const docLinkHtml = 'Like what you see? Visit the ' +\n",
              "            '<a target=\"_blank\" href=https://colab.research.google.com/notebooks/data_table.ipynb>data table notebook</a>'\n",
              "            + ' to learn more about interactive tables.';\n",
              "          element.innerHTML = '';\n",
              "          dataTable['output_type'] = 'display_data';\n",
              "          await google.colab.output.renderOutput(dataTable, element);\n",
              "          const docLink = document.createElement('div');\n",
              "          docLink.innerHTML = docLinkHtml;\n",
              "          element.appendChild(docLink);\n",
              "        }\n",
              "      </script>\n",
              "    </div>\n",
              "  </div>\n",
              "  "
            ]
          },
          "metadata": {},
          "execution_count": 100
        }
      ]
    },
    {
      "cell_type": "code",
      "source": [
        "ds.head()"
      ],
      "metadata": {
        "colab": {
          "base_uri": "https://localhost:8080/",
          "height": 510
        },
        "id": "0cw3M0AyCVwv",
        "outputId": "64d3398f-ee5b-441f-839b-812a89e87370"
      },
      "execution_count": 136,
      "outputs": [
        {
          "output_type": "execute_result",
          "data": {
            "text/plain": [
              "                     Electricity (kW)  Elctricity Generated (kW)  month   Net  \\\n",
              "Date                                                                            \n",
              "2022-01-01 00:30:00               7.8                        0.0      1   7.8   \n",
              "2022-01-01 01:30:00               8.5                        0.0      1   8.5   \n",
              "2022-01-01 02:30:00               9.4                        0.0      1   9.4   \n",
              "2022-01-01 03:30:00              11.6                        0.0      1  11.6   \n",
              "2022-01-01 04:30:00              56.1                        0.0      1  56.1   \n",
              "\n",
              "                     Battery_Residual  Energy_Used  Battery_Left  hours  \\\n",
              "Date                                                                      \n",
              "2022-01-01 00:30:00               0.0          7.8         992.2      0   \n",
              "2022-01-01 01:30:00               0.0          8.5         983.7      1   \n",
              "2022-01-01 02:30:00               0.0          9.4         974.3      2   \n",
              "2022-01-01 03:30:00               0.0         11.6         962.7      3   \n",
              "2022-01-01 04:30:00               0.0         56.1         906.6      4   \n",
              "\n",
              "                     Charging_midday  Net_2  battery_II  Defibrillator_Value  \\\n",
              "Date                                                                           \n",
              "2022-01-01 00:30:00              0.0    7.8       992.2                  0.0   \n",
              "2022-01-01 01:30:00              0.0    8.5       983.7                  0.0   \n",
              "2022-01-01 02:30:00              0.0    9.4       974.3                  0.0   \n",
              "2022-01-01 03:30:00              0.0   11.6       962.7                  0.0   \n",
              "2022-01-01 04:30:00              0.0   56.1       906.6                  0.0   \n",
              "\n",
              "                     ll  Offset_Amount  Battery_Recharge      T  \n",
              "Date                                                             \n",
              "2022-01-01 00:30:00   0              0               0.0  992.2  \n",
              "2022-01-01 01:30:00   0              0               0.0  983.7  \n",
              "2022-01-01 02:30:00   0              0               0.0  974.3  \n",
              "2022-01-01 03:30:00   0              0               0.0  962.7  \n",
              "2022-01-01 04:30:00   0              0               0.0  906.6  "
            ],
            "text/html": [
              "\n",
              "  <div id=\"df-da83fc00-d26f-4839-b1f8-19765b572d07\">\n",
              "    <div class=\"colab-df-container\">\n",
              "      <div>\n",
              "<style scoped>\n",
              "    .dataframe tbody tr th:only-of-type {\n",
              "        vertical-align: middle;\n",
              "    }\n",
              "\n",
              "    .dataframe tbody tr th {\n",
              "        vertical-align: top;\n",
              "    }\n",
              "\n",
              "    .dataframe thead th {\n",
              "        text-align: right;\n",
              "    }\n",
              "</style>\n",
              "<table border=\"1\" class=\"dataframe\">\n",
              "  <thead>\n",
              "    <tr style=\"text-align: right;\">\n",
              "      <th></th>\n",
              "      <th>Electricity (kW)</th>\n",
              "      <th>Elctricity Generated (kW)</th>\n",
              "      <th>month</th>\n",
              "      <th>Net</th>\n",
              "      <th>Battery_Residual</th>\n",
              "      <th>Energy_Used</th>\n",
              "      <th>Battery_Left</th>\n",
              "      <th>hours</th>\n",
              "      <th>Charging_midday</th>\n",
              "      <th>Net_2</th>\n",
              "      <th>battery_II</th>\n",
              "      <th>Defibrillator_Value</th>\n",
              "      <th>ll</th>\n",
              "      <th>Offset_Amount</th>\n",
              "      <th>Battery_Recharge</th>\n",
              "      <th>T</th>\n",
              "    </tr>\n",
              "    <tr>\n",
              "      <th>Date</th>\n",
              "      <th></th>\n",
              "      <th></th>\n",
              "      <th></th>\n",
              "      <th></th>\n",
              "      <th></th>\n",
              "      <th></th>\n",
              "      <th></th>\n",
              "      <th></th>\n",
              "      <th></th>\n",
              "      <th></th>\n",
              "      <th></th>\n",
              "      <th></th>\n",
              "      <th></th>\n",
              "      <th></th>\n",
              "      <th></th>\n",
              "      <th></th>\n",
              "    </tr>\n",
              "  </thead>\n",
              "  <tbody>\n",
              "    <tr>\n",
              "      <th>2022-01-01 00:30:00</th>\n",
              "      <td>7.8</td>\n",
              "      <td>0.0</td>\n",
              "      <td>1</td>\n",
              "      <td>7.8</td>\n",
              "      <td>0.0</td>\n",
              "      <td>7.8</td>\n",
              "      <td>992.2</td>\n",
              "      <td>0</td>\n",
              "      <td>0.0</td>\n",
              "      <td>7.8</td>\n",
              "      <td>992.2</td>\n",
              "      <td>0.0</td>\n",
              "      <td>0</td>\n",
              "      <td>0</td>\n",
              "      <td>0.0</td>\n",
              "      <td>992.2</td>\n",
              "    </tr>\n",
              "    <tr>\n",
              "      <th>2022-01-01 01:30:00</th>\n",
              "      <td>8.5</td>\n",
              "      <td>0.0</td>\n",
              "      <td>1</td>\n",
              "      <td>8.5</td>\n",
              "      <td>0.0</td>\n",
              "      <td>8.5</td>\n",
              "      <td>983.7</td>\n",
              "      <td>1</td>\n",
              "      <td>0.0</td>\n",
              "      <td>8.5</td>\n",
              "      <td>983.7</td>\n",
              "      <td>0.0</td>\n",
              "      <td>0</td>\n",
              "      <td>0</td>\n",
              "      <td>0.0</td>\n",
              "      <td>983.7</td>\n",
              "    </tr>\n",
              "    <tr>\n",
              "      <th>2022-01-01 02:30:00</th>\n",
              "      <td>9.4</td>\n",
              "      <td>0.0</td>\n",
              "      <td>1</td>\n",
              "      <td>9.4</td>\n",
              "      <td>0.0</td>\n",
              "      <td>9.4</td>\n",
              "      <td>974.3</td>\n",
              "      <td>2</td>\n",
              "      <td>0.0</td>\n",
              "      <td>9.4</td>\n",
              "      <td>974.3</td>\n",
              "      <td>0.0</td>\n",
              "      <td>0</td>\n",
              "      <td>0</td>\n",
              "      <td>0.0</td>\n",
              "      <td>974.3</td>\n",
              "    </tr>\n",
              "    <tr>\n",
              "      <th>2022-01-01 03:30:00</th>\n",
              "      <td>11.6</td>\n",
              "      <td>0.0</td>\n",
              "      <td>1</td>\n",
              "      <td>11.6</td>\n",
              "      <td>0.0</td>\n",
              "      <td>11.6</td>\n",
              "      <td>962.7</td>\n",
              "      <td>3</td>\n",
              "      <td>0.0</td>\n",
              "      <td>11.6</td>\n",
              "      <td>962.7</td>\n",
              "      <td>0.0</td>\n",
              "      <td>0</td>\n",
              "      <td>0</td>\n",
              "      <td>0.0</td>\n",
              "      <td>962.7</td>\n",
              "    </tr>\n",
              "    <tr>\n",
              "      <th>2022-01-01 04:30:00</th>\n",
              "      <td>56.1</td>\n",
              "      <td>0.0</td>\n",
              "      <td>1</td>\n",
              "      <td>56.1</td>\n",
              "      <td>0.0</td>\n",
              "      <td>56.1</td>\n",
              "      <td>906.6</td>\n",
              "      <td>4</td>\n",
              "      <td>0.0</td>\n",
              "      <td>56.1</td>\n",
              "      <td>906.6</td>\n",
              "      <td>0.0</td>\n",
              "      <td>0</td>\n",
              "      <td>0</td>\n",
              "      <td>0.0</td>\n",
              "      <td>906.6</td>\n",
              "    </tr>\n",
              "  </tbody>\n",
              "</table>\n",
              "</div>\n",
              "      <button class=\"colab-df-convert\" onclick=\"convertToInteractive('df-da83fc00-d26f-4839-b1f8-19765b572d07')\"\n",
              "              title=\"Convert this dataframe to an interactive table.\"\n",
              "              style=\"display:none;\">\n",
              "        \n",
              "  <svg xmlns=\"http://www.w3.org/2000/svg\" height=\"24px\"viewBox=\"0 0 24 24\"\n",
              "       width=\"24px\">\n",
              "    <path d=\"M0 0h24v24H0V0z\" fill=\"none\"/>\n",
              "    <path d=\"M18.56 5.44l.94 2.06.94-2.06 2.06-.94-2.06-.94-.94-2.06-.94 2.06-2.06.94zm-11 1L8.5 8.5l.94-2.06 2.06-.94-2.06-.94L8.5 2.5l-.94 2.06-2.06.94zm10 10l.94 2.06.94-2.06 2.06-.94-2.06-.94-.94-2.06-.94 2.06-2.06.94z\"/><path d=\"M17.41 7.96l-1.37-1.37c-.4-.4-.92-.59-1.43-.59-.52 0-1.04.2-1.43.59L10.3 9.45l-7.72 7.72c-.78.78-.78 2.05 0 2.83L4 21.41c.39.39.9.59 1.41.59.51 0 1.02-.2 1.41-.59l7.78-7.78 2.81-2.81c.8-.78.8-2.07 0-2.86zM5.41 20L4 18.59l7.72-7.72 1.47 1.35L5.41 20z\"/>\n",
              "  </svg>\n",
              "      </button>\n",
              "      \n",
              "  <style>\n",
              "    .colab-df-container {\n",
              "      display:flex;\n",
              "      flex-wrap:wrap;\n",
              "      gap: 12px;\n",
              "    }\n",
              "\n",
              "    .colab-df-convert {\n",
              "      background-color: #E8F0FE;\n",
              "      border: none;\n",
              "      border-radius: 50%;\n",
              "      cursor: pointer;\n",
              "      display: none;\n",
              "      fill: #1967D2;\n",
              "      height: 32px;\n",
              "      padding: 0 0 0 0;\n",
              "      width: 32px;\n",
              "    }\n",
              "\n",
              "    .colab-df-convert:hover {\n",
              "      background-color: #E2EBFA;\n",
              "      box-shadow: 0px 1px 2px rgba(60, 64, 67, 0.3), 0px 1px 3px 1px rgba(60, 64, 67, 0.15);\n",
              "      fill: #174EA6;\n",
              "    }\n",
              "\n",
              "    [theme=dark] .colab-df-convert {\n",
              "      background-color: #3B4455;\n",
              "      fill: #D2E3FC;\n",
              "    }\n",
              "\n",
              "    [theme=dark] .colab-df-convert:hover {\n",
              "      background-color: #434B5C;\n",
              "      box-shadow: 0px 1px 3px 1px rgba(0, 0, 0, 0.15);\n",
              "      filter: drop-shadow(0px 1px 2px rgba(0, 0, 0, 0.3));\n",
              "      fill: #FFFFFF;\n",
              "    }\n",
              "  </style>\n",
              "\n",
              "      <script>\n",
              "        const buttonEl =\n",
              "          document.querySelector('#df-da83fc00-d26f-4839-b1f8-19765b572d07 button.colab-df-convert');\n",
              "        buttonEl.style.display =\n",
              "          google.colab.kernel.accessAllowed ? 'block' : 'none';\n",
              "\n",
              "        async function convertToInteractive(key) {\n",
              "          const element = document.querySelector('#df-da83fc00-d26f-4839-b1f8-19765b572d07');\n",
              "          const dataTable =\n",
              "            await google.colab.kernel.invokeFunction('convertToInteractive',\n",
              "                                                     [key], {});\n",
              "          if (!dataTable) return;\n",
              "\n",
              "          const docLinkHtml = 'Like what you see? Visit the ' +\n",
              "            '<a target=\"_blank\" href=https://colab.research.google.com/notebooks/data_table.ipynb>data table notebook</a>'\n",
              "            + ' to learn more about interactive tables.';\n",
              "          element.innerHTML = '';\n",
              "          dataTable['output_type'] = 'display_data';\n",
              "          await google.colab.output.renderOutput(dataTable, element);\n",
              "          const docLink = document.createElement('div');\n",
              "          docLink.innerHTML = docLinkHtml;\n",
              "          element.appendChild(docLink);\n",
              "        }\n",
              "      </script>\n",
              "    </div>\n",
              "  </div>\n",
              "  "
            ]
          },
          "metadata": {},
          "execution_count": 136
        }
      ]
    },
    {
      "cell_type": "code",
      "source": [
        "# ds.rename(index=lambda x: x.strftime('%B'))"
      ],
      "metadata": {
        "colab": {
          "base_uri": "https://localhost:8080/",
          "height": 554
        },
        "id": "-cKgt2N8_4rS",
        "outputId": "49250df0-af80-4fb7-c304-9b53529ba64c"
      },
      "execution_count": 130,
      "outputs": [
        {
          "output_type": "execute_result",
          "data": {
            "text/plain": [
              "          Electricity (kW)  Elctricity Generated (kW)  month   Net  \\\n",
              "Date                                                                 \n",
              "January                7.8                        0.0      1   7.8   \n",
              "January                8.5                        0.0      1   8.5   \n",
              "January                9.4                        0.0      1   9.4   \n",
              "January               11.6                        0.0      1  11.6   \n",
              "January               56.1                        0.0      1  56.1   \n",
              "...                    ...                        ...    ...   ...   \n",
              "December              21.8                        0.0     12  21.8   \n",
              "December              15.9                        0.0     12  15.9   \n",
              "December              16.0                        0.0     12  16.0   \n",
              "December              10.3                        0.0     12  10.3   \n",
              "December               8.9                        0.0     12   8.9   \n",
              "\n",
              "          Battery_Residual  Energy_Used  Battery_Left  hours  Charging_midday  \\\n",
              "Date                                                                            \n",
              "January                0.0          7.8    992.200000      0              0.0   \n",
              "January                0.0          8.5    983.700000      1              0.0   \n",
              "January                0.0          9.4    974.300000      2              0.0   \n",
              "January                0.0         11.6    962.700000      3              0.0   \n",
              "January                0.0         56.1    906.600000      4              0.0   \n",
              "...                    ...          ...           ...    ...              ...   \n",
              "December               0.0         21.8  -8656.194163     19              0.0   \n",
              "December               0.0         15.9  -8672.094163     20              0.0   \n",
              "December               0.0         16.0  -8688.094163     21              0.0   \n",
              "December               0.0         10.3  -8698.394163     22              0.0   \n",
              "December               0.0          8.9  -8707.294163     23              0.0   \n",
              "\n",
              "          Net_2  battery_II  Defibrillator_Value  ll  Offset_Amount  \\\n",
              "Date                                                                  \n",
              "January     7.8       992.2                  0.0   0              0   \n",
              "January     8.5       983.7                  0.0   0              0   \n",
              "January     9.4       974.3                  0.0   0              0   \n",
              "January    11.6       962.7                  0.0   0              0   \n",
              "January    56.1       906.6                  0.0   0              0   \n",
              "...         ...         ...                  ...  ..            ...   \n",
              "December   21.8       922.6                  0.0   0              0   \n",
              "December   15.9       906.7                  0.0   0              0   \n",
              "December   16.0       890.7                  0.0   0              0   \n",
              "December   10.3       880.4                  0.0   0              0   \n",
              "December    8.9       871.5                  0.0   0              0   \n",
              "\n",
              "          Battery_Recharge      T  \n",
              "Date                               \n",
              "January                0.0  992.2  \n",
              "January                0.0  983.7  \n",
              "January                0.0  974.3  \n",
              "January                0.0  962.7  \n",
              "January                0.0  906.6  \n",
              "...                    ...    ...  \n",
              "December               0.0  922.6  \n",
              "December               0.0  906.7  \n",
              "December               0.0  890.7  \n",
              "December               0.0  880.4  \n",
              "December               0.0  871.5  \n",
              "\n",
              "[8760 rows x 16 columns]"
            ],
            "text/html": [
              "\n",
              "  <div id=\"df-c2e5c10d-9851-4cdb-83cd-2bd8499ffd0d\">\n",
              "    <div class=\"colab-df-container\">\n",
              "      <div>\n",
              "<style scoped>\n",
              "    .dataframe tbody tr th:only-of-type {\n",
              "        vertical-align: middle;\n",
              "    }\n",
              "\n",
              "    .dataframe tbody tr th {\n",
              "        vertical-align: top;\n",
              "    }\n",
              "\n",
              "    .dataframe thead th {\n",
              "        text-align: right;\n",
              "    }\n",
              "</style>\n",
              "<table border=\"1\" class=\"dataframe\">\n",
              "  <thead>\n",
              "    <tr style=\"text-align: right;\">\n",
              "      <th></th>\n",
              "      <th>Electricity (kW)</th>\n",
              "      <th>Elctricity Generated (kW)</th>\n",
              "      <th>month</th>\n",
              "      <th>Net</th>\n",
              "      <th>Battery_Residual</th>\n",
              "      <th>Energy_Used</th>\n",
              "      <th>Battery_Left</th>\n",
              "      <th>hours</th>\n",
              "      <th>Charging_midday</th>\n",
              "      <th>Net_2</th>\n",
              "      <th>battery_II</th>\n",
              "      <th>Defibrillator_Value</th>\n",
              "      <th>ll</th>\n",
              "      <th>Offset_Amount</th>\n",
              "      <th>Battery_Recharge</th>\n",
              "      <th>T</th>\n",
              "    </tr>\n",
              "    <tr>\n",
              "      <th>Date</th>\n",
              "      <th></th>\n",
              "      <th></th>\n",
              "      <th></th>\n",
              "      <th></th>\n",
              "      <th></th>\n",
              "      <th></th>\n",
              "      <th></th>\n",
              "      <th></th>\n",
              "      <th></th>\n",
              "      <th></th>\n",
              "      <th></th>\n",
              "      <th></th>\n",
              "      <th></th>\n",
              "      <th></th>\n",
              "      <th></th>\n",
              "      <th></th>\n",
              "    </tr>\n",
              "  </thead>\n",
              "  <tbody>\n",
              "    <tr>\n",
              "      <th>January</th>\n",
              "      <td>7.8</td>\n",
              "      <td>0.0</td>\n",
              "      <td>1</td>\n",
              "      <td>7.8</td>\n",
              "      <td>0.0</td>\n",
              "      <td>7.8</td>\n",
              "      <td>992.200000</td>\n",
              "      <td>0</td>\n",
              "      <td>0.0</td>\n",
              "      <td>7.8</td>\n",
              "      <td>992.2</td>\n",
              "      <td>0.0</td>\n",
              "      <td>0</td>\n",
              "      <td>0</td>\n",
              "      <td>0.0</td>\n",
              "      <td>992.2</td>\n",
              "    </tr>\n",
              "    <tr>\n",
              "      <th>January</th>\n",
              "      <td>8.5</td>\n",
              "      <td>0.0</td>\n",
              "      <td>1</td>\n",
              "      <td>8.5</td>\n",
              "      <td>0.0</td>\n",
              "      <td>8.5</td>\n",
              "      <td>983.700000</td>\n",
              "      <td>1</td>\n",
              "      <td>0.0</td>\n",
              "      <td>8.5</td>\n",
              "      <td>983.7</td>\n",
              "      <td>0.0</td>\n",
              "      <td>0</td>\n",
              "      <td>0</td>\n",
              "      <td>0.0</td>\n",
              "      <td>983.7</td>\n",
              "    </tr>\n",
              "    <tr>\n",
              "      <th>January</th>\n",
              "      <td>9.4</td>\n",
              "      <td>0.0</td>\n",
              "      <td>1</td>\n",
              "      <td>9.4</td>\n",
              "      <td>0.0</td>\n",
              "      <td>9.4</td>\n",
              "      <td>974.300000</td>\n",
              "      <td>2</td>\n",
              "      <td>0.0</td>\n",
              "      <td>9.4</td>\n",
              "      <td>974.3</td>\n",
              "      <td>0.0</td>\n",
              "      <td>0</td>\n",
              "      <td>0</td>\n",
              "      <td>0.0</td>\n",
              "      <td>974.3</td>\n",
              "    </tr>\n",
              "    <tr>\n",
              "      <th>January</th>\n",
              "      <td>11.6</td>\n",
              "      <td>0.0</td>\n",
              "      <td>1</td>\n",
              "      <td>11.6</td>\n",
              "      <td>0.0</td>\n",
              "      <td>11.6</td>\n",
              "      <td>962.700000</td>\n",
              "      <td>3</td>\n",
              "      <td>0.0</td>\n",
              "      <td>11.6</td>\n",
              "      <td>962.7</td>\n",
              "      <td>0.0</td>\n",
              "      <td>0</td>\n",
              "      <td>0</td>\n",
              "      <td>0.0</td>\n",
              "      <td>962.7</td>\n",
              "    </tr>\n",
              "    <tr>\n",
              "      <th>January</th>\n",
              "      <td>56.1</td>\n",
              "      <td>0.0</td>\n",
              "      <td>1</td>\n",
              "      <td>56.1</td>\n",
              "      <td>0.0</td>\n",
              "      <td>56.1</td>\n",
              "      <td>906.600000</td>\n",
              "      <td>4</td>\n",
              "      <td>0.0</td>\n",
              "      <td>56.1</td>\n",
              "      <td>906.6</td>\n",
              "      <td>0.0</td>\n",
              "      <td>0</td>\n",
              "      <td>0</td>\n",
              "      <td>0.0</td>\n",
              "      <td>906.6</td>\n",
              "    </tr>\n",
              "    <tr>\n",
              "      <th>...</th>\n",
              "      <td>...</td>\n",
              "      <td>...</td>\n",
              "      <td>...</td>\n",
              "      <td>...</td>\n",
              "      <td>...</td>\n",
              "      <td>...</td>\n",
              "      <td>...</td>\n",
              "      <td>...</td>\n",
              "      <td>...</td>\n",
              "      <td>...</td>\n",
              "      <td>...</td>\n",
              "      <td>...</td>\n",
              "      <td>...</td>\n",
              "      <td>...</td>\n",
              "      <td>...</td>\n",
              "      <td>...</td>\n",
              "    </tr>\n",
              "    <tr>\n",
              "      <th>December</th>\n",
              "      <td>21.8</td>\n",
              "      <td>0.0</td>\n",
              "      <td>12</td>\n",
              "      <td>21.8</td>\n",
              "      <td>0.0</td>\n",
              "      <td>21.8</td>\n",
              "      <td>-8656.194163</td>\n",
              "      <td>19</td>\n",
              "      <td>0.0</td>\n",
              "      <td>21.8</td>\n",
              "      <td>922.6</td>\n",
              "      <td>0.0</td>\n",
              "      <td>0</td>\n",
              "      <td>0</td>\n",
              "      <td>0.0</td>\n",
              "      <td>922.6</td>\n",
              "    </tr>\n",
              "    <tr>\n",
              "      <th>December</th>\n",
              "      <td>15.9</td>\n",
              "      <td>0.0</td>\n",
              "      <td>12</td>\n",
              "      <td>15.9</td>\n",
              "      <td>0.0</td>\n",
              "      <td>15.9</td>\n",
              "      <td>-8672.094163</td>\n",
              "      <td>20</td>\n",
              "      <td>0.0</td>\n",
              "      <td>15.9</td>\n",
              "      <td>906.7</td>\n",
              "      <td>0.0</td>\n",
              "      <td>0</td>\n",
              "      <td>0</td>\n",
              "      <td>0.0</td>\n",
              "      <td>906.7</td>\n",
              "    </tr>\n",
              "    <tr>\n",
              "      <th>December</th>\n",
              "      <td>16.0</td>\n",
              "      <td>0.0</td>\n",
              "      <td>12</td>\n",
              "      <td>16.0</td>\n",
              "      <td>0.0</td>\n",
              "      <td>16.0</td>\n",
              "      <td>-8688.094163</td>\n",
              "      <td>21</td>\n",
              "      <td>0.0</td>\n",
              "      <td>16.0</td>\n",
              "      <td>890.7</td>\n",
              "      <td>0.0</td>\n",
              "      <td>0</td>\n",
              "      <td>0</td>\n",
              "      <td>0.0</td>\n",
              "      <td>890.7</td>\n",
              "    </tr>\n",
              "    <tr>\n",
              "      <th>December</th>\n",
              "      <td>10.3</td>\n",
              "      <td>0.0</td>\n",
              "      <td>12</td>\n",
              "      <td>10.3</td>\n",
              "      <td>0.0</td>\n",
              "      <td>10.3</td>\n",
              "      <td>-8698.394163</td>\n",
              "      <td>22</td>\n",
              "      <td>0.0</td>\n",
              "      <td>10.3</td>\n",
              "      <td>880.4</td>\n",
              "      <td>0.0</td>\n",
              "      <td>0</td>\n",
              "      <td>0</td>\n",
              "      <td>0.0</td>\n",
              "      <td>880.4</td>\n",
              "    </tr>\n",
              "    <tr>\n",
              "      <th>December</th>\n",
              "      <td>8.9</td>\n",
              "      <td>0.0</td>\n",
              "      <td>12</td>\n",
              "      <td>8.9</td>\n",
              "      <td>0.0</td>\n",
              "      <td>8.9</td>\n",
              "      <td>-8707.294163</td>\n",
              "      <td>23</td>\n",
              "      <td>0.0</td>\n",
              "      <td>8.9</td>\n",
              "      <td>871.5</td>\n",
              "      <td>0.0</td>\n",
              "      <td>0</td>\n",
              "      <td>0</td>\n",
              "      <td>0.0</td>\n",
              "      <td>871.5</td>\n",
              "    </tr>\n",
              "  </tbody>\n",
              "</table>\n",
              "<p>8760 rows × 16 columns</p>\n",
              "</div>\n",
              "      <button class=\"colab-df-convert\" onclick=\"convertToInteractive('df-c2e5c10d-9851-4cdb-83cd-2bd8499ffd0d')\"\n",
              "              title=\"Convert this dataframe to an interactive table.\"\n",
              "              style=\"display:none;\">\n",
              "        \n",
              "  <svg xmlns=\"http://www.w3.org/2000/svg\" height=\"24px\"viewBox=\"0 0 24 24\"\n",
              "       width=\"24px\">\n",
              "    <path d=\"M0 0h24v24H0V0z\" fill=\"none\"/>\n",
              "    <path d=\"M18.56 5.44l.94 2.06.94-2.06 2.06-.94-2.06-.94-.94-2.06-.94 2.06-2.06.94zm-11 1L8.5 8.5l.94-2.06 2.06-.94-2.06-.94L8.5 2.5l-.94 2.06-2.06.94zm10 10l.94 2.06.94-2.06 2.06-.94-2.06-.94-.94-2.06-.94 2.06-2.06.94z\"/><path d=\"M17.41 7.96l-1.37-1.37c-.4-.4-.92-.59-1.43-.59-.52 0-1.04.2-1.43.59L10.3 9.45l-7.72 7.72c-.78.78-.78 2.05 0 2.83L4 21.41c.39.39.9.59 1.41.59.51 0 1.02-.2 1.41-.59l7.78-7.78 2.81-2.81c.8-.78.8-2.07 0-2.86zM5.41 20L4 18.59l7.72-7.72 1.47 1.35L5.41 20z\"/>\n",
              "  </svg>\n",
              "      </button>\n",
              "      \n",
              "  <style>\n",
              "    .colab-df-container {\n",
              "      display:flex;\n",
              "      flex-wrap:wrap;\n",
              "      gap: 12px;\n",
              "    }\n",
              "\n",
              "    .colab-df-convert {\n",
              "      background-color: #E8F0FE;\n",
              "      border: none;\n",
              "      border-radius: 50%;\n",
              "      cursor: pointer;\n",
              "      display: none;\n",
              "      fill: #1967D2;\n",
              "      height: 32px;\n",
              "      padding: 0 0 0 0;\n",
              "      width: 32px;\n",
              "    }\n",
              "\n",
              "    .colab-df-convert:hover {\n",
              "      background-color: #E2EBFA;\n",
              "      box-shadow: 0px 1px 2px rgba(60, 64, 67, 0.3), 0px 1px 3px 1px rgba(60, 64, 67, 0.15);\n",
              "      fill: #174EA6;\n",
              "    }\n",
              "\n",
              "    [theme=dark] .colab-df-convert {\n",
              "      background-color: #3B4455;\n",
              "      fill: #D2E3FC;\n",
              "    }\n",
              "\n",
              "    [theme=dark] .colab-df-convert:hover {\n",
              "      background-color: #434B5C;\n",
              "      box-shadow: 0px 1px 3px 1px rgba(0, 0, 0, 0.15);\n",
              "      filter: drop-shadow(0px 1px 2px rgba(0, 0, 0, 0.3));\n",
              "      fill: #FFFFFF;\n",
              "    }\n",
              "  </style>\n",
              "\n",
              "      <script>\n",
              "        const buttonEl =\n",
              "          document.querySelector('#df-c2e5c10d-9851-4cdb-83cd-2bd8499ffd0d button.colab-df-convert');\n",
              "        buttonEl.style.display =\n",
              "          google.colab.kernel.accessAllowed ? 'block' : 'none';\n",
              "\n",
              "        async function convertToInteractive(key) {\n",
              "          const element = document.querySelector('#df-c2e5c10d-9851-4cdb-83cd-2bd8499ffd0d');\n",
              "          const dataTable =\n",
              "            await google.colab.kernel.invokeFunction('convertToInteractive',\n",
              "                                                     [key], {});\n",
              "          if (!dataTable) return;\n",
              "\n",
              "          const docLinkHtml = 'Like what you see? Visit the ' +\n",
              "            '<a target=\"_blank\" href=https://colab.research.google.com/notebooks/data_table.ipynb>data table notebook</a>'\n",
              "            + ' to learn more about interactive tables.';\n",
              "          element.innerHTML = '';\n",
              "          dataTable['output_type'] = 'display_data';\n",
              "          await google.colab.output.renderOutput(dataTable, element);\n",
              "          const docLink = document.createElement('div');\n",
              "          docLink.innerHTML = docLinkHtml;\n",
              "          element.appendChild(docLink);\n",
              "        }\n",
              "      </script>\n",
              "    </div>\n",
              "  </div>\n",
              "  "
            ]
          },
          "metadata": {},
          "execution_count": 130
        }
      ]
    },
    {
      "cell_type": "code",
      "source": [
        ""
      ],
      "metadata": {
        "id": "y_rV5RyRHzVU"
      },
      "execution_count": null,
      "outputs": []
    },
    {
      "cell_type": "code",
      "source": [
        ""
      ],
      "metadata": {
        "id": "5owa_jk0HzSS"
      },
      "execution_count": null,
      "outputs": []
    },
    {
      "cell_type": "code",
      "source": [
        ""
      ],
      "metadata": {
        "id": "jsk3B1dmHzPR"
      },
      "execution_count": null,
      "outputs": []
    },
    {
      "cell_type": "code",
      "source": [
        "fig, ax = plt.subplots(figsize=(8, 6))\n",
        "ax.plot(ds[\"T\"]);"
      ],
      "metadata": {
        "colab": {
          "base_uri": "https://localhost:8080/",
          "height": 374
        },
        "id": "lF0DYlMkCeUZ",
        "outputId": "4ffc2a64-125e-4b67-b611-075369ed5524"
      },
      "execution_count": 169,
      "outputs": [
        {
          "output_type": "display_data",
          "data": {
            "text/plain": [
              "<Figure size 576x432 with 1 Axes>"
            ],
            "image/png": "[encoded data removed]"
          },
          "metadata": {
            "needs_background": "light"
          }
        }
      ]
    },
    {
      "cell_type": "code",
      "source": [
        "fig, ax = plt.subplots(figsize=(20, 12))\n",
        "\n",
        "monthly_locator = mdates.MonthLocator()\n",
        "ax.xaxis.set_major_locator(monthly_locator)\n",
        "#ax.xaxis.set_minor_locator(monthly_locator()\n",
        "ax.xaxis.set_major_formatter(month_year_formatter)\n",
        "ax.plot(ds[\"T\"], color = \"orange\")\n",
        "plt.xticks(fontsize=12,weight = 'bold')\n",
        "plt.yticks(fontsize=12,weight = 'bold')\n",
        "plt.title(\"Battery Energy Left for Operation (KW\",fontsize=30)\n",
        "plt.xlabel(\"Month\",fontsize=20)\n",
        "plt.ylabel(\"Battery Energy Left (KW)\",fontsize=20)\n",
        "plt.grid()\n",
        "\n",
        "fig.autofmt_xdate()\n",
        "\n",
        "\n"
      ],
      "metadata": {
        "colab": {
          "base_uri": "https://localhost:8080/",
          "height": 723
        },
        "id": "pqbS1swnCeRZ",
        "outputId": "4f3c2a86-1997-4cb4-c356-cc31308ba236"
      },
      "execution_count": 181,
      "outputs": [
        {
          "output_type": "display_data",
          "data": {
            "text/plain": [
              "<Figure size 1440x864 with 1 Axes>"
            ],
            "image/png": "[encoded data removed]"
          },
          "metadata": {
            "needs_background": "light"
          }
        }
      ]
    },
    {
      "cell_type": "code",
      "source": [
        "years = mdates.YearLocator()   # every year\n",
        "months = mdates.MonthLocator()  # every month\n",
        "years_fmt = mdates.DateFormatter('%Y-%m') #This is a format. Will be clear in Screenshot"
      ],
      "metadata": {
        "id": "gSlDyhKhCeOZ"
      },
      "execution_count": 150,
      "outputs": []
    },
    {
      "cell_type": "code",
      "source": [
        "import matplotlib.dates as mdates\n",
        "month_year_formatter = mdates.DateFormatter('%b, %Y') # The \",\" is intentional."
      ],
      "metadata": {
        "id": "WfrVtSfi17ql"
      },
      "execution_count": 114,
      "outputs": []
    },
    {
      "cell_type": "code",
      "source": [
        "fig, ax = plt.subplots(figsize=(8, 6))\n",
        "ax.plot(date, value);"
      ],
      "metadata": {
        "id": "lbVZwSzFB_bk"
      },
      "execution_count": null,
      "outputs": []
    },
    {
      "cell_type": "code",
      "source": [
        "plt.figure(figsize=(15,8))\n",
        "\n",
        "#years = mdates.YearLocator()\n",
        "#months = mdates.MonthLocator()\n",
        "#monthsFmt = mdates.DateFormatter('%B')\n",
        "#yearsFmt = mdates.DateFormatter('\\n%Y')\n",
        "\n",
        "\n",
        "plt.title(\"Battery Energy Left for Operation (KW\",fontsize=30)\n",
        "plt.xlabel(\"Month\",fontsize=20)\n",
        "plt.ylabel(\"Battery Energy Left (KW)\",fontsize=20)\n",
        "plt.grid()\n",
        "\n",
        "display(plt.plot(ds[\"T\"],color = \"orange\"))"
      ],
      "metadata": {
        "colab": {
          "base_uri": "https://localhost:8080/",
          "height": 535
        },
        "id": "T_TjBi3A00rj",
        "outputId": "40ab54d1-fd71-43a9-9a41-dc1e7ebff3bb"
      },
      "execution_count": 168,
      "outputs": [
        {
          "output_type": "display_data",
          "data": {
            "text/plain": [
              "[<matplotlib.lines.Line2D at 0x7ff068bb6c50>]"
            ]
          },
          "metadata": {}
        },
        {
          "output_type": "display_data",
          "data": {
            "text/plain": [
              "<Figure size 1080x576 with 1 Axes>"
            ],
            "image/png": "[encoded data removed]"
          },
          "metadata": {
            "needs_background": "light"
          }
        }
      ]
    },
    {
      "cell_type": "code",
      "source": [
        "df[df[\"month\"] == 2]"
      ],
      "metadata": {
        "id": "M9Y-9kZOLUPZ"
      },
      "execution_count": null,
      "outputs": []
    },
    {
      "cell_type": "code",
      "source": [
        "df.to_excel('/content/Data.xlsx')"
      ],
      "metadata": {
        "id": "WktOC7GYJySN"
      },
      "execution_count": null,
      "outputs": []
    },
    {
      "cell_type": "markdown",
      "source": [
        "# **Splitting to Winter & Summer Profile**"
      ],
      "metadata": {
        "id": "WubwWvLj5-h2"
      }
    },
    {
      "cell_type": "code",
      "source": [
        "winter = [10,11,12,1,2,3,4]"
      ],
      "metadata": {
        "id": "tb_Mdw7uUXop"
      },
      "execution_count": null,
      "outputs": []
    },
    {
      "cell_type": "code",
      "source": [
        "winter = [\"Oct\",\"Nov\",\"Dec\",\"Jan\",\"Feb\",\"Mar\"]"
      ],
      "metadata": {
        "id": "rCyyvumP3-q3"
      },
      "execution_count": null,
      "outputs": []
    },
    {
      "cell_type": "code",
      "source": [
        ""
      ],
      "metadata": {
        "id": "EjQF0k13wQzd"
      },
      "execution_count": null,
      "outputs": []
    },
    {
      "cell_type": "code",
      "source": [
        "df_winter = df[df['month'].isin(winter)]"
      ],
      "metadata": {
        "id": "fonmTf6S33E1"
      },
      "execution_count": null,
      "outputs": []
    },
    {
      "cell_type": "code",
      "source": [
        "df_winter"
      ],
      "metadata": {
        "colab": {
          "base_uri": "https://localhost:8080/",
          "height": 455
        },
        "id": "cfk-6hXi5bYq",
        "outputId": "70c4078b-82f8-43db-c0e7-7c22cc9b927a"
      },
      "execution_count": null,
      "outputs": [
        {
          "output_type": "execute_result",
          "data": {
            "text/plain": [
              "                     Electricity (kW)  Elctricity Generated (kW)  year  month  \\\n",
              "Date                                                                            \n",
              "2022-01-01 00:30:00               7.8                        0.0  2022      1   \n",
              "2022-01-01 01:30:00               8.5                        0.0  2022      1   \n",
              "2022-01-01 02:30:00               9.4                        0.0  2022      1   \n",
              "2022-01-01 03:30:00              11.6                        0.0  2022      1   \n",
              "2022-01-01 04:30:00              56.1                        0.0  2022      1   \n",
              "...                               ...                        ...   ...    ...   \n",
              "2022-12-31 19:30:00              21.8                        0.0  2022     12   \n",
              "2022-12-31 20:30:00              15.9                        0.0  2022     12   \n",
              "2022-12-31 21:30:00              16.0                        0.0  2022     12   \n",
              "2022-12-31 22:30:00              10.3                        0.0  2022     12   \n",
              "2022-12-31 23:30:00               8.9                        0.0  2022     12   \n",
              "\n",
              "                      Net  Battery_Residual  Energy_Used  Battery_Left  \\\n",
              "Date                                                                     \n",
              "2022-01-01 00:30:00   7.8               0.0          7.8    992.200000   \n",
              "2022-01-01 01:30:00   8.5               0.0          8.5    983.700000   \n",
              "2022-01-01 02:30:00   9.4               0.0          9.4    974.300000   \n",
              "2022-01-01 03:30:00  11.6               0.0         11.6    962.700000   \n",
              "2022-01-01 04:30:00  56.1               0.0         56.1    906.600000   \n",
              "...                   ...               ...          ...           ...   \n",
              "2022-12-31 19:30:00  21.8               0.0         21.8  -8656.194163   \n",
              "2022-12-31 20:30:00  15.9               0.0         15.9  -8672.094163   \n",
              "2022-12-31 21:30:00  16.0               0.0         16.0  -8688.094163   \n",
              "2022-12-31 22:30:00  10.3               0.0         10.3  -8698.394163   \n",
              "2022-12-31 23:30:00   8.9               0.0          8.9  -8707.294163   \n",
              "\n",
              "                     Defibrillator_Value  ll  Offset_Amount  Battery_Recharge  \n",
              "Date                                                                           \n",
              "2022-01-01 00:30:00             0.000000   0              0          0.000000  \n",
              "2022-01-01 01:30:00             0.000000   0              0          0.000000  \n",
              "2022-01-01 02:30:00             0.000000   0              0          0.000000  \n",
              "2022-01-01 03:30:00             0.000000   0              0          0.000000  \n",
              "2022-01-01 04:30:00             0.000000   0              0          0.000000  \n",
              "...                                  ...  ..            ...               ...  \n",
              "2022-12-31 19:30:00         -8656.194163   9           9000        343.805837  \n",
              "2022-12-31 20:30:00         -8672.094163   9           9000        327.905837  \n",
              "2022-12-31 21:30:00         -8688.094163   9           9000        311.905837  \n",
              "2022-12-31 22:30:00         -8698.394163   9           9000        301.605837  \n",
              "2022-12-31 23:30:00         -8707.294163   9           9000        292.705837  \n",
              "\n",
              "[5088 rows x 12 columns]"
            ],
            "text/html": [
              "\n",
              "  <div id=\"df-f5be1fa4-da9e-493b-8e9f-ab9d7e2585d8\">\n",
              "    <div class=\"colab-df-container\">\n",
              "      <div>\n",
              "<style scoped>\n",
              "    .dataframe tbody tr th:only-of-type {\n",
              "        vertical-align: middle;\n",
              "    }\n",
              "\n",
              "    .dataframe tbody tr th {\n",
              "        vertical-align: top;\n",
              "    }\n",
              "\n",
              "    .dataframe thead th {\n",
              "        text-align: right;\n",
              "    }\n",
              "</style>\n",
              "<table border=\"1\" class=\"dataframe\">\n",
              "  <thead>\n",
              "    <tr style=\"text-align: right;\">\n",
              "      <th></th>\n",
              "      <th>Electricity (kW)</th>\n",
              "      <th>Elctricity Generated (kW)</th>\n",
              "      <th>year</th>\n",
              "      <th>month</th>\n",
              "      <th>Net</th>\n",
              "      <th>Battery_Residual</th>\n",
              "      <th>Energy_Used</th>\n",
              "      <th>Battery_Left</th>\n",
              "      <th>Defibrillator_Value</th>\n",
              "      <th>ll</th>\n",
              "      <th>Offset_Amount</th>\n",
              "      <th>Battery_Recharge</th>\n",
              "    </tr>\n",
              "    <tr>\n",
              "      <th>Date</th>\n",
              "      <th></th>\n",
              "      <th></th>\n",
              "      <th></th>\n",
              "      <th></th>\n",
              "      <th></th>\n",
              "      <th></th>\n",
              "      <th></th>\n",
              "      <th></th>\n",
              "      <th></th>\n",
              "      <th></th>\n",
              "      <th></th>\n",
              "      <th></th>\n",
              "    </tr>\n",
              "  </thead>\n",
              "  <tbody>\n",
              "    <tr>\n",
              "      <th>2022-01-01 00:30:00</th>\n",
              "      <td>7.8</td>\n",
              "      <td>0.0</td>\n",
              "      <td>2022</td>\n",
              "      <td>1</td>\n",
              "      <td>7.8</td>\n",
              "      <td>0.0</td>\n",
              "      <td>7.8</td>\n",
              "      <td>992.200000</td>\n",
              "      <td>0.000000</td>\n",
              "      <td>0</td>\n",
              "      <td>0</td>\n",
              "      <td>0.000000</td>\n",
              "    </tr>\n",
              "    <tr>\n",
              "      <th>2022-01-01 01:30:00</th>\n",
              "      <td>8.5</td>\n",
              "      <td>0.0</td>\n",
              "      <td>2022</td>\n",
              "      <td>1</td>\n",
              "      <td>8.5</td>\n",
              "      <td>0.0</td>\n",
              "      <td>8.5</td>\n",
              "      <td>983.700000</td>\n",
              "      <td>0.000000</td>\n",
              "      <td>0</td>\n",
              "      <td>0</td>\n",
              "      <td>0.000000</td>\n",
              "    </tr>\n",
              "    <tr>\n",
              "      <th>2022-01-01 02:30:00</th>\n",
              "      <td>9.4</td>\n",
              "      <td>0.0</td>\n",
              "      <td>2022</td>\n",
              "      <td>1</td>\n",
              "      <td>9.4</td>\n",
              "      <td>0.0</td>\n",
              "      <td>9.4</td>\n",
              "      <td>974.300000</td>\n",
              "      <td>0.000000</td>\n",
              "      <td>0</td>\n",
              "      <td>0</td>\n",
              "      <td>0.000000</td>\n",
              "    </tr>\n",
              "    <tr>\n",
              "      <th>2022-01-01 03:30:00</th>\n",
              "      <td>11.6</td>\n",
              "      <td>0.0</td>\n",
              "      <td>2022</td>\n",
              "      <td>1</td>\n",
              "      <td>11.6</td>\n",
              "      <td>0.0</td>\n",
              "      <td>11.6</td>\n",
              "      <td>962.700000</td>\n",
              "      <td>0.000000</td>\n",
              "      <td>0</td>\n",
              "      <td>0</td>\n",
              "      <td>0.000000</td>\n",
              "    </tr>\n",
              "    <tr>\n",
              "      <th>2022-01-01 04:30:00</th>\n",
              "      <td>56.1</td>\n",
              "      <td>0.0</td>\n",
              "      <td>2022</td>\n",
              "      <td>1</td>\n",
              "      <td>56.1</td>\n",
              "      <td>0.0</td>\n",
              "      <td>56.1</td>\n",
              "      <td>906.600000</td>\n",
              "      <td>0.000000</td>\n",
              "      <td>0</td>\n",
              "      <td>0</td>\n",
              "      <td>0.000000</td>\n",
              "    </tr>\n",
              "    <tr>\n",
              "      <th>...</th>\n",
              "      <td>...</td>\n",
              "      <td>...</td>\n",
              "      <td>...</td>\n",
              "      <td>...</td>\n",
              "      <td>...</td>\n",
              "      <td>...</td>\n",
              "      <td>...</td>\n",
              "      <td>...</td>\n",
              "      <td>...</td>\n",
              "      <td>...</td>\n",
              "      <td>...</td>\n",
              "      <td>...</td>\n",
              "    </tr>\n",
              "    <tr>\n",
              "      <th>2022-12-31 19:30:00</th>\n",
              "      <td>21.8</td>\n",
              "      <td>0.0</td>\n",
              "      <td>2022</td>\n",
              "      <td>12</td>\n",
              "      <td>21.8</td>\n",
              "      <td>0.0</td>\n",
              "      <td>21.8</td>\n",
              "      <td>-8656.194163</td>\n",
              "      <td>-8656.194163</td>\n",
              "      <td>9</td>\n",
              "      <td>9000</td>\n",
              "      <td>343.805837</td>\n",
              "    </tr>\n",
              "    <tr>\n",
              "      <th>2022-12-31 20:30:00</th>\n",
              "      <td>15.9</td>\n",
              "      <td>0.0</td>\n",
              "      <td>2022</td>\n",
              "      <td>12</td>\n",
              "      <td>15.9</td>\n",
              "      <td>0.0</td>\n",
              "      <td>15.9</td>\n",
              "      <td>-8672.094163</td>\n",
              "      <td>-8672.094163</td>\n",
              "      <td>9</td>\n",
              "      <td>9000</td>\n",
              "      <td>327.905837</td>\n",
              "    </tr>\n",
              "    <tr>\n",
              "      <th>2022-12-31 21:30:00</th>\n",
              "      <td>16.0</td>\n",
              "      <td>0.0</td>\n",
              "      <td>2022</td>\n",
              "      <td>12</td>\n",
              "      <td>16.0</td>\n",
              "      <td>0.0</td>\n",
              "      <td>16.0</td>\n",
              "      <td>-8688.094163</td>\n",
              "      <td>-8688.094163</td>\n",
              "      <td>9</td>\n",
              "      <td>9000</td>\n",
              "      <td>311.905837</td>\n",
              "    </tr>\n",
              "    <tr>\n",
              "      <th>2022-12-31 22:30:00</th>\n",
              "      <td>10.3</td>\n",
              "      <td>0.0</td>\n",
              "      <td>2022</td>\n",
              "      <td>12</td>\n",
              "      <td>10.3</td>\n",
              "      <td>0.0</td>\n",
              "      <td>10.3</td>\n",
              "      <td>-8698.394163</td>\n",
              "      <td>-8698.394163</td>\n",
              "      <td>9</td>\n",
              "      <td>9000</td>\n",
              "      <td>301.605837</td>\n",
              "    </tr>\n",
              "    <tr>\n",
              "      <th>2022-12-31 23:30:00</th>\n",
              "      <td>8.9</td>\n",
              "      <td>0.0</td>\n",
              "      <td>2022</td>\n",
              "      <td>12</td>\n",
              "      <td>8.9</td>\n",
              "      <td>0.0</td>\n",
              "      <td>8.9</td>\n",
              "      <td>-8707.294163</td>\n",
              "      <td>-8707.294163</td>\n",
              "      <td>9</td>\n",
              "      <td>9000</td>\n",
              "      <td>292.705837</td>\n",
              "    </tr>\n",
              "  </tbody>\n",
              "</table>\n",
              "<p>5088 rows × 12 columns</p>\n",
              "</div>\n",
              "      <button class=\"colab-df-convert\" onclick=\"convertToInteractive('df-f5be1fa4-da9e-493b-8e9f-ab9d7e2585d8')\"\n",
              "              title=\"Convert this dataframe to an interactive table.\"\n",
              "              style=\"display:none;\">\n",
              "        \n",
              "  <svg xmlns=\"http://www.w3.org/2000/svg\" height=\"24px\"viewBox=\"0 0 24 24\"\n",
              "       width=\"24px\">\n",
              "    <path d=\"M0 0h24v24H0V0z\" fill=\"none\"/>\n",
              "    <path d=\"M18.56 5.44l.94 2.06.94-2.06 2.06-.94-2.06-.94-.94-2.06-.94 2.06-2.06.94zm-11 1L8.5 8.5l.94-2.06 2.06-.94-2.06-.94L8.5 2.5l-.94 2.06-2.06.94zm10 10l.94 2.06.94-2.06 2.06-.94-2.06-.94-.94-2.06-.94 2.06-2.06.94z\"/><path d=\"M17.41 7.96l-1.37-1.37c-.4-.4-.92-.59-1.43-.59-.52 0-1.04.2-1.43.59L10.3 9.45l-7.72 7.72c-.78.78-.78 2.05 0 2.83L4 21.41c.39.39.9.59 1.41.59.51 0 1.02-.2 1.41-.59l7.78-7.78 2.81-2.81c.8-.78.8-2.07 0-2.86zM5.41 20L4 18.59l7.72-7.72 1.47 1.35L5.41 20z\"/>\n",
              "  </svg>\n",
              "      </button>\n",
              "      \n",
              "  <style>\n",
              "    .colab-df-container {\n",
              "      display:flex;\n",
              "      flex-wrap:wrap;\n",
              "      gap: 12px;\n",
              "    }\n",
              "\n",
              "    .colab-df-convert {\n",
              "      background-color: #E8F0FE;\n",
              "      border: none;\n",
              "      border-radius: 50%;\n",
              "      cursor: pointer;\n",
              "      display: none;\n",
              "      fill: #1967D2;\n",
              "      height: 32px;\n",
              "      padding: 0 0 0 0;\n",
              "      width: 32px;\n",
              "    }\n",
              "\n",
              "    .colab-df-convert:hover {\n",
              "      background-color: #E2EBFA;\n",
              "      box-shadow: 0px 1px 2px rgba(60, 64, 67, 0.3), 0px 1px 3px 1px rgba(60, 64, 67, 0.15);\n",
              "      fill: #174EA6;\n",
              "    }\n",
              "\n",
              "    [theme=dark] .colab-df-convert {\n",
              "      background-color: #3B4455;\n",
              "      fill: #D2E3FC;\n",
              "    }\n",
              "\n",
              "    [theme=dark] .colab-df-convert:hover {\n",
              "      background-color: #434B5C;\n",
              "      box-shadow: 0px 1px 3px 1px rgba(0, 0, 0, 0.15);\n",
              "      filter: drop-shadow(0px 1px 2px rgba(0, 0, 0, 0.3));\n",
              "      fill: #FFFFFF;\n",
              "    }\n",
              "  </style>\n",
              "\n",
              "      <script>\n",
              "        const buttonEl =\n",
              "          document.querySelector('#df-f5be1fa4-da9e-493b-8e9f-ab9d7e2585d8 button.colab-df-convert');\n",
              "        buttonEl.style.display =\n",
              "          google.colab.kernel.accessAllowed ? 'block' : 'none';\n",
              "\n",
              "        async function convertToInteractive(key) {\n",
              "          const element = document.querySelector('#df-f5be1fa4-da9e-493b-8e9f-ab9d7e2585d8');\n",
              "          const dataTable =\n",
              "            await google.colab.kernel.invokeFunction('convertToInteractive',\n",
              "                                                     [key], {});\n",
              "          if (!dataTable) return;\n",
              "\n",
              "          const docLinkHtml = 'Like what you see? Visit the ' +\n",
              "            '<a target=\"_blank\" href=https://colab.research.google.com/notebooks/data_table.ipynb>data table notebook</a>'\n",
              "            + ' to learn more about interactive tables.';\n",
              "          element.innerHTML = '';\n",
              "          dataTable['output_type'] = 'display_data';\n",
              "          await google.colab.output.renderOutput(dataTable, element);\n",
              "          const docLink = document.createElement('div');\n",
              "          docLink.innerHTML = docLinkHtml;\n",
              "          element.appendChild(docLink);\n",
              "        }\n",
              "      </script>\n",
              "    </div>\n",
              "  </div>\n",
              "  "
            ]
          },
          "metadata": {},
          "execution_count": 57
        }
      ]
    },
    {
      "cell_type": "code",
      "source": [
        "df_winter.groupby(['month']).sum()"
      ],
      "metadata": {
        "id": "96MwruVx5r0C"
      },
      "execution_count": null,
      "outputs": []
    },
    {
      "cell_type": "code",
      "source": [
        "# df_winter_s"
      ],
      "metadata": {
        "id": "I7g1mHau51jD"
      },
      "execution_count": null,
      "outputs": []
    },
    {
      "cell_type": "code",
      "source": [
        "wms = input (\"Enter the winter mid peak time start:\" ) # winter mid start [16:00]\n",
        "wme = input (\"Enter the winter mid peak time end:\" )   # winter mid end  [8:00]"
      ],
      "metadata": {
        "colab": {
          "base_uri": "https://localhost:8080/"
        },
        "id": "w3d0wYFtBMaF",
        "outputId": "67c9982e-c466-4280-ae93-3bb0848c0f8f"
      },
      "execution_count": null,
      "outputs": [
        {
          "name": "stdout",
          "output_type": "stream",
          "text": [
            "Enter the winter mid peak time start:08:00\n",
            "Enter the winter mid peak time end:16:00\n"
          ]
        }
      ]
    },
    {
      "cell_type": "code",
      "source": [
        "sms = input (\"Enter the winter super off peak time start:\" ) #super off peak start\n",
        "sme = input (\"Enter the winter super off peak time end:\" )#super off peak end"
      ],
      "metadata": {
        "id": "6nI56JmQ789s"
      },
      "execution_count": null,
      "outputs": []
    },
    {
      "cell_type": "code",
      "source": [
        "#df = df.iloc[df.index.indexer_between_time('12:30', '18:30')]"
      ],
      "metadata": {
        "id": "ujnsOv1_EdbZ"
      },
      "execution_count": null,
      "outputs": []
    },
    {
      "cell_type": "code",
      "source": [
        "df_winter_peak = df_winter.iloc[df_winter.index.indexer_between_time(wms,wme)]"
      ],
      "metadata": {
        "id": "aDBB1kSuEIUl"
      },
      "execution_count": null,
      "outputs": []
    },
    {
      "cell_type": "code",
      "source": [
        "df_winter_peak_1 = df.groupby(['month']).sum()"
      ],
      "metadata": {
        "id": "GQS00YQ8Fr34"
      },
      "execution_count": null,
      "outputs": []
    },
    {
      "cell_type": "code",
      "source": [
        "df_winter_peak_1"
      ],
      "metadata": {
        "colab": {
          "base_uri": "https://localhost:8080/",
          "height": 457
        },
        "id": "W1Z043xvFvPw",
        "outputId": "1544517d-cd84-4b16-df7c-44ef04ffa499"
      },
      "execution_count": null,
      "outputs": [
        {
          "output_type": "execute_result",
          "data": {
            "text/plain": [
              "       Electricity (kW)  Elctricity Generated (kW)     year           Net  \\\n",
              "month                                                                       \n",
              "1               45075.0              -37637.029618  1504368   7437.970382   \n",
              "2               38231.5              -42616.721666  1358784  -4385.221666   \n",
              "3               33639.1              -49751.744275  1504368 -16112.644275   \n",
              "4               26737.8              -55423.937721  1455840 -28686.137721   \n",
              "5               25382.5              -53953.448073  1504368 -28570.948073   \n",
              "6               38166.1              -50300.329933  1455840 -12134.229933   \n",
              "7               47004.3              -52390.288385  1504368  -5385.988385   \n",
              "8               40549.0              -54353.175960  1504368 -13804.175960   \n",
              "9               28841.7              -50671.583201  1455840 -21829.883201   \n",
              "10              27099.0              -48828.382903  1504368 -21729.382903   \n",
              "11              33462.2              -39365.852092  1455840  -5903.652092   \n",
              "12              46994.6              -37952.238139  1504368   9042.361861   \n",
              "\n",
              "       Battery_Residual   Energy_Used  Battery_Left  Defibrillator_Value  \\\n",
              "month                                                                      \n",
              "1          15380.778939  22818.749321 -3.086146e+06        -3.162309e+06   \n",
              "2          20612.539256  16227.317590 -4.970371e+06        -4.970371e+06   \n",
              "3          27823.452640  11710.808365 -3.646138e+05        -8.106543e+05   \n",
              "4          34532.878438   5846.740717  7.056633e+05         0.000000e+00   \n",
              "5          33112.634898   4541.686825  7.211595e+05         0.000000e+00   \n",
              "6          19241.042535   7106.812602  5.072477e+05        -2.001126e+04   \n",
              "7          14593.877682   9207.889297  4.699028e+04        -1.939996e+05   \n",
              "8          19778.509721   5974.333761  6.292059e+05        -6.764558e+03   \n",
              "9          26597.898584   4768.015383  6.876970e+05         0.000000e+00   \n",
              "10         29858.785396   8129.402493  6.558895e+05        -3.264709e+03   \n",
              "11         19321.861271  13418.209179  2.457392e+05        -1.630527e+05   \n",
              "12         14546.876683  23589.238544 -3.773577e+06        -3.775435e+06   \n",
              "\n",
              "         ll  Offset_Amount  Battery_Recharge  \n",
              "month                                         \n",
              "1      3487        3487000     324690.873791  \n",
              "2      5289        5289000     318629.475999  \n",
              "3       916         916000     105345.701513  \n",
              "4         0              0          0.000000  \n",
              "5         0              0          0.000000  \n",
              "6        40          40000      19988.742838  \n",
              "7       425         425000     231000.378407  \n",
              "8        40          40000      33235.441577  \n",
              "9         0              0          0.000000  \n",
              "10       18          18000      14735.290767  \n",
              "11      250         250000      86947.329269  \n",
              "12     4158        4158000     382564.864536  "
            ],
            "text/html": [
              "\n",
              "  <div id=\"df-b1db6f24-4f78-408c-bc74-2d5158ad93f2\">\n",
              "    <div class=\"colab-df-container\">\n",
              "      <div>\n",
              "<style scoped>\n",
              "    .dataframe tbody tr th:only-of-type {\n",
              "        vertical-align: middle;\n",
              "    }\n",
              "\n",
              "    .dataframe tbody tr th {\n",
              "        vertical-align: top;\n",
              "    }\n",
              "\n",
              "    .dataframe thead th {\n",
              "        text-align: right;\n",
              "    }\n",
              "</style>\n",
              "<table border=\"1\" class=\"dataframe\">\n",
              "  <thead>\n",
              "    <tr style=\"text-align: right;\">\n",
              "      <th></th>\n",
              "      <th>Electricity (kW)</th>\n",
              "      <th>Elctricity Generated (kW)</th>\n",
              "      <th>year</th>\n",
              "      <th>Net</th>\n",
              "      <th>Battery_Residual</th>\n",
              "      <th>Energy_Used</th>\n",
              "      <th>Battery_Left</th>\n",
              "      <th>Defibrillator_Value</th>\n",
              "      <th>ll</th>\n",
              "      <th>Offset_Amount</th>\n",
              "      <th>Battery_Recharge</th>\n",
              "    </tr>\n",
              "    <tr>\n",
              "      <th>month</th>\n",
              "      <th></th>\n",
              "      <th></th>\n",
              "      <th></th>\n",
              "      <th></th>\n",
              "      <th></th>\n",
              "      <th></th>\n",
              "      <th></th>\n",
              "      <th></th>\n",
              "      <th></th>\n",
              "      <th></th>\n",
              "      <th></th>\n",
              "    </tr>\n",
              "  </thead>\n",
              "  <tbody>\n",
              "    <tr>\n",
              "      <th>1</th>\n",
              "      <td>45075.0</td>\n",
              "      <td>-37637.029618</td>\n",
              "      <td>1504368</td>\n",
              "      <td>7437.970382</td>\n",
              "      <td>15380.778939</td>\n",
              "      <td>22818.749321</td>\n",
              "      <td>-3.086146e+06</td>\n",
              "      <td>-3.162309e+06</td>\n",
              "      <td>3487</td>\n",
              "      <td>3487000</td>\n",
              "      <td>324690.873791</td>\n",
              "    </tr>\n",
              "    <tr>\n",
              "      <th>2</th>\n",
              "      <td>38231.5</td>\n",
              "      <td>-42616.721666</td>\n",
              "      <td>1358784</td>\n",
              "      <td>-4385.221666</td>\n",
              "      <td>20612.539256</td>\n",
              "      <td>16227.317590</td>\n",
              "      <td>-4.970371e+06</td>\n",
              "      <td>-4.970371e+06</td>\n",
              "      <td>5289</td>\n",
              "      <td>5289000</td>\n",
              "      <td>318629.475999</td>\n",
              "    </tr>\n",
              "    <tr>\n",
              "      <th>3</th>\n",
              "      <td>33639.1</td>\n",
              "      <td>-49751.744275</td>\n",
              "      <td>1504368</td>\n",
              "      <td>-16112.644275</td>\n",
              "      <td>27823.452640</td>\n",
              "      <td>11710.808365</td>\n",
              "      <td>-3.646138e+05</td>\n",
              "      <td>-8.106543e+05</td>\n",
              "      <td>916</td>\n",
              "      <td>916000</td>\n",
              "      <td>105345.701513</td>\n",
              "    </tr>\n",
              "    <tr>\n",
              "      <th>4</th>\n",
              "      <td>26737.8</td>\n",
              "      <td>-55423.937721</td>\n",
              "      <td>1455840</td>\n",
              "      <td>-28686.137721</td>\n",
              "      <td>34532.878438</td>\n",
              "      <td>5846.740717</td>\n",
              "      <td>7.056633e+05</td>\n",
              "      <td>0.000000e+00</td>\n",
              "      <td>0</td>\n",
              "      <td>0</td>\n",
              "      <td>0.000000</td>\n",
              "    </tr>\n",
              "    <tr>\n",
              "      <th>5</th>\n",
              "      <td>25382.5</td>\n",
              "      <td>-53953.448073</td>\n",
              "      <td>1504368</td>\n",
              "      <td>-28570.948073</td>\n",
              "      <td>33112.634898</td>\n",
              "      <td>4541.686825</td>\n",
              "      <td>7.211595e+05</td>\n",
              "      <td>0.000000e+00</td>\n",
              "      <td>0</td>\n",
              "      <td>0</td>\n",
              "      <td>0.000000</td>\n",
              "    </tr>\n",
              "    <tr>\n",
              "      <th>6</th>\n",
              "      <td>38166.1</td>\n",
              "      <td>-50300.329933</td>\n",
              "      <td>1455840</td>\n",
              "      <td>-12134.229933</td>\n",
              "      <td>19241.042535</td>\n",
              "      <td>7106.812602</td>\n",
              "      <td>5.072477e+05</td>\n",
              "      <td>-2.001126e+04</td>\n",
              "      <td>40</td>\n",
              "      <td>40000</td>\n",
              "      <td>19988.742838</td>\n",
              "    </tr>\n",
              "    <tr>\n",
              "      <th>7</th>\n",
              "      <td>47004.3</td>\n",
              "      <td>-52390.288385</td>\n",
              "      <td>1504368</td>\n",
              "      <td>-5385.988385</td>\n",
              "      <td>14593.877682</td>\n",
              "      <td>9207.889297</td>\n",
              "      <td>4.699028e+04</td>\n",
              "      <td>-1.939996e+05</td>\n",
              "      <td>425</td>\n",
              "      <td>425000</td>\n",
              "      <td>231000.378407</td>\n",
              "    </tr>\n",
              "    <tr>\n",
              "      <th>8</th>\n",
              "      <td>40549.0</td>\n",
              "      <td>-54353.175960</td>\n",
              "      <td>1504368</td>\n",
              "      <td>-13804.175960</td>\n",
              "      <td>19778.509721</td>\n",
              "      <td>5974.333761</td>\n",
              "      <td>6.292059e+05</td>\n",
              "      <td>-6.764558e+03</td>\n",
              "      <td>40</td>\n",
              "      <td>40000</td>\n",
              "      <td>33235.441577</td>\n",
              "    </tr>\n",
              "    <tr>\n",
              "      <th>9</th>\n",
              "      <td>28841.7</td>\n",
              "      <td>-50671.583201</td>\n",
              "      <td>1455840</td>\n",
              "      <td>-21829.883201</td>\n",
              "      <td>26597.898584</td>\n",
              "      <td>4768.015383</td>\n",
              "      <td>6.876970e+05</td>\n",
              "      <td>0.000000e+00</td>\n",
              "      <td>0</td>\n",
              "      <td>0</td>\n",
              "      <td>0.000000</td>\n",
              "    </tr>\n",
              "    <tr>\n",
              "      <th>10</th>\n",
              "      <td>27099.0</td>\n",
              "      <td>-48828.382903</td>\n",
              "      <td>1504368</td>\n",
              "      <td>-21729.382903</td>\n",
              "      <td>29858.785396</td>\n",
              "      <td>8129.402493</td>\n",
              "      <td>6.558895e+05</td>\n",
              "      <td>-3.264709e+03</td>\n",
              "      <td>18</td>\n",
              "      <td>18000</td>\n",
              "      <td>14735.290767</td>\n",
              "    </tr>\n",
              "    <tr>\n",
              "      <th>11</th>\n",
              "      <td>33462.2</td>\n",
              "      <td>-39365.852092</td>\n",
              "      <td>1455840</td>\n",
              "      <td>-5903.652092</td>\n",
              "      <td>19321.861271</td>\n",
              "      <td>13418.209179</td>\n",
              "      <td>2.457392e+05</td>\n",
              "      <td>-1.630527e+05</td>\n",
              "      <td>250</td>\n",
              "      <td>250000</td>\n",
              "      <td>86947.329269</td>\n",
              "    </tr>\n",
              "    <tr>\n",
              "      <th>12</th>\n",
              "      <td>46994.6</td>\n",
              "      <td>-37952.238139</td>\n",
              "      <td>1504368</td>\n",
              "      <td>9042.361861</td>\n",
              "      <td>14546.876683</td>\n",
              "      <td>23589.238544</td>\n",
              "      <td>-3.773577e+06</td>\n",
              "      <td>-3.775435e+06</td>\n",
              "      <td>4158</td>\n",
              "      <td>4158000</td>\n",
              "      <td>382564.864536</td>\n",
              "    </tr>\n",
              "  </tbody>\n",
              "</table>\n",
              "</div>\n",
              "      <button class=\"colab-df-convert\" onclick=\"convertToInteractive('df-b1db6f24-4f78-408c-bc74-2d5158ad93f2')\"\n",
              "              title=\"Convert this dataframe to an interactive table.\"\n",
              "              style=\"display:none;\">\n",
              "        \n",
              "  <svg xmlns=\"http://www.w3.org/2000/svg\" height=\"24px\"viewBox=\"0 0 24 24\"\n",
              "       width=\"24px\">\n",
              "    <path d=\"M0 0h24v24H0V0z\" fill=\"none\"/>\n",
              "    <path d=\"M18.56 5.44l.94 2.06.94-2.06 2.06-.94-2.06-.94-.94-2.06-.94 2.06-2.06.94zm-11 1L8.5 8.5l.94-2.06 2.06-.94-2.06-.94L8.5 2.5l-.94 2.06-2.06.94zm10 10l.94 2.06.94-2.06 2.06-.94-2.06-.94-.94-2.06-.94 2.06-2.06.94z\"/><path d=\"M17.41 7.96l-1.37-1.37c-.4-.4-.92-.59-1.43-.59-.52 0-1.04.2-1.43.59L10.3 9.45l-7.72 7.72c-.78.78-.78 2.05 0 2.83L4 21.41c.39.39.9.59 1.41.59.51 0 1.02-.2 1.41-.59l7.78-7.78 2.81-2.81c.8-.78.8-2.07 0-2.86zM5.41 20L4 18.59l7.72-7.72 1.47 1.35L5.41 20z\"/>\n",
              "  </svg>\n",
              "      </button>\n",
              "      \n",
              "  <style>\n",
              "    .colab-df-container {\n",
              "      display:flex;\n",
              "      flex-wrap:wrap;\n",
              "      gap: 12px;\n",
              "    }\n",
              "\n",
              "    .colab-df-convert {\n",
              "      background-color: #E8F0FE;\n",
              "      border: none;\n",
              "      border-radius: 50%;\n",
              "      cursor: pointer;\n",
              "      display: none;\n",
              "      fill: #1967D2;\n",
              "      height: 32px;\n",
              "      padding: 0 0 0 0;\n",
              "      width: 32px;\n",
              "    }\n",
              "\n",
              "    .colab-df-convert:hover {\n",
              "      background-color: #E2EBFA;\n",
              "      box-shadow: 0px 1px 2px rgba(60, 64, 67, 0.3), 0px 1px 3px 1px rgba(60, 64, 67, 0.15);\n",
              "      fill: #174EA6;\n",
              "    }\n",
              "\n",
              "    [theme=dark] .colab-df-convert {\n",
              "      background-color: #3B4455;\n",
              "      fill: #D2E3FC;\n",
              "    }\n",
              "\n",
              "    [theme=dark] .colab-df-convert:hover {\n",
              "      background-color: #434B5C;\n",
              "      box-shadow: 0px 1px 3px 1px rgba(0, 0, 0, 0.15);\n",
              "      filter: drop-shadow(0px 1px 2px rgba(0, 0, 0, 0.3));\n",
              "      fill: #FFFFFF;\n",
              "    }\n",
              "  </style>\n",
              "\n",
              "      <script>\n",
              "        const buttonEl =\n",
              "          document.querySelector('#df-b1db6f24-4f78-408c-bc74-2d5158ad93f2 button.colab-df-convert');\n",
              "        buttonEl.style.display =\n",
              "          google.colab.kernel.accessAllowed ? 'block' : 'none';\n",
              "\n",
              "        async function convertToInteractive(key) {\n",
              "          const element = document.querySelector('#df-b1db6f24-4f78-408c-bc74-2d5158ad93f2');\n",
              "          const dataTable =\n",
              "            await google.colab.kernel.invokeFunction('convertToInteractive',\n",
              "                                                     [key], {});\n",
              "          if (!dataTable) return;\n",
              "\n",
              "          const docLinkHtml = 'Like what you see? Visit the ' +\n",
              "            '<a target=\"_blank\" href=https://colab.research.google.com/notebooks/data_table.ipynb>data table notebook</a>'\n",
              "            + ' to learn more about interactive tables.';\n",
              "          element.innerHTML = '';\n",
              "          dataTable['output_type'] = 'display_data';\n",
              "          await google.colab.output.renderOutput(dataTable, element);\n",
              "          const docLink = document.createElement('div');\n",
              "          docLink.innerHTML = docLinkHtml;\n",
              "          element.appendChild(docLink);\n",
              "        }\n",
              "      </script>\n",
              "    </div>\n",
              "  </div>\n",
              "  "
            ]
          },
          "metadata": {},
          "execution_count": 65
        }
      ]
    },
    {
      "cell_type": "code",
      "source": [
        "#df_winter_peak = df_winter.between_time(wms,wme)"
      ],
      "metadata": {
        "id": "BeY6MVc2B_ph"
      },
      "execution_count": null,
      "outputs": []
    },
    {
      "cell_type": "code",
      "source": [
        "df_winter_nopeak = df_winter.between_time(sms,sme)"
      ],
      "metadata": {
        "id": "XA5X4Nt_8Rw5"
      },
      "execution_count": null,
      "outputs": []
    },
    {
      "cell_type": "code",
      "source": [
        "df_winter_offpeak = df_winter.between_time(wme,sms)"
      ],
      "metadata": {
        "id": "-0QKb-K3hhtV"
      },
      "execution_count": null,
      "outputs": []
    },
    {
      "cell_type": "code",
      "source": [
        "df_winter_peak_1 = df.groupby(['Month']).sum()\n",
        "df_winter_nopeak_1 = df_winter_nopeak.groupby(['Month']).sum()\n",
        "df_winter_offpeak_1 = df_winter_offpeak.groupby(['Month']).sum()"
      ],
      "metadata": {
        "id": "HrglljKaI5xo"
      },
      "execution_count": null,
      "outputs": []
    },
    {
      "cell_type": "code",
      "source": [
        "df_winter_max_midpeak = df_winter.between_time(\"16:15\",\"16:30\")\n",
        "df_winter_max_offpeak = df_winter.between_time(\"21:30\",\"21:45\")\n",
        "df_winter_max_superoffpeak = df_winter.between_time(\"13:15\",\"13:30\")"
      ],
      "metadata": {
        "id": "FkBaFt0mT9c1"
      },
      "execution_count": null,
      "outputs": []
    },
    {
      "cell_type": "code",
      "source": [
        "df_winter_max_midpeak"
      ],
      "metadata": {
        "id": "t9jyl7tIhoeW"
      },
      "execution_count": null,
      "outputs": []
    },
    {
      "cell_type": "code",
      "source": [
        "# peak = np.where((df_winter_max_midpeak[\"N_BD.aps\"]>0.64) & (df[\"Time\"]<0.9))[0]\n",
        "# dSC_2 = df[\"N_DD_SC I.aps\"][peak]"
      ],
      "metadata": {
        "id": "ku8jX4uEjUCF"
      },
      "execution_count": null,
      "outputs": []
    },
    {
      "cell_type": "code",
      "source": [
        "df_winter_peak.head(10)"
      ],
      "metadata": {
        "id": "L0o6PLlGCDhC"
      },
      "execution_count": null,
      "outputs": []
    },
    {
      "cell_type": "code",
      "source": [
        "df_winter_nopeak.head(20)"
      ],
      "metadata": {
        "id": "LsGrKcccif86"
      },
      "execution_count": null,
      "outputs": []
    },
    {
      "cell_type": "code",
      "source": [
        "# df_peak = df.between_time(\"16:00\", \"21:00\")"
      ],
      "metadata": {
        "id": "9eoPTOBo8rBk"
      },
      "execution_count": null,
      "outputs": []
    },
    {
      "cell_type": "code",
      "source": [
        "#df_peak.head(3)"
      ],
      "metadata": {
        "id": "MuPgaky72IEu"
      },
      "execution_count": null,
      "outputs": []
    },
    {
      "cell_type": "code",
      "source": [
        "df_winter_peak_1 = df_winter_peak.groupby(['Month']).sum()\n",
        "df_winter_nopeak_1 = df_winter_nopeak.groupby(['Month']).sum()\n",
        "df_winter_offpeak_1 = df_winter_offpeak.groupby(['Month']).sum()"
      ],
      "metadata": {
        "id": "HuGX6qQD2amf"
      },
      "execution_count": null,
      "outputs": []
    },
    {
      "cell_type": "code",
      "source": [
        "df_winter_max_midpeak_1 = df_winter_max_midpeak.groupby(['Month']).sum() \n",
        "df_winter_max_offpeak_1 = df_winter_max_offpeak.groupby(['Month']).sum() \n",
        "df_winter_max_superoffpeak_1 = df_winter_max_superoffpeak.groupby(['Month']).sum()"
      ],
      "metadata": {
        "id": "xVHaOJfjUqDx"
      },
      "execution_count": null,
      "outputs": []
    },
    {
      "cell_type": "markdown",
      "source": [
        "# **Pricing**"
      ],
      "metadata": {
        "id": "uHp0WpZkT2Os"
      }
    },
    {
      "cell_type": "code",
      "source": [
        "# df_winter_peak_1[\"Delivery charge\"] = df_winter_peak_1[\"N_DD_SC II.aps\"]*0.02044* 0.293071 # convert kBtu to Kwh"
      ],
      "metadata": {
        "id": "VauCvWTv2sGR"
      },
      "execution_count": null,
      "outputs": []
    },
    {
      "cell_type": "code",
      "source": [
        "# Mid Peak\n",
        "price_columns = [column for column in df_winter_peak_1]\n",
        "for column in df_winter_peak_1:\n",
        "    col_pd = df_winter_peak_1[price_columns].multiply(0.09436 * 0.293071, axis=\"index\")"
      ],
      "metadata": {
        "id": "H0BUrYfmK7J_"
      },
      "execution_count": null,
      "outputs": []
    },
    {
      "cell_type": "code",
      "source": [
        "# Off peak\n",
        "price_columns_2 = [column for column in df_winter_offpeak_1]\n",
        "for column in df_winter_offpeak_1:\n",
        "    col_pd_2 = df_winter_offpeak_1[price_columns_2].multiply(0.08261 * 0.293071, axis=\"index\")"
      ],
      "metadata": {
        "id": "xs7XIS9Zm1CS"
      },
      "execution_count": null,
      "outputs": []
    },
    {
      "cell_type": "code",
      "source": [
        "price_winter_peak_1 = col_pd.rename({'N_BD.aps': 'N_BD Price_peak', 'N_DX.aps': 'N_DX Price_peak','N_CP.aps': 'N_CP Price_peak'}, axis=1)"
      ],
      "metadata": {
        "id": "IPpbKHtASm_j"
      },
      "execution_count": null,
      "outputs": []
    },
    {
      "cell_type": "code",
      "source": [
        "price_winter_offpeak_1 = col_pd_2.rename({'N_BD.aps': 'N_BD Price_offpeak', 'N_DX.aps': 'N_DX Price_offpeak','N_CP.aps': 'N_CP Price_offpeak'}, axis=1)"
      ],
      "metadata": {
        "id": "MDc6-J3Ks8zP"
      },
      "execution_count": null,
      "outputs": []
    },
    {
      "cell_type": "code",
      "source": [
        "price_winter_offpeak_1.head(3) "
      ],
      "metadata": {
        "id": "-JKadgRFlv5n"
      },
      "execution_count": null,
      "outputs": []
    },
    {
      "cell_type": "code",
      "source": [
        "price_winter_peak_1.head(3)"
      ],
      "metadata": {
        "id": "h4HmKNbUNvqT"
      },
      "execution_count": null,
      "outputs": []
    },
    {
      "cell_type": "code",
      "source": [
        "result = pd.concat([price_winter_offpeak_1, price_winter_peak_1], axis=1)"
      ],
      "metadata": {
        "id": "Nl1sfN7Atp0m"
      },
      "execution_count": null,
      "outputs": []
    },
    {
      "cell_type": "code",
      "source": [
        "result"
      ],
      "metadata": {
        "id": "xSN9CxVjtz97"
      },
      "execution_count": null,
      "outputs": []
    },
    {
      "cell_type": "code",
      "source": [
        "qqq = result[[\"N_BD Price_offpeak\",\"N_BD Price_peak\"]]"
      ],
      "metadata": {
        "id": "lgEqPrOwvQOH"
      },
      "execution_count": null,
      "outputs": []
    },
    {
      "cell_type": "code",
      "source": [
        "qqq.head()"
      ],
      "metadata": {
        "id": "F5krT55kvyFZ"
      },
      "execution_count": null,
      "outputs": []
    },
    {
      "cell_type": "code",
      "source": [
        "qqq[\"total price\"] = qqq[\"N_BD Price_offpeak\"] + qqq[\"N_BD Price_peak\"]"
      ],
      "metadata": {
        "id": "dD80ixGCLvlG"
      },
      "execution_count": null,
      "outputs": []
    },
    {
      "cell_type": "code",
      "source": [
        "qqq.head()"
      ],
      "metadata": {
        "id": "NnE_Mt19MDyK"
      },
      "execution_count": null,
      "outputs": []
    },
    {
      "cell_type": "code",
      "source": [
        "import matplotlib.pyplot as plt"
      ],
      "metadata": {
        "id": "mDD1vi3dwSVQ"
      },
      "execution_count": null,
      "outputs": []
    },
    {
      "cell_type": "code",
      "source": [
        "qqq.plot.bar()"
      ],
      "metadata": {
        "id": "2zWiQfTkwCbu"
      },
      "execution_count": null,
      "outputs": []
    },
    {
      "cell_type": "code",
      "source": [
        "df_winter_max_midpeak_1.head()"
      ],
      "metadata": {
        "id": "Fm_ZkAV7XvHv"
      },
      "execution_count": null,
      "outputs": []
    },
    {
      "cell_type": "code",
      "source": [
        "for column in df_winter_max_midpeak_1 :\n",
        "    price = df_winter_max_midpeak_1[df_winter_max_midpeak_1_columns].multiply(2.92 * 0.293071, axis=\"index\")"
      ],
      "metadata": {
        "id": "vKYJ-z22WQxG"
      },
      "execution_count": null,
      "outputs": []
    },
    {
      "cell_type": "code",
      "source": [
        "df_winter_max_midpeak_1 \n",
        "df_winter_max_offpeak_1 \n",
        "df_winter_max_superoffpeak_1"
      ],
      "metadata": {
        "id": "fUH0jmFyWHEI"
      },
      "execution_count": null,
      "outputs": []
    },
    {
      "cell_type": "code",
      "source": [
        "price_winter_peak_1.plot()"
      ],
      "metadata": {
        "id": "cPv3iQzHS_C9"
      },
      "execution_count": null,
      "outputs": []
    },
    {
      "cell_type": "code",
      "source": [
        "df_winter_peak_1"
      ],
      "metadata": {
        "id": "s3B1jwP7Bq6a"
      },
      "execution_count": null,
      "outputs": []
    },
    {
      "cell_type": "code",
      "source": [
        "df_winter_peak_1.plot(figsize = (20,16))"
      ],
      "metadata": {
        "id": "zk8HlTWm2wTD"
      },
      "execution_count": null,
      "outputs": []
    },
    {
      "cell_type": "code",
      "source": [
        "# np.where((df[\"Time\"]> start_date.hour) & (df[\"Time\"]< end_date.hour))"
      ],
      "metadata": {
        "id": "bV3S4YMPbesU"
      },
      "execution_count": null,
      "outputs": []
    },
    {
      "cell_type": "code",
      "metadata": {
        "id": "Pph5E_r-7H0I"
      },
      "source": [
        "# np.where((df[\"Time\"]>0.64) & (df[\"Time\"]<0.9))"
      ],
      "execution_count": null,
      "outputs": []
    },
    {
      "cell_type": "code",
      "metadata": {
        "id": "mW5mb2ov8jmI"
      },
      "source": [
        "# peak = np.where((df[\"Time\"]>0.64) & (df[\"Time\"]<0.9))[0]\n",
        "# dSC_2 = df[\"N_DD_SC I.aps\"][peak]\n",
        "#dSC_22 = df[\"Month\"][peak]\n",
        "# dSC_2.to_excel(\"peak_values_2.xlsx\",\n",
        "             #sheet_name='Sheet_name_1')\n",
        "#dSC_22.to_excel(\"peak_month_2.xlsx\",\n",
        "            # sheet_name='Sheet_name_1')"
      ],
      "execution_count": null,
      "outputs": []
    },
    {
      "cell_type": "code",
      "source": [
        "# nopeak_1 = np.where((df[\"Time\"]< 0.64))[0]"
      ],
      "metadata": {
        "id": "nZhiXhupz3vp"
      },
      "execution_count": null,
      "outputs": []
    },
    {
      "cell_type": "code",
      "source": [
        "# nopeak_2 = np.where((df[\"Time\"]>0.9))[0]"
      ],
      "metadata": {
        "id": "DzFk7XHo0Bxw"
      },
      "execution_count": null,
      "outputs": []
    },
    {
      "cell_type": "code",
      "source": [
        "#nopeak_1_kbtu  = df[\"N_DD_SC I.aps\"][nopeak_1]\n",
        "#nopeak_1_month = df[\"Month\"][nopeak_1]\n",
        "#nopeak_2_kbtu  = df[\"N_DD_SC I.aps\"][nopeak_2]\n",
        "#nopeak_2_month = df[\"Month\"][nopeak_2]"
      ],
      "metadata": {
        "id": "siVs-ltj0aH_"
      },
      "execution_count": null,
      "outputs": []
    },
    {
      "cell_type": "code",
      "source": [
        "#dx_1 = pd.concat([nopeak_1_kbtu, nopeak_1_month], axis = 1)"
      ],
      "metadata": {
        "id": "t4tJwNwKxt2z"
      },
      "execution_count": null,
      "outputs": []
    },
    {
      "cell_type": "code",
      "source": [
        "#dx_2 = pd.concat([nopeak_2_kbtu, nopeak_2_month], axis = 1)"
      ],
      "metadata": {
        "id": "AZ4xjx6A2AJ1"
      },
      "execution_count": null,
      "outputs": []
    },
    {
      "cell_type": "code",
      "source": [
        "#dx_1.head()"
      ],
      "metadata": {
        "id": "QZeRRjmC1BDk"
      },
      "execution_count": null,
      "outputs": []
    },
    {
      "cell_type": "code",
      "source": [
        "#da_1 = dx_1.groupby(['Month']).sum()"
      ],
      "metadata": {
        "id": "OaLNtfrNzZVt"
      },
      "execution_count": null,
      "outputs": []
    },
    {
      "cell_type": "code",
      "source": [
        "#da_2 = dx_2.groupby(['Month']).sum()"
      ],
      "metadata": {
        "id": "Zk-sAjk32Ef2"
      },
      "execution_count": null,
      "outputs": []
    },
    {
      "cell_type": "code",
      "source": [
        "#da_1"
      ],
      "metadata": {
        "id": "u2v-vnVSzcvt"
      },
      "execution_count": null,
      "outputs": []
    },
    {
      "cell_type": "code",
      "metadata": {
        "id": "B4B8WJSEAwgo"
      },
      "source": [
        "#da_2"
      ],
      "execution_count": null,
      "outputs": []
    },
    {
      "cell_type": "code",
      "metadata": {
        "id": "n6mrCGpeA-lz"
      },
      "source": [
        "# df_2 = pd.merge(dSC_2, dSC_22, on=\"movie_title\")"
      ],
      "execution_count": null,
      "outputs": []
    },
    {
      "cell_type": "code",
      "source": [
        "#dt = pd.concat([dSC_2, dSC_22], axis = 1)"
      ],
      "metadata": {
        "id": "NNHk7enGumNC"
      },
      "execution_count": null,
      "outputs": []
    },
    {
      "cell_type": "code",
      "source": [
        "#dt"
      ],
      "metadata": {
        "id": "r-4gtRo-utb3"
      },
      "execution_count": null,
      "outputs": []
    },
    {
      "cell_type": "code",
      "source": [
        "#dq = dt.groupby(['Month']).sum()"
      ],
      "metadata": {
        "id": "gOsBYZZ9v1x0"
      },
      "execution_count": null,
      "outputs": []
    },
    {
      "cell_type": "code",
      "source": [
        "#dq"
      ],
      "metadata": {
        "id": "yHhhvynbxVWL"
      },
      "execution_count": null,
      "outputs": []
    },
    {
      "cell_type": "code",
      "source": [
        "import matplotlib.pyplot as plt\n"
      ],
      "metadata": {
        "id": "0HOYHBxYvAtz"
      },
      "execution_count": null,
      "outputs": []
    },
    {
      "cell_type": "code",
      "source": [
        "#dq.plot(figsize = (20,10))"
      ],
      "metadata": {
        "id": "Egh7-OJNvDLM"
      },
      "execution_count": null,
      "outputs": []
    },
    {
      "cell_type": "code",
      "source": [
        "#da_1.plot(figsize = (20,10))\n"
      ],
      "metadata": {
        "id": "_V8Q3SWh2kBu"
      },
      "execution_count": null,
      "outputs": []
    },
    {
      "cell_type": "code",
      "source": [
        "#da_2.plot(figsize = (20,10))"
      ],
      "metadata": {
        "id": "T8VcW30y2mfq"
      },
      "execution_count": null,
      "outputs": []
    },
    {
      "cell_type": "code",
      "metadata": {
        "id": "8jVVnWWJB077"
      },
      "source": [
        "#df_1.head()"
      ],
      "execution_count": null,
      "outputs": []
    },
    {
      "cell_type": "code",
      "metadata": {
        "id": "-vDsQ1-UDJBT"
      },
      "source": [
        "#dc = pd.read_excel(\"/content/peak_price.xlsx\")\n",
        "#dc.head()"
      ],
      "execution_count": null,
      "outputs": []
    },
    {
      "cell_type": "code",
      "metadata": {
        "id": "gTTSOjD-ELtK"
      },
      "source": [
        "#dc.describe()"
      ],
      "execution_count": null,
      "outputs": []
    },
    {
      "cell_type": "code",
      "metadata": {
        "id": "KAunmSRIDikm"
      },
      "source": [
        "#dc[dc['Month'] == \"Jan\"].describe()"
      ],
      "execution_count": null,
      "outputs": []
    },
    {
      "cell_type": "code",
      "metadata": {
        "id": "RRKwqi01EbTT"
      },
      "source": [
        "#x = dc.groupby('Month')['N_DD_SC I.aps'].sum()"
      ],
      "execution_count": null,
      "outputs": []
    },
    {
      "cell_type": "code",
      "metadata": {
        "id": "ZFcx6nibxLC3"
      },
      "source": [
        "#dc.groupby(['Month']).sum()"
      ],
      "execution_count": null,
      "outputs": []
    },
    {
      "cell_type": "code",
      "metadata": {
        "id": "XX3HPRyZvzEd"
      },
      "source": [
        "x.to_excel(\"/content/peak_month_sum_2.xlsx\")"
      ],
      "execution_count": null,
      "outputs": []
    },
    {
      "cell_type": "code",
      "metadata": {
        "id": "ECKdPGeZ0ZBa"
      },
      "source": [
        "dc[dc['Month'] == \"Jan\"][\"N_DD_SC II.aps\"].sum()"
      ],
      "execution_count": null,
      "outputs": []
    },
    {
      "cell_type": "code",
      "metadata": {
        "id": "SMoBuBwO-PgB"
      },
      "source": [
        "y = dc.groupby(['Month']).max()"
      ],
      "execution_count": null,
      "outputs": []
    },
    {
      "cell_type": "code",
      "metadata": {
        "id": "MYkhbDHC-o9R"
      },
      "source": [
        "y.to_excel(\"/content/SC2_on_demand_charges.xlsx\")"
      ],
      "execution_count": null,
      "outputs": []
    }
  ]
}